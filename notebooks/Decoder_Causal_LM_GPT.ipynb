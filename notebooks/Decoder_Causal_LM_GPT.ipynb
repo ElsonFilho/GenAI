{
  "cells": [
    {
      "cell_type": "markdown",
      "metadata": {
        "id": "21aaa1cb"
      },
      "source": [
        "# Decoder Causal Language Models (GPT-like)\n",
        "Learn how to build and understand GPT-style language models with causal masking."
      ]
    },
    {
      "cell_type": "markdown",
      "metadata": {
        "id": "83219eed"
      },
      "source": [
        "## Setup and Imports"
      ]
    },
    {
      "cell_type": "code",
      "execution_count": 17,
      "metadata": {
        "id": "3818e1fd"
      },
      "outputs": [],
      "source": [
        "!pip install transformers datasets --quiet\n",
        "import torch\n",
        "from transformers import AutoTokenizer, AutoModelForCausalLM\n",
        "from datasets import load_dataset"
      ]
    },
    {
      "cell_type": "markdown",
      "metadata": {
        "id": "c9d0021c"
      },
      "source": [
        "## Dataset\n",
        "We’ll use a small sample."
      ]
    },
    {
      "cell_type": "code",
      "execution_count": 26,
      "metadata": {
        "id": "ff42fa40"
      },
      "outputs": [],
      "source": [
        "text = (\n",
        "    \"Language models are powerful tools for natural language understanding. \"\n",
        "    \"GPT-like models use autoregressive decoding to predict the next word based only on past context. \"\n",
        "    \"This allows them to generate fluent and coherent text.\"\n",
        ")"
      ]
    },
    {
      "cell_type": "markdown",
      "metadata": {
        "id": "10914ef7"
      },
      "source": [
        "## Tokenization\n",
        "We tokenize the text using a GPT-style tokenizer."
      ]
    },
    {
      "cell_type": "code",
      "execution_count": 27,
      "metadata": {
        "colab": {
          "base_uri": "https://localhost:8080/"
        },
        "id": "e8f1b1dc",
        "outputId": "3bff284f-e3f5-4cf2-a912-aa5664929ed8"
      },
      "outputs": [
        {
          "output_type": "stream",
          "name": "stderr",
          "text": [
            "Setting `pad_token_id` to `eos_token_id`:50256 for open-end generation.\n"
          ]
        }
      ],
      "source": [
        "tokenizer = AutoTokenizer.from_pretrained(\"gpt2\")\n",
        "if tokenizer.pad_token is None:\n",
        "    tokenizer.pad_token = tokenizer.eos_token\n",
        "\n",
        "# When tokenizing your input text\n",
        "inputs = tokenizer(text, return_tensors=\"pt\", padding=True)\n",
        "\n",
        "# When generating text with the model\n",
        "output = model.generate(\n",
        "    inputs[\"input_ids\"],\n",
        "    attention_mask=inputs[\"attention_mask\"], # Crucial for reliable results\n",
        "    max_length=50 # Adjust as needed to control output length\n",
        ")"
      ]
    },
    {
      "cell_type": "markdown",
      "metadata": {
        "id": "360bce40"
      },
      "source": [
        "## Causal Masking\n",
        "Causal (autoregressive) models are trained so each token can only 'see' previous tokens.\n",
        "\n",
        "This is implemented using triangular masking during training."
      ]
    },
    {
      "cell_type": "markdown",
      "metadata": {
        "id": "0557d956"
      },
      "source": [
        "## Load GPT-2 Model"
      ]
    },
    {
      "cell_type": "code",
      "execution_count": 28,
      "metadata": {
        "colab": {
          "base_uri": "https://localhost:8080/"
        },
        "id": "ea728030",
        "outputId": "cfc1472a-e3f0-40d4-f341-12a265c9f81d"
      },
      "outputs": [
        {
          "output_type": "stream",
          "name": "stdout",
          "text": [
            "Language models are powerful tools for natural language understanding. GPT-like models use autoregressive decoding to predict the next word based only on past context. This allows them to generate fluent and coherent text. Natural language models are most useful in teaching about natural language cognition to children who have been taught the basics of language training from adult learners, because these early training sessions and the lessons were able to improve comprehension by adults with better understanding. These models are useful\n"
          ]
        }
      ],
      "source": [
        "from transformers import AutoModelForCausalLM\n",
        "\n",
        "model = AutoModelForCausalLM.from_pretrained(\"gpt2\")\n",
        "model.eval()\n",
        "\n",
        "output = model.generate(\n",
        "    inputs[\"input_ids\"],\n",
        "    attention_mask=inputs[\"attention_mask\"],\n",
        "    max_new_tokens=50,\n",
        "    do_sample=True,\n",
        "    pad_token_id=tokenizer.eos_token_id\n",
        ")\n",
        "\n",
        "print(tokenizer.decode(output[0], skip_special_tokens=True))"
      ]
    },
    {
      "cell_type": "markdown",
      "metadata": {
        "id": "a952f2f3"
      },
      "source": [
        "## Generate Text"
      ]
    },
    {
      "cell_type": "code",
      "execution_count": 33,
      "metadata": {
        "colab": {
          "base_uri": "https://localhost:8080/"
        },
        "id": "4ff30793",
        "outputId": "9cd920b1-b015-43ac-b1d1-cc8142368787"
      },
      "outputs": [
        {
          "output_type": "stream",
          "name": "stderr",
          "text": [
            "The attention mask and the pad token id were not set. As a consequence, you may observe unexpected behavior. Please pass your input's `attention_mask` to obtain reliable results.\n",
            "Setting `pad_token_id` to `eos_token_id`:50256 for open-end generation.\n"
          ]
        },
        {
          "output_type": "stream",
          "name": "stdout",
          "text": [
            "Language models are powerful tools for natural language understanding. GPT-like models use autoregressive decoding to predict the next word based only on past context. This allows them to generate fluent and coherent text. For example, if one learns this model using text that is not syntactically ambiguous, one would learn how words like 'A' and 'O' are related to an object and that both are related to the same word as well as other objects\n",
            "Language models are powerful tools for natural language understanding. GPT-like models use autoregressive decoding to predict the next word based only on past context. This allows them to generate fluent and coherent text. Natural language models are most useful in teaching about natural language cognition to children who have been taught the basics of language training from adult learners, because these early training sessions and the lessons were able to improve comprehension by adults with better understanding. These models are useful\n"
          ]
        }
      ],
      "source": [
        "generated = model.generate(inputs[\"input_ids\"], max_new_tokens=50, do_sample=True)\n",
        "\n",
        "# Decode the output\n",
        "generated_text = tokenizer.decode(output[0], skip_special_tokens=True)\n",
        "print(generated_text)"
      ]
    },
    {
      "cell_type": "code",
      "source": [],
      "metadata": {
        "colab": {
          "base_uri": "https://localhost:8080/"
        },
        "id": "DVtPlnNaTJml",
        "outputId": "7519e5e4-2ac2-4e83-95bf-7b149d63167f"
      },
      "execution_count": 32,
      "outputs": [
        {
          "output_type": "stream",
          "name": "stdout",
          "text": [
            "Language models are powerful tools for natural language understanding. GPT-like models use autoregressive decoding to predict the next word based only on past context. This allows them to generate fluent and coherent text. Natural language models are most useful in teaching about natural language cognition to children who have been taught the basics of language training from adult learners, because these early training sessions and the lessons were able to improve comprehension by adults with better understanding. These models are useful\n"
          ]
        }
      ]
    },
    {
      "cell_type": "markdown",
      "metadata": {
        "id": "134d3a95"
      },
      "source": [
        "## Visualizing the Attention Mask (Optional, Educational Only)"
      ]
    },
    {
      "cell_type": "code",
      "execution_count": 31,
      "metadata": {
        "colab": {
          "base_uri": "https://localhost:8080/",
          "height": 472
        },
        "id": "8c161e54",
        "outputId": "2b64cf39-18e7-40da-df41-561b53760601"
      },
      "outputs": [
        {
          "output_type": "display_data",
          "data": {
            "text/plain": [
              "<Figure size 640x480 with 1 Axes>"
            ],
            "image/png": "[encoded data removed]"
          },
          "metadata": {}
        }
      ],
      "source": [
        "import matplotlib.pyplot as plt\n",
        "\n",
        "def show_causal_mask(seq_len):\n",
        "    mask = torch.tril(torch.ones(seq_len, seq_len))\n",
        "    plt.imshow(mask, cmap=\"gray\")\n",
        "    plt.title(\"Causal Mask\")\n",
        "    plt.xlabel(\"Input Positions\")\n",
        "    plt.ylabel(\"Output Positions\")\n",
        "    plt.show()\n",
        "\n",
        "show_causal_mask(20)"
      ]
    },
    {
      "cell_type": "code",
      "source": [
        "print(\"\\n--- Interactive Text Generation ---\")\n",
        "print(\"Enter your prompt below. Type 'quit' or 'exit' to stop.\")\n",
        "\n",
        "while True:\n",
        "    # 1. Get input from the user\n",
        "    user_prompt = input(\"\\nYour prompt: \")\n",
        "\n",
        "    if user_prompt.lower() in ['quit', 'exit']:\n",
        "        print(\"Exiting interactive generation.\")\n",
        "        break\n",
        "\n",
        "    if not user_prompt.strip():\n",
        "        print(\"Prompt cannot be empty. Please enter some text.\")\n",
        "        continue\n",
        "\n",
        "    try:\n",
        "        # 2. Tokenize the user's input\n",
        "        # We ensure padding is handled and return PyTorch tensors\n",
        "        inputs = tokenizer(user_prompt, return_tensors=\"pt\", padding=True)\n",
        "\n",
        "        # 3. Generate text using the model\n",
        "        # Pass both input_ids and attention_mask for reliable results\n",
        "        # max_new_tokens controls how much new text is generated\n",
        "        # do_sample=True enables sampling (more creative/diverse output)\n",
        "        # pad_token_id is explicitly set to avoid warnings, though it should be handled by tokenizer.pad_token\n",
        "        generated_output = model.generate(\n",
        "            inputs[\"input_ids\"],\n",
        "            attention_mask=inputs[\"attention_mask\"],\n",
        "            max_new_tokens=50, # Generate up to 50 new tokens\n",
        "            do_sample=True,\n",
        "            temperature=0.7, # Controls randomness (higher = more random)\n",
        "            top_k=50,        # Limits sampling to top_k most probable words\n",
        "            pad_token_id=tokenizer.eos_token_id # Explicitly set pad_token_id\n",
        "        )\n",
        "\n",
        "        # 4. Decode the generated output\n",
        "        # skip_special_tokens=True removes special tokens like EOS from the output\n",
        "        decoded_text = tokenizer.decode(generated_output[0], skip_special_tokens=True)\n",
        "\n",
        "        print(\"\\nGenerated Text:\")\n",
        "        print(decoded_text)\n",
        "\n",
        "    except Exception as e:\n",
        "        print(f\"An error occurred during generation: {e}\")\n",
        "        print(\"Please try a different prompt or restart the runtime if the issue persists.\")"
      ],
      "metadata": {
        "colab": {
          "base_uri": "https://localhost:8080/"
        },
        "id": "gHmgn96XUaZc",
        "outputId": "2b1f3da5-35dc-4977-efa0-1afad3847c7d"
      },
      "execution_count": 34,
      "outputs": [
        {
          "output_type": "stream",
          "name": "stdout",
          "text": [
            "\n",
            "--- Interactive Text Generation ---\n",
            "Enter your prompt below. Type 'quit' or 'exit' to stop.\n",
            "\n",
            "Your prompt: hi, how are you? Tell me more about GPT2\n",
            "\n",
            "Generated Text:\n",
            "hi, how are you? Tell me more about GPT2, what are you thinking about?\n",
            "\n",
            "In fact, I have been thinking about this a lot lately. It's been a big focus of my life, because I have a lot of friends and family, all over the world. But I've\n",
            "\n",
            "Your prompt: What is GPT2?\n",
            "\n",
            "Generated Text:\n",
            "What is GPT2?\n",
            "\n",
            "The GPT2 is the first step in the progression of GPT development. A new GPT system will be introduced at the end of 2015.\n",
            "\n",
            "GPT2 will also provide a way to bring the development of GPT into\n",
            "\n",
            "Your prompt: quit\n",
            "Exiting interactive generation.\n"
          ]
        }
      ]
    },
    {
      "cell_type": "markdown",
      "metadata": {
        "id": "03961feb"
      },
      "source": [
        "## Summary\n",
        "- Decoder models like GPT use **causal masking** to prevent tokens from seeing the future.\n",
        "- `transformers` library makes it easy to load pretrained causal models.\n",
        "- GPT-style models are **autoregressive**, good for tasks like text generation.\n"
      ]
    }
  ],
  "metadata": {
    "kernelspec": {
      "display_name": "Python 3 (ipykernel)",
      "language": "python",
      "name": "python3"
    },
    "language_info": {
      "codemirror_mode": {
        "name": "ipython",
        "version": 3
      },
      "file_extension": ".py",
      "mimetype": "text/x-python",
      "name": "python",
      "nbconvert_exporter": "python",
      "pygments_lexer": "ipython3",
      "version": "3.12.8"
    },
    "prev_pub_hash": "db4a9629b4494579f724d7010534b7337a3baed234b2b31b20436e236b2f7987",
    "colab": {
      "provenance": []
    }
  },
  "nbformat": 4,
  "nbformat_minor": 0
}