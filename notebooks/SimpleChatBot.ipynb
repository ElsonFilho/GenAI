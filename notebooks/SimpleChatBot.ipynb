{
 "cells": [
  {
   "cell_type": "markdown",
   "metadata": {
    "id": "7102213LBwHO"
   },
   "source": [
    "#A Simple Chatbot with Transformers"
   ]
  },
  {
   "cell_type": "code",
   "execution_count": null,
   "metadata": {
    "id": "bGFhQh6aBsP4"
   },
   "outputs": [],
   "source": [
    "# Install Libraries\n",
    "!pip install -qq tensorflow\n",
    "!pip install transformers==4.42.1 -U\n",
    "!pip install sentencepiece\n",
    "!pip install torch==2.2.2\n",
    "!pip install torchtext==0.17.2\n",
    "!pip install numpy==1.26\n",
    "#!pip install --upgrade numpy transformers torch"
   ]
  },
  {
   "cell_type": "markdown",
   "metadata": {
    "id": "KNsVjvsAD9pd"
   },
   "source": [
    "## Meta's Blenderbot"
   ]
  },
  {
   "cell_type": "code",
   "execution_count": 1,
   "metadata": {
    "colab": {
     "base_uri": "https://localhost:8080/",
     "height": 464,
     "referenced_widgets": [
      "f165f46f2afd4f13a1d1f93fedc25735",
      "fcf36b0318ea414786edc05984c4131e",
      "c4b0616add4346b6b1d101b1713b33a7",
      "18118b470c714e178a3fc5eb7e987d9e",
      "c4ee0dcc35634dc4822cfdc615085ef8",
      "6386e18250a3431f96ccf08aa4210c39",
      "297fa451ebda4a4a9094ddf4d3c0b94b",
      "ca199a8a32b44eb3b72c2e3a74e64c36",
      "21772253510b44548f0a599b92affbaa",
      "7a53f1bc2ece48459e1be0fad0bc56a6",
      "488b28baaee34f91ae1d6882bf033191",
      "9a43e6528db34d81946f4f58332e9381",
      "cfbf43a9c70b4e18a01f2d4cfc904219",
      "92b73fd8a1a240b8980bbde8d60bf12a",
      "2c22a3f0c5fd4092b8070261b39d77e8",
      "adbfa0166cc44ff98e62d04304a3ab07",
      "ad1e63797cd046d1ad3d90ccef371518",
      "390c991247ac4f7fb66194865c6eb35e",
      "bb57593b70bb49999705ab60bf1ef848",
      "5512ffd5394148ccad288a32d6829b29",
      "d6143d10ef1d4352924c3eb8eb150aac",
      "185fb8f1617d43aa840817499d065565",
      "be54ea6ac3634af9a3f017e1f2f88cd8",
      "f3c63fa18e3f46429ca07be0186d75ee",
      "ae333e7d54b6476287eb2ac52ed3d7b3",
      "b9c48449fffb4bcc89b725f306207c04",
      "dac02215137f4e23b84d02e25eb7509d",
      "1953efd85d4248bf96d01e23bf618361",
      "908bcbfeea2d458e8e9e179c7b8d020f",
      "560610a662534867b6d14abf62e96593",
      "7b6ed50b00f24e4183698be1062681fb",
      "a0d40cc83d9948a6b5c7683baf8ab368",
      "13dab9b5da8240249a23ac4e0250113a",
      "8cbab0b1971c4c179c537005a19aa757",
      "2a255187821b4f69aa63767ea4d0a6c0",
      "c423ec7a3a88460499ec4bbfcd80b343",
      "cb891158ceaf49b7881a18314ea5a5d3",
      "037e99b9dc0a46ba8f8449fbe0562db4",
      "a7774a5398634ad08f417c8dd3bde9ba",
      "b2d8fa9b3a79471ab57e53dd7fba0332",
      "1cc8fb383bc845a0883a6ec4244a0c36",
      "327e56b484b348149f8c3a7695fa4d7d",
      "91590bb37e984dff9e8bf607a26d736e",
      "535192ad94494a2b89a80e765a765db2",
      "1d64406fb66642d3952ce5c65aef3d0b",
      "99702dc71f5941dfa9d66b3cae5861fd",
      "16cef36c528f4f90bacf503029ebcbc1",
      "1b171cb1ce0b4f7fa4c4ae9ae94a55bd",
      "0bb8ae4811f144db8907efac926916b3",
      "5f4e44bec14f49e0ac3bd2cf8d99846a",
      "9401731f03714092947c81311adfb03d",
      "6d1ce53c20684565a92398bf227864bd",
      "e401bc4117a141c9b9ba6e2a041cbfdd",
      "8643cecc66f14fc6ba17a99260ae996a",
      "9aed926e4f3a41688021ba851700f587",
      "c4f65403d19643f9bad8de4482e0ee46",
      "1639bfceb8d84de89a0e8d4d62e354f2",
      "212e683d7dcd4e2088b2444311710216",
      "95b96323a5a4423fa0ba956ec862db26",
      "e8d285253010441ba2a4f05e3cd6ebc5",
      "4ecf64aa52d1497cae7791f3abece22e",
      "943cc72214784023bd212a9918290726",
      "4a897cff607148e08d7a36d3c69c1b71",
      "a2786264bf8f46478510ae31e91e6e7f",
      "b5e68f1f127f40728a34b3d206c84f50",
      "04d298471c37427284fc98230a5e4acd",
      "258cc825d5a34892988c9f15b118f130",
      "0a4e6c1d171a4b839eec4be9933f1775",
      "bf2452a7a4624d049824dfbf37e4a3e5",
      "50a70827f59642c09e7fae7f9c5c5f41",
      "d281bcc70e3e4edfac7fc78b35a28cc7",
      "15182b32f5f3441fbef58f2f33f6cadd",
      "625ec3e7011d4c4e8648f047659cadc6",
      "a60c37630d4046539dd478991fed67d5",
      "1161c3484f184241865416f92a4918e9",
      "19eb277a60ba445ca589835e0f73100c",
      "f0956318aca94d809e06e4115f654736",
      "0b035d5a602b418f98eba5e3855c9bb3",
      "3a1459a8a6d5497d95524e8b40a1aa25",
      "4a5ab8d061bb4b858101ef50d45920ea",
      "5745e3e53aa64421b1c86b7aa35b7e0c",
      "4863b2a589934c57bff474c179afc07e",
      "de4ed2af10ba463db27fc78f858d9a31",
      "3fcf4fe5b9a14efbac7a3c452766600a",
      "2779543daa8e48d799071b82f3e0806b",
      "fac5e13747624ed1999093a64d5d8ca5",
      "74b34fce35a349e9834ba73caf172686",
      "dd8864c3465843c785f2bc6f3b785d86",
      "2aff2761d3c8409db120319f3a7a03ee",
      "0f976e4232cf4987a902c408e9c0f85c",
      "b3a96351ca3448d484e66564c43acbe9",
      "61eada7fb5fb4c89803b9d6b47a3f548",
      "dcafc31daa3646fbbcf92a4d3d1ef328",
      "360c0b366bd249fb855c49056ff568ca",
      "363508bdfbd04f43b3dcc6b51ccc368a",
      "08192cd5523c43c39774f64de4daa117",
      "5d5f8f06c04443259e960d73e7a18ba6",
      "32309e79fb4e48189245676cbfefb15e",
      "fff242c54e3446708cad9692a1b4a63e",
      "e640bd7a5fc445d2bf56242badf3695e",
      "5c97eac1fd444b6983ddd0a1cca466c6",
      "65e4ae897b27454193f849f2a36368b0",
      "008ed83942714c83b7b513cb5ef49397",
      "16f9de1100904113ac63ace394b27db0",
      "7ed2413924dc45c5ad132300891f9f75",
      "dbc895ddd0f6462da79b09013b30db7c",
      "7c1d67eccd414c16874b7a2328ce0748",
      "b563d559313c42e0ae65aebacad67602",
      "ab8f379edc204ee5bf52b37fd454eada",
      "8b681af4268047049c792229bb8e4e57"
     ]
    },
    "id": "nUSjNIv5CIgu",
    "outputId": "f1ec29ce-1318-474a-b54e-ff6021ed3e4e"
   },
   "outputs": [
    {
     "name": "stderr",
     "output_type": "stream",
     "text": [
      "/usr/local/lib/python3.11/dist-packages/huggingface_hub/utils/_auth.py:94: UserWarning: \n",
      "The secret `HF_TOKEN` does not exist in your Colab secrets.\n",
      "To authenticate with the Hugging Face Hub, create a token in your settings tab (https://huggingface.co/settings/tokens), set it as secret in your Google Colab and restart your session.\n",
      "You will be able to reuse this secret in all of your notebooks.\n",
      "Please note that authentication is recommended but still optional to access public models or datasets.\n",
      "  warnings.warn(\n"
     ]
    },
    {
     "data": {
      "application/vnd.jupyter.widget-view+json": {
       "model_id": "f165f46f2afd4f13a1d1f93fedc25735",
       "version_major": 2,
       "version_minor": 0
      },
      "text/plain": [
       "config.json:   0%|          | 0.00/1.57k [00:00<?, ?B/s]"
      ]
     },
     "metadata": {},
     "output_type": "display_data"
    },
    {
     "data": {
      "application/vnd.jupyter.widget-view+json": {
       "model_id": "9a43e6528db34d81946f4f58332e9381",
       "version_major": 2,
       "version_minor": 0
      },
      "text/plain": [
       "pytorch_model.bin:   0%|          | 0.00/730M [00:00<?, ?B/s]"
      ]
     },
     "metadata": {},
     "output_type": "display_data"
    },
    {
     "data": {
      "application/vnd.jupyter.widget-view+json": {
       "model_id": "be54ea6ac3634af9a3f017e1f2f88cd8",
       "version_major": 2,
       "version_minor": 0
      },
      "text/plain": [
       "model.safetensors:   0%|          | 0.00/730M [00:00<?, ?B/s]"
      ]
     },
     "metadata": {},
     "output_type": "display_data"
    },
    {
     "data": {
      "application/vnd.jupyter.widget-view+json": {
       "model_id": "8cbab0b1971c4c179c537005a19aa757",
       "version_major": 2,
       "version_minor": 0
      },
      "text/plain": [
       "generation_config.json:   0%|          | 0.00/347 [00:00<?, ?B/s]"
      ]
     },
     "metadata": {},
     "output_type": "display_data"
    },
    {
     "data": {
      "application/vnd.jupyter.widget-view+json": {
       "model_id": "1d64406fb66642d3952ce5c65aef3d0b",
       "version_major": 2,
       "version_minor": 0
      },
      "text/plain": [
       "tokenizer_config.json:   0%|          | 0.00/1.15k [00:00<?, ?B/s]"
      ]
     },
     "metadata": {},
     "output_type": "display_data"
    },
    {
     "data": {
      "application/vnd.jupyter.widget-view+json": {
       "model_id": "c4f65403d19643f9bad8de4482e0ee46",
       "version_major": 2,
       "version_minor": 0
      },
      "text/plain": [
       "vocab.json:   0%|          | 0.00/127k [00:00<?, ?B/s]"
      ]
     },
     "metadata": {},
     "output_type": "display_data"
    },
    {
     "data": {
      "application/vnd.jupyter.widget-view+json": {
       "model_id": "258cc825d5a34892988c9f15b118f130",
       "version_major": 2,
       "version_minor": 0
      },
      "text/plain": [
       "merges.txt:   0%|          | 0.00/62.9k [00:00<?, ?B/s]"
      ]
     },
     "metadata": {},
     "output_type": "display_data"
    },
    {
     "data": {
      "application/vnd.jupyter.widget-view+json": {
       "model_id": "0b035d5a602b418f98eba5e3855c9bb3",
       "version_major": 2,
       "version_minor": 0
      },
      "text/plain": [
       "added_tokens.json:   0%|          | 0.00/16.0 [00:00<?, ?B/s]"
      ]
     },
     "metadata": {},
     "output_type": "display_data"
    },
    {
     "data": {
      "application/vnd.jupyter.widget-view+json": {
       "model_id": "2aff2761d3c8409db120319f3a7a03ee",
       "version_major": 2,
       "version_minor": 0
      },
      "text/plain": [
       "special_tokens_map.json:   0%|          | 0.00/772 [00:00<?, ?B/s]"
      ]
     },
     "metadata": {},
     "output_type": "display_data"
    },
    {
     "data": {
      "application/vnd.jupyter.widget-view+json": {
       "model_id": "e640bd7a5fc445d2bf56242badf3695e",
       "version_major": 2,
       "version_minor": 0
      },
      "text/plain": [
       "tokenizer.json:   0%|          | 0.00/310k [00:00<?, ?B/s]"
      ]
     },
     "metadata": {},
     "output_type": "display_data"
    }
   ],
   "source": [
    "# Importing the required tools from the transformers library\n",
    "\n",
    "from transformers import AutoTokenizer, AutoModelForSeq2SeqLM\n",
    "\n",
    "# Selecting the model. You will be using \"facebook/blenderbot-400M-distill\" in this example.\n",
    "model_name = \"facebook/blenderbot-400M-distill\"\n",
    "\n",
    "# Load the model and tokenizer\n",
    "model = AutoModelForSeq2SeqLM.from_pretrained(model_name)\n",
    "tokenizer = AutoTokenizer.from_pretrained(model_name)"
   ]
  },
  {
   "cell_type": "code",
   "execution_count": 5,
   "metadata": {
    "colab": {
     "base_uri": "https://localhost:8080/"
    },
    "id": "4Mf7rDJlCbvG",
    "outputId": "a4d2726c-c589-4b6a-ddf4-031d64e98bd6"
   },
   "outputs": [
    {
     "name": "stdout",
     "output_type": "stream",
     "text": [
      "You: Hi. Chatbot. What can you do?\n",
      "Chatbot: I'm a chatbot.\n",
      "You: How many parameters were you trained with?\n",
      "Chatbot: ten\n",
      "You: only?\n",
      "Chatbot: a sexy woman\n",
      "You: quit.\n",
      "Chatbot: I'm not going to be able to do it.\n",
      "You: bye\n",
      "Chatbot: Goodbye!\n"
     ]
    }
   ],
   "source": [
    "# Define the chat function\n",
    "def chat_with_bot():\n",
    "    while True:\n",
    "        # Get user input\n",
    "        input_text = input(\"You: \")\n",
    "\n",
    "        # Exit conditions\n",
    "        if input_text.lower() in [\"quit\", \"exit\", \"bye\"]:\n",
    "            print(\"Chatbot: Goodbye!\")\n",
    "            break\n",
    "\n",
    "        # Tokenize input and generate response\n",
    "        inputs = tokenizer.encode(input_text, return_tensors=\"pt\")\n",
    "        outputs = model.generate(inputs, max_new_tokens=150)\n",
    "        response = tokenizer.decode(outputs[0], skip_special_tokens=True).strip()\n",
    "\n",
    "        # Display bot's response\n",
    "        print(\"Chatbot:\", response)\n",
    "\n",
    "# Start chatting\n",
    "chat_with_bot()"
   ]
  },
  {
   "cell_type": "markdown",
   "metadata": {
    "id": "axfZnk7hDun8"
   },
   "source": [
    "## Trying another language model: the \"flan-t5-base\" model from Google"
   ]
  },
  {
   "cell_type": "code",
   "execution_count": 3,
   "metadata": {
    "colab": {
     "base_uri": "https://localhost:8080/",
     "height": 241,
     "referenced_widgets": [
      "a9f4708519cf496bafb6a0825b09ba50",
      "cbc1ca5075704bb68eb7bcf95b92bfee",
      "06d0f5fc5ea04c368b8f8bf85730dcf9",
      "2c78a5c9cf0a4746adfa95b38ebb8429",
      "ec9a7edf2f5a439abf60270a52994802",
      "393e64f411fc4e7880f63468f1e605a7",
      "a06b6c2ee4224884b2fe9b1eb3f56a90",
      "491ee59d47cc41398d87221004f65de7",
      "18aac1381bfa45e596923b607989e68b",
      "edf6bed37be04bf68651152e7f3e516d",
      "b0fe9f519f314c17b7f2cc2b5d80e9e8",
      "23f7b68dec044c3ab960aa905b5b1443",
      "939ff92ac88e4de9bc706c67cdb1cb48",
      "dd3507a295b14125a2cf3f5ab6290244",
      "3d90e5dfbd2f4e5582b3c3793a441df9",
      "cab0c652fe6c4fa7b92fe98a5b71d88f",
      "35a05601c0444810ae8d81d31af80ae1",
      "4b3afad788f44cdda8e58dda1247199e",
      "07c6a8d9ebbf4ac0ab8f687bca83046c",
      "27e75b44d4fb442f908903b98c577435",
      "54a7dd54db4c44398421adaa1fc769a8",
      "bde6ae5073434389902e4f29f42431ca",
      "8adabb7be0ff46e2b2abe3e18aa06c50",
      "bb06cec64681424db19650d1f0b7a2c1",
      "d1bb54cfbf7f4b5e811c66d144d04b05",
      "ee131d66531e4dd0a8cdf4a9b0c49484",
      "40113c065d44404baa1b5c2d70a7e62f",
      "2e2269eed3a248108f968f377b16b82d",
      "161afbc6cbf74fffa6a686801e263d07",
      "26d14351c3ae4e0d895b75c0f759bd18",
      "37dcc803bc77476c869431adb8b4ae52",
      "6fd1df09460a49269d8c9445c234db9c",
      "48555cf9b6444910b8a2bb161bf18199",
      "38b7ddea5696445fa2f0b40dea7711fa",
      "cd7fcf50f45a400485bc48e9af59bb0f",
      "ab4548c579d848cc88fa9b42b78c0064",
      "4244bece6fb343c2bb251a09bee0d69b",
      "2e203200f45f4ec2868dbff14a60fe96",
      "0279709f5b5c482b8228898bb8f31ca3",
      "99eff03438604ff28df49babab41bdec",
      "16a76ee06ee4406db0a01ea91f3aab77",
      "28cd94d4c5054ef09816c8e024e4a7fd",
      "c74642b7b5cc47f0b8de1d67aa83bab0",
      "9e78b0320eb84456930c03ae4d41d145",
      "aa23587ad18e4ceb90ca7295542ccf81",
      "96c724b32d2345fe994c864fb032de32",
      "5d0100e65e154462882247b2f76102bf",
      "4b55adde02fe445a9c3cfdc8135ab259",
      "c9de55589f0d4bea9be50a5f7363c462",
      "207b76a842f44dfba935d1a121af466f",
      "ed4cef82fb3c4791b516246d22780b7f",
      "993e59781de64dcca7a56a1f97e1a505",
      "6471870fbe11461299ab37734e77f372",
      "2db30cc63ff54fb7b26fdcd8192b5d6e",
      "a0f7d39048b2438e98cc9a6b16b1fff0",
      "8b76e60b820144e094446d7e807c6fdf",
      "936a9443a9d742068d58265da53d0cc5",
      "a6980a5f15d24497be47849426d429f7",
      "767dacc540e347f081f2ae024ad8c11f",
      "80a6cd147f224cf1ba6ce49ef162cfdc",
      "a67beb7a97bc4e3d8001dea59ef16aeb",
      "8317406f393f4162be754da2217f363b",
      "1c4dc69a2df4452799905c4254073982",
      "17450d06d8944fb899cd6b43bc0323a6",
      "88bc1b91563447879e6c2e7ec99c87a6",
      "7b0242ef64ff4fbcb490baec892529f7",
      "f80febe4db3541b299a942dbb9650823",
      "0fd390163d29479bb4b561604ad7a641",
      "6f32b5e1e24a4ff0b9a606aeef89180a",
      "d774f691bbd64551a3afbdf9f90336fe",
      "e3f1fcca839e405796cab903f985faa9",
      "740f6670eb8e4ad3a23187bef2d5cff2",
      "000193b4263a447b8bf5578d4896bc3d",
      "ef2c0074299c42d6aa226351d8fd6395",
      "74c51a6f4b604fc78b105ebb4bac2a06",
      "4a7b67bfae554b8cb1ada1d1bd5527e1",
      "27e1c2b090194c1ea122aba8f165f8ec"
     ]
    },
    "id": "3bpsTwHZDtvR",
    "outputId": "2f3df0ba-cc26-4056-a3d7-517666a1cb76"
   },
   "outputs": [
    {
     "data": {
      "application/vnd.jupyter.widget-view+json": {
       "model_id": "a9f4708519cf496bafb6a0825b09ba50",
       "version_major": 2,
       "version_minor": 0
      },
      "text/plain": [
       "tokenizer_config.json:   0%|          | 0.00/2.54k [00:00<?, ?B/s]"
      ]
     },
     "metadata": {},
     "output_type": "display_data"
    },
    {
     "data": {
      "application/vnd.jupyter.widget-view+json": {
       "model_id": "23f7b68dec044c3ab960aa905b5b1443",
       "version_major": 2,
       "version_minor": 0
      },
      "text/plain": [
       "spiece.model:   0%|          | 0.00/792k [00:00<?, ?B/s]"
      ]
     },
     "metadata": {},
     "output_type": "display_data"
    },
    {
     "data": {
      "application/vnd.jupyter.widget-view+json": {
       "model_id": "8adabb7be0ff46e2b2abe3e18aa06c50",
       "version_major": 2,
       "version_minor": 0
      },
      "text/plain": [
       "tokenizer.json:   0%|          | 0.00/2.42M [00:00<?, ?B/s]"
      ]
     },
     "metadata": {},
     "output_type": "display_data"
    },
    {
     "data": {
      "application/vnd.jupyter.widget-view+json": {
       "model_id": "38b7ddea5696445fa2f0b40dea7711fa",
       "version_major": 2,
       "version_minor": 0
      },
      "text/plain": [
       "special_tokens_map.json:   0%|          | 0.00/2.20k [00:00<?, ?B/s]"
      ]
     },
     "metadata": {},
     "output_type": "display_data"
    },
    {
     "data": {
      "application/vnd.jupyter.widget-view+json": {
       "model_id": "aa23587ad18e4ceb90ca7295542ccf81",
       "version_major": 2,
       "version_minor": 0
      },
      "text/plain": [
       "config.json:   0%|          | 0.00/1.40k [00:00<?, ?B/s]"
      ]
     },
     "metadata": {},
     "output_type": "display_data"
    },
    {
     "data": {
      "application/vnd.jupyter.widget-view+json": {
       "model_id": "8b76e60b820144e094446d7e807c6fdf",
       "version_major": 2,
       "version_minor": 0
      },
      "text/plain": [
       "model.safetensors:   0%|          | 0.00/990M [00:00<?, ?B/s]"
      ]
     },
     "metadata": {},
     "output_type": "display_data"
    },
    {
     "data": {
      "application/vnd.jupyter.widget-view+json": {
       "model_id": "f80febe4db3541b299a942dbb9650823",
       "version_major": 2,
       "version_minor": 0
      },
      "text/plain": [
       "generation_config.json:   0%|          | 0.00/147 [00:00<?, ?B/s]"
      ]
     },
     "metadata": {},
     "output_type": "display_data"
    }
   ],
   "source": [
    "import sentencepiece\n",
    "from transformers import AutoTokenizer, AutoModelForSeq2SeqLM\n",
    "\n",
    "model_name = \"google/flan-t5-base\"\n",
    "tokenizer = AutoTokenizer.from_pretrained(model_name)\n",
    "model = AutoModelForSeq2SeqLM.from_pretrained(model_name)"
   ]
  },
  {
   "cell_type": "code",
   "execution_count": 6,
   "metadata": {
    "colab": {
     "base_uri": "https://localhost:8080/"
    },
    "id": "t9gMyju8ESlC",
    "outputId": "ccb27521-8392-4fa2-c0da-c6a61340ba26"
   },
   "outputs": [
    {
     "name": "stdout",
     "output_type": "stream",
     "text": [
      "You: Hi Chatbot. What can you do?\n",
      "Chatbot: I'm a chatbot.\n",
      "You: I know. What can you do?\n",
      "Chatbot: I'll go to the library.\n",
      "You: bye\n",
      "Chatbot: Goodbye!\n"
     ]
    }
   ],
   "source": [
    "# Let's chat with another bot\n",
    "def chat_with_another_bot():\n",
    "    while True:\n",
    "        # Get user input\n",
    "        input_text = input(\"You: \")\n",
    "\n",
    "        # Exit conditions\n",
    "        if input_text.lower() in [\"quit\", \"exit\", \"bye\"]:\n",
    "            print(\"Chatbot: Goodbye!\")\n",
    "            break\n",
    "\n",
    "        # Tokenize input and generate response\n",
    "        inputs = tokenizer.encode(input_text, return_tensors=\"pt\")\n",
    "        outputs = model.generate(inputs, max_new_tokens=150)\n",
    "        response = tokenizer.decode(outputs[0], skip_special_tokens=True).strip()\n",
    "\n",
    "        # Display bot's response\n",
    "        print(\"Chatbot:\", response)\n",
    "\n",
    "# Start chatting\n",
    "chat_with_another_bot()"
   ]
  },
  {
   "cell_type": "markdown",
   "metadata": {
    "id": "OVMMR7BREZGg"
   },
   "source": [
    "## Create a chatbot using different models from Hugging Face\n",
    "Transformers library from Hugging Face (https://huggingface.co/models)."
   ]
  },
  {
   "cell_type": "code",
   "execution_count": 7,
   "metadata": {
    "colab": {
     "base_uri": "https://localhost:8080/",
     "height": 241,
     "referenced_widgets": [
      "4cd0a7de77ea48abbf560c26472fc6b7",
      "419e4b86c08c435198be6bc925343589",
      "6572200dabd24bf98c020cca38b6218c",
      "04712a6e81284b6b851b1cae4f14bd6c",
      "efced9c3a80249c9a2c8a42f8db855d6",
      "c94130232b99436e93f8101220891d52",
      "e938a6c4c06b45a8b3a5d2f76f20849a",
      "66aa77b2131e4862bb5fe59371e52748",
      "5f9619067ac840debc0a045a69d1f42e",
      "1b1edf330d744cfdb33f6402aeeb71ea",
      "137f16e13dc748a1b7995ad5e1b199b7",
      "2e3386b5ab1e439899eb197eeafd5b34",
      "d101837bfbff4cea9f3f118625a39f4a",
      "5d7e718c235a484ba12f6db948d28e56",
      "6a1671359268491ea47b4823a097ba17",
      "953fa189a91d49729b9c0dc551193e4f",
      "ad2f7b4d377243eeb26fb8233e33264b",
      "b2a992f285434ca7b65b96859de21f00",
      "0dbf0a09d2174bf3a1d79f330b37ea2e",
      "41df7a12154545378c286ec39614db27",
      "699a4547048e48089be23bef3008d479",
      "534a62dbaa1a4e60a5d1319190a3f275",
      "01d6765788da40d18dd72c39fe7b57c1",
      "c7f6d3fdeba64d20ae8df2cdae2ef84c",
      "bbaa6b6d186c4eeda98c2d0f4f6e8303",
      "df1150b2562440f198e2666560ae79fb",
      "c27fdb6b776648609dc6297893c69a01",
      "e632cfc2d19845fca244fee3379a0956",
      "b0026b91371348888bbbf84abc572d6e",
      "b7c1574f4b8b478faca515f679675a4a",
      "ba1b7d110a954c62a957f17e34e6959e",
      "67480644a2424a91a18535f81ac27a33",
      "78fe2458ebd84181adf86e406cf1f971",
      "b8e04b2feb574a26a363acfa2ac59ed4",
      "27e42846304f4249ac2e90259dff9f61",
      "9bf4a34776e340c4bbc967d7794a090b",
      "112cf2bf60e1468e881d0cfac000c333",
      "8c3fbf44e9e84f8695da8599937e2e58",
      "b935ebfc7d924692a124b0eb337b4336",
      "6a2d009faf174506837332246b813cb6",
      "f1eac0cd52474e34a52a9d110d3eda31",
      "a3063b386f3543cba307f030de5d69fd",
      "5ff9097001f3459498b9ab74c2cb8d95",
      "c7dc0880a6b74c439774c11a4fd347a9",
      "f2b57e6022ab4971a616618ca1563595",
      "088cf7c92a694ac1bc74bafbf087a0ba",
      "e8f3d866ce604e5991b884fd46afb2de",
      "22757cc244c848db810df811261581ba",
      "14f2f751874b4fc49ed189c531028224",
      "78f20dc4e6a8412b99aa88f45e3db39c",
      "1ef159f0df354db7aaf9c48a8a9a6bda",
      "e21a496a2b0b40fa805f0b90813c11b4",
      "1cad70d4a24a45a4829e4a54048a08e2",
      "1c0074202f074db5b532d0ed3578905f",
      "3b1fb409846249af866d2de63842ce74",
      "7be7c2a5b31c4dbf8bd79febba889f2f",
      "7d00fb3d3b18482d85dcf3422438b9db",
      "e12967fa34834266a7de6f8c3ac6475f",
      "865dc36c1ed4492bb01f6b0b9bdb096f",
      "44bb3a2f298f4cd0bac31b060becc0cf",
      "521f1485366748f0862392ea080d147f",
      "b49d85bc3e6a46abb435b5b4d63a24ee",
      "7aca3cfa9de747e094c83294f9bad2bf",
      "0f77f2df6a824df68701c43d6c247fb9",
      "b8a3cdb5064c48ce8b5d8f9cb261ba24",
      "fede8ee3540342f8bd63b633daa0fb54",
      "80ffcedad7dd4d19936d9e7d1f3aeb10",
      "62e43abf37894215bdc057e793effd76",
      "b5262522a33e4ad686460660ac190020",
      "6faf8bbda4fb442e916aa263d7d7bcda",
      "3f265cefe7f04f56ace2d32b7d01c6e7",
      "5433513278b547d5bfeee6e84c9f16fe",
      "704fd064ff09400ca094a32672b61528",
      "d80bc8ffaaf9434a9ab49b6a58cf907c",
      "9bdb2286040d480a8a67cd65425b6f63",
      "de4da69e69fc4205a6f9d7e8cfa04a56",
      "e72e023f71cd4681bac4b99887771ac5"
     ]
    },
    "id": "fjBKXCSBEbGD",
    "outputId": "27204420-722d-4355-cf7b-7e0c0d804869"
   },
   "outputs": [
    {
     "data": {
      "application/vnd.jupyter.widget-view+json": {
       "model_id": "4cd0a7de77ea48abbf560c26472fc6b7",
       "version_major": 2,
       "version_minor": 0
      },
      "text/plain": [
       "tokenizer_config.json:   0%|          | 0.00/2.54k [00:00<?, ?B/s]"
      ]
     },
     "metadata": {},
     "output_type": "display_data"
    },
    {
     "data": {
      "application/vnd.jupyter.widget-view+json": {
       "model_id": "2e3386b5ab1e439899eb197eeafd5b34",
       "version_major": 2,
       "version_minor": 0
      },
      "text/plain": [
       "spiece.model:   0%|          | 0.00/792k [00:00<?, ?B/s]"
      ]
     },
     "metadata": {},
     "output_type": "display_data"
    },
    {
     "data": {
      "application/vnd.jupyter.widget-view+json": {
       "model_id": "01d6765788da40d18dd72c39fe7b57c1",
       "version_major": 2,
       "version_minor": 0
      },
      "text/plain": [
       "tokenizer.json:   0%|          | 0.00/2.42M [00:00<?, ?B/s]"
      ]
     },
     "metadata": {},
     "output_type": "display_data"
    },
    {
     "data": {
      "application/vnd.jupyter.widget-view+json": {
       "model_id": "b8e04b2feb574a26a363acfa2ac59ed4",
       "version_major": 2,
       "version_minor": 0
      },
      "text/plain": [
       "special_tokens_map.json:   0%|          | 0.00/2.20k [00:00<?, ?B/s]"
      ]
     },
     "metadata": {},
     "output_type": "display_data"
    },
    {
     "data": {
      "application/vnd.jupyter.widget-view+json": {
       "model_id": "f2b57e6022ab4971a616618ca1563595",
       "version_major": 2,
       "version_minor": 0
      },
      "text/plain": [
       "config.json:   0%|          | 0.00/1.40k [00:00<?, ?B/s]"
      ]
     },
     "metadata": {},
     "output_type": "display_data"
    },
    {
     "data": {
      "application/vnd.jupyter.widget-view+json": {
       "model_id": "7be7c2a5b31c4dbf8bd79febba889f2f",
       "version_major": 2,
       "version_minor": 0
      },
      "text/plain": [
       "model.safetensors:   0%|          | 0.00/308M [00:00<?, ?B/s]"
      ]
     },
     "metadata": {},
     "output_type": "display_data"
    },
    {
     "data": {
      "application/vnd.jupyter.widget-view+json": {
       "model_id": "80ffcedad7dd4d19936d9e7d1f3aeb10",
       "version_major": 2,
       "version_minor": 0
      },
      "text/plain": [
       "generation_config.json:   0%|          | 0.00/147 [00:00<?, ?B/s]"
      ]
     },
     "metadata": {},
     "output_type": "display_data"
    }
   ],
   "source": [
    "import sentencepiece\n",
    "from transformers import AutoTokenizer, AutoModelForSeq2SeqLM\n",
    "\n",
    "model_name = \"google/flan-t5-small\" #here the model name can be changed as you like.\n",
    "tokenizer = AutoTokenizer.from_pretrained(model_name)\n",
    "model = AutoModelForSeq2SeqLM.from_pretrained(model_name)"
   ]
  },
  {
   "cell_type": "code",
   "execution_count": 8,
   "metadata": {
    "colab": {
     "base_uri": "https://localhost:8080/"
    },
    "id": "iiI5LMrdH3vu",
    "outputId": "4145ad7d-e757-481d-fd90-4af800c4cfc4"
   },
   "outputs": [
    {
     "name": "stdout",
     "output_type": "stream",
     "text": [
      "You: Which model are you?\n",
      "Chatbot: samurai\n",
      "You: Google samurai?\n",
      "Chatbot: Google Samurai?\n",
      "You: anything more relevant?\n",
      "Chatbot: a spokesman for the spokesman for the spokesman for the spokesman for the spokesman for the spokesman for the spokesman for the spokesman for the spokesman for the spokesman for the spokesman for the spokesman for the spokesman for the spokesman for the spokesman for the spokesman for the spokesman for the spokesman for the spokesman for the spokesman for the spokesman for the spokesman for the spokesman for the spokesman for the spokesman for the spokesman for the spokesman for the spokesman for the spokesman for the spokesman\n",
      "You: bye\n",
      "Chatbot: Goodbye!\n"
     ]
    }
   ],
   "source": [
    "chat_with_another_bot()"
   ]
  }
 ],
 "metadata": {
  "colab": {
   "provenance": []
  },
  "kernelspec": {
   "display_name": "Python 3",
   "name": "python3"
  },
  "language_info": {
   "name": "python"
  }
 },
 "nbformat": 4,
 "nbformat_minor": 0
}
