{
  "nbformat": 4,
  "nbformat_minor": 0,
  "metadata": {
    "colab": {
      "provenance": [],
      "collapsed_sections": [
        "qrbraDiCIp1c"
      ],
      "authorship_tag": "ABX9TyOJFaIWXTsd3WucwmcDrnlC"
    },
    "kernelspec": {
      "name": "python3",
      "display_name": "Python 3"
    },
    "language_info": {
      "name": "python"
    }
  },
  "cells": [
    {
      "cell_type": "markdown",
      "source": [
        "# Cover Letter Generator"
      ],
      "metadata": {
        "id": "QW23IqBZIjpm"
      }
    },
    {
      "cell_type": "markdown",
      "source": [
        "## Setup"
      ],
      "metadata": {
        "id": "qrbraDiCIp1c"
      }
    },
    {
      "cell_type": "code",
      "source": [
        "!pip install -q gradio"
      ],
      "metadata": {
        "id": "OmFOrPZdIQMv"
      },
      "execution_count": 2,
      "outputs": []
    },
    {
      "cell_type": "code",
      "source": [
        "import gradio as gr\n",
        "import os"
      ],
      "metadata": {
        "id": "ZYF_LL2gI1-D"
      },
      "execution_count": 39,
      "outputs": []
    },
    {
      "cell_type": "markdown",
      "source": [
        "## Interface"
      ],
      "metadata": {
        "id": "qXpKcxgZJurX"
      }
    },
    {
      "cell_type": "code",
      "source": [
        "# Placeholder store for uploaded files during session\n",
        "uploaded_cvs = {}\n",
        "uploaded_excels = {}"
      ],
      "metadata": {
        "id": "jFy0TzpAJxb4"
      },
      "execution_count": 4,
      "outputs": []
    },
    {
      "cell_type": "code",
      "execution_count": 40,
      "metadata": {
        "id": "Bbg4sGcQIMHJ"
      },
      "outputs": [],
      "source": [
        "# Functions for Upload Handling and Generation\n",
        "def save_cv(file, label):\n",
        "    if file:\n",
        "        uploaded_cvs[label] = file\n",
        "        return f\"{label} uploaded\"\n",
        "    return f\"Upload {label}\"\n",
        "\n",
        "def save_excel(file, label):\n",
        "    if file:\n",
        "        uploaded_excels[label] = file\n",
        "        return f\"Excel '{label}' uploaded\"\n",
        "    return f\"Upload Excel\"\n",
        "\n",
        "def generate_cover_letter(cv_choice_name, cv1_file, cv2_file, excel_file, job_post):\n",
        "    import os\n",
        "    selected_cv = None\n",
        "    if cv1_file is not None and os.path.basename(cv1_file.name) == cv_choice_name:\n",
        "        selected_cv = cv1_file\n",
        "    elif cv2_file is not None and os.path.basename(cv2_file.name) == cv_choice_name:\n",
        "        selected_cv = cv2_file\n",
        "\n",
        "    # Your cover letter generation logic here\n",
        "    result = f\"Selected CV: {cv_choice_name}\\nJob Post: {job_post}\\n\\n--Cover letter output placeholder--\"\n",
        "    return result\n",
        "\n",
        "def update_cv_dropdown():\n",
        "    return list(uploaded_cvs.keys())\n",
        "\n",
        "def update_excel_dropdown():\n",
        "    return list(uploaded_excels.keys())\n"
      ]
    },
    {
      "cell_type": "code",
      "source": [
        "# Build Gradio Interface UI\n",
        "import gradio as gr\n",
        "\n",
        "def update_cv_dropdown(cv1_file, cv2_file):\n",
        "    choices = []\n",
        "    if cv1_file is not None:\n",
        "        choices.append(os.path.basename(cv1_file.name))\n",
        "    if cv2_file is not None:\n",
        "        choices.append(os.path.basename(cv2_file.name))\n",
        "    if not choices:\n",
        "        return gr.update(choices=[\"No CV uploaded\"], value=\"No CV uploaded\", interactive=False)\n",
        "    else:\n",
        "        return gr.update(choices=choices, value=choices[0], interactive=True)\n",
        "\n",
        "\n",
        "def generate_cover_letter(cv_choice, cv1_file, cv2_file, excel_file, job_post):\n",
        "    if cv_choice == \"CV 1\":\n",
        "        selected_cv = cv1_file\n",
        "    elif cv_choice == \"CV 2\":\n",
        "        selected_cv = cv2_file\n",
        "    else:\n",
        "        selected_cv = None\n",
        "\n",
        "    # Placeholder output text\n",
        "    result = f\"Selected CV: {cv_choice}\\nJob Post: {job_post}\\n\\n--Cover letter output placeholder--\"\n",
        "    return result\n",
        "\n",
        "with gr.Blocks() as demo:\n",
        "    gr.Markdown(\"## AI Cover Letter Generator\")\n",
        "\n",
        "    with gr.Row():\n",
        "        cv1 = gr.File(label=\"Upload CV 1 (PDF/DOCX/TXT)\", file_types=['.pdf', '.docx', '.txt'])\n",
        "        cv2 = gr.File(label=\"Upload CV 2 (PDF/DOCX/TXT)\", file_types=['.pdf', '.docx', '.txt'])\n",
        "       # cv_select = gr.Dropdown(label=\"Select CV to use\", choices=[\"No CV uploaded\"], value=\"No CV uploaded\", interactive=False)\n",
        "\n",
        "\n",
        "    with gr.Row():\n",
        "        excel_upload = gr.File(label=\"Upload Job Applications Excel\", file_types=['.xlsx'])\n",
        "\n",
        "    with gr.Row():\n",
        "        job_post_text = gr.Textbox(label=\"Enter Job Post URL or Description\", lines=3)\n",
        "\n",
        "    with gr.Row():\n",
        "        cv_select = gr.Dropdown(label=\"Select CV to use\", choices=[\"No CV uploaded\"], value=None)\n",
        "\n",
        "    generate_btn = gr.Button(\"Generate Cover Letter\")\n",
        "    output_text = gr.Textbox(label=\"Generated Cover Letter\", lines=10, interactive=False)\n",
        "\n",
        "    # Update dropdown choices based on files uploaded\n",
        "    cv1.change(fn=update_cv_dropdown, inputs=[cv1, cv2], outputs=cv_select)\n",
        "    cv2.change(fn=update_cv_dropdown, inputs=[cv1, cv2], outputs=cv_select)\n",
        "\n",
        "    # Generate cover letter action\n",
        "    generate_btn.click(\n",
        "        fn=generate_cover_letter,\n",
        "        inputs=[cv_select, cv1, cv2, excel_upload, job_post_text],\n",
        "        outputs=output_text\n",
        "    )\n"
      ],
      "metadata": {
        "id": "aut3y4iRKRUc"
      },
      "execution_count": 41,
      "outputs": []
    },
    {
      "cell_type": "code",
      "source": [
        "# Lauch Gradio App\n",
        "\n",
        "demo.launch(share=True)\n",
        "#demo.launch(share=True, debug=True)"
      ],
      "metadata": {
        "colab": {
          "base_uri": "https://localhost:8080/",
          "height": 647
        },
        "id": "DZ-FQD8WKSxN",
        "outputId": "72d0e59f-df1f-41a8-d20a-d6bc4c6f733e"
      },
      "execution_count": 42,
      "outputs": [
        {
          "output_type": "stream",
          "name": "stdout",
          "text": [
            "Colab notebook detected. This cell will run indefinitely so that you can see errors and logs. To turn off, set debug=False in launch().\n",
            "* Running on public URL: https://dfcec814e7334f06b9.gradio.live\n",
            "\n",
            "This share link expires in 1 week. For free permanent hosting and GPU upgrades, run `gradio deploy` from the terminal in the working directory to deploy to Hugging Face Spaces (https://huggingface.co/spaces)\n"
          ]
        },
        {
          "output_type": "display_data",
          "data": {
            "text/plain": [
              "<IPython.core.display.HTML object>"
            ],
            "text/html": [
              "<div><iframe src=\"https://dfcec814e7334f06b9.gradio.live\" width=\"100%\" height=\"500\" allow=\"autoplay; camera; microphone; clipboard-read; clipboard-write;\" frameborder=\"0\" allowfullscreen></iframe></div>"
            ]
          },
          "metadata": {}
        },
        {
          "output_type": "stream",
          "name": "stdout",
          "text": [
            "Keyboard interruption in main thread... closing server.\n",
            "Killing tunnel 127.0.0.1:7869 <> https://dfcec814e7334f06b9.gradio.live\n"
          ]
        },
        {
          "output_type": "execute_result",
          "data": {
            "text/plain": []
          },
          "metadata": {},
          "execution_count": 42
        }
      ]
    },
    {
      "cell_type": "code",
      "source": [],
      "metadata": {
        "id": "o8oPyuxzKdGU"
      },
      "execution_count": 8,
      "outputs": []
    }
  ]
}