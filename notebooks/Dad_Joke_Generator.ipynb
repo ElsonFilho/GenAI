{
 "cells": [
  {
   "cell_type": "markdown",
   "metadata": {},
   "source": [
    "# 🎭 AI Dad Joke Generator\n",
    "\n",
    "Generate dad jokes with titles and cartoon illustrations using OpenAI API!\n",
    "\n",
    "**What this does:**\n",
    "- Creates a funny dad joke based on any subject\n",
    "- Generates a catchy newspaper headline\n",
    "- Makes a classical cartoon illustration\n",
    "\n",
    "**Cost:** ~$0.05 per joke (GPT-4 + DALL-E 3)"
   ]
  },
  {
   "cell_type": "markdown",
   "metadata": {},
   "source": [
    "## Step 1: Install Packages"
   ]
  },
  {
   "cell_type": "code",
   "execution_count": null,
   "metadata": {},
   "outputs": [],
   "source": [
    "!pip install -q gradio openai pillow requests"
   ]
  },
  {
   "cell_type": "markdown",
   "metadata": {},
   "source": [
    "## Step 2: Set Your OpenAI API Key\n",
    "\n",
    "Get your key from: https://platform.openai.com/api-keys"
   ]
  },
  {
   "cell_type": "code",
   "execution_count": null,
   "metadata": {},
   "outputs": [],
   "source": [
    "import os\n",
    "from getpass import getpass\n",
    "\n",
    "# Enter your API key (it won't be displayed)\n",
    "api_key = getpass(\"Enter your OpenAI API Key: \")\n",
    "os.environ['OPENAI_API_KEY'] = api_key\n",
    "print(\"✅ API Key set!\")"
   ]
  },
  {
   "cell_type": "markdown",
   "metadata": {},
   "source": [
    "## Step 3: Import and Setup"
   ]
  },
  {
   "cell_type": "code",
   "execution_count": null,
   "metadata": {},
   "outputs": [],
   "source": [
    "import gradio as gr\n",
    "import openai\n",
    "import requests\n",
    "from io import BytesIO\n",
    "from PIL import Image\n",
    "\n",
    "# Initialize OpenAI client\n",
    "client = openai.OpenAI(api_key=os.environ.get('OPENAI_API_KEY'))"
   ]
  },
  {
   "cell_type": "markdown",
   "metadata": {},
   "source": [
    "## Step 4: Define Functions"
   ]
  },
  {
   "cell_type": "code",
   "execution_count": null,
   "metadata": {},
   "outputs": [],
   "source": [
    "def generate_dad_joke(subject):\n",
    "    \"\"\"Generate a dad joke about the subject\"\"\"\n",
    "    response = client.chat.completions.create(\n",
    "        model=\"gpt-4\",\n",
    "        messages=[\n",
    "            {\n",
    "                \"role\": \"system\",\n",
    "                \"content\": \"You are a dad joke expert. Create funny, wholesome dad jokes with clever wordplay and groan-worthy punchlines.\"\n",
    "            },\n",
    "            {\n",
    "                \"role\": \"user\",\n",
    "                \"content\": f\"Create a short dad joke about: {subject}. Format: Setup: [setup] Punchline: [punchline]\"\n",
    "            }\n",
    "        ],\n",
    "        max_tokens=150,\n",
    "        temperature=0.9\n",
    "    )\n",
    "    return response.choices[0].message.content.strip()\n",
    "\n",
    "\n",
    "def generate_title(joke):\n",
    "    \"\"\"Generate a newspaper-style title\"\"\"\n",
    "    response = client.chat.completions.create(\n",
    "        model=\"gpt-4\",\n",
    "        messages=[\n",
    "            {\n",
    "                \"role\": \"system\",\n",
    "                \"content\": \"Create short, punchy, newspaper-style headlines (5-8 words max).\"\n",
    "            },\n",
    "            {\n",
    "                \"role\": \"user\",\n",
    "                \"content\": f\"Create a funny headline for this joke:\\n{joke}\\n\\nReturn only the headline.\"\n",
    "            }\n",
    "        ],\n",
    "        max_tokens=50,\n",
    "        temperature=0.8\n",
    "    )\n",
    "    return response.choices[0].message.content.strip().strip('\"')\n",
    "\n",
    "\n",
    "def generate_cartoon(joke):\n",
    "    \"\"\"Generate a cartoon illustration\"\"\"\n",
    "    prompt = f\"\"\"Classical black and white newspaper cartoon, 1950s style.\n",
    "    Simple line art with cross-hatching. Family-friendly.\n",
    "    Depicts: {joke}\n",
    "    Style: Single panel comic strip, clean lines.\"\"\"\n",
    "    \n",
    "    response = client.images.generate(\n",
    "        model=\"dall-e-3\",\n",
    "        prompt=prompt,\n",
    "        size=\"1024x1024\",\n",
    "        quality=\"standard\",\n",
    "        n=1\n",
    "    )\n",
    "    \n",
    "    # Download the image\n",
    "    image_url = response.data[0].url\n",
    "    image_response = requests.get(image_url)\n",
    "    image = Image.open(BytesIO(image_response.content))\n",
    "    return image\n",
    "\n",
    "\n",
    "def create_dad_joke_package(subject):\n",
    "    \"\"\"Main function - generates everything\"\"\"\n",
    "    if not subject or subject.strip() == \"\":\n",
    "        return \"Please enter a subject!\", \"\", None\n",
    "    \n",
    "    print(f\"🎭 Generating dad joke about '{subject}'...\")\n",
    "    \n",
    "    # Generate joke\n",
    "    joke = generate_dad_joke(subject)\n",
    "    print(\"😂 Joke created!\")\n",
    "    \n",
    "    # Generate title\n",
    "    title = generate_title(joke)\n",
    "    print(\"📰 Title created!\")\n",
    "    \n",
    "    # Generate cartoon\n",
    "    image = generate_cartoon(joke)\n",
    "    print(\"🎨 Cartoon created!\")\n",
    "    \n",
    "    return joke, title, image"
   ]
  },
  {
   "cell_type": "markdown",
   "metadata": {},
   "source": [
    "## Step 5: Create and Launch the Interface"
   ]
  },
  {
   "cell_type": "code",
   "execution_count": null,
   "metadata": {},
   "outputs": [],
   "source": [
    "# Create the interface\n",
    "with gr.Blocks(title=\"Dad Joke Generator\", theme=gr.themes.Soft()) as demo:\n",
    "    gr.Markdown(\n",
    "        \"\"\"\n",
    "        # 🎭 AI Dad Joke Generator\n",
    "        Enter any subject and get a dad joke with a title and cartoon!\n",
    "        \"\"\"\n",
    "    )\n",
    "    \n",
    "    with gr.Row():\n",
    "        with gr.Column(scale=1):\n",
    "            subject_input = gr.Textbox(\n",
    "                label=\"Subject or Theme\",\n",
    "                placeholder=\"e.g., coffee, cats, programming...\",\n",
    "                lines=2\n",
    "            )\n",
    "            generate_btn = gr.Button(\"Generate Dad Joke! 😄\", variant=\"primary\", size=\"lg\")\n",
    "            \n",
    "            gr.Examples(\n",
    "                examples=[[\"coffee\"], [\"cats\"], [\"computers\"], [\"pizza\"], [\"ocean\"]],\n",
    "                inputs=subject_input\n",
    "            )\n",
    "        \n",
    "        with gr.Column(scale=2):\n",
    "            title_output = gr.Textbox(label=\"📰 Headline\", lines=2, interactive=False)\n",
    "            joke_output = gr.Textbox(label=\"😂 The Dad Joke\", lines=4, interactive=False)\n",
    "            image_output = gr.Image(label=\"🎨 Cartoon Illustration\", type=\"pil\")\n",
    "    \n",
    "    # Connect button to function\n",
    "    generate_btn.click(\n",
    "        fn=create_dad_joke_package,\n",
    "        inputs=subject_input,\n",
    "        outputs=[joke_output, title_output, image_output]\n",
    "    )\n",
    "\n",
    "# Launch the app\n",
    "demo.launch(share=True, inline=True)"
   ]
  },
  {
   "cell_type": "markdown",
   "metadata": {},
   "source": [
    "---\n",
    "\n",
    "## 🎉 That's it!\n",
    "\n",
    "The interface should now be running above. Enter a subject and click \"Generate Dad Joke!\"\n",
    "\n",
    "**Tips:**\n",
    "- Try simple subjects like \"dogs\", \"coffee\", \"coding\"\n",
    "- Generation takes 15-20 seconds\n",
    "- Each joke costs about $0.05\n",
    "\n",
    "**To use cheaper GPT-3.5-Turbo:** Change `model=\"gpt-4\"` to `model=\"gpt-3.5-turbo\"` in the functions above."
   ]
  }
 ],
 "metadata": {
  "kernelspec": {
   "display_name": "Python 3",
   "language": "python",
   "name": "python3"
  },
  "language_info": {
   "codemirror_mode": {
    "name": "ipython",
    "version": 3
   },
   "file_extension": ".py",
   "mimetype": "text/x-python",
   "name": "python",
   "nbconvert_exporter": "python",
   "pygments_lexer": "ipython3",
   "version": "3.8.0"
  }
 },
 "nbformat": 4,
 "nbformat_minor": 4
}
