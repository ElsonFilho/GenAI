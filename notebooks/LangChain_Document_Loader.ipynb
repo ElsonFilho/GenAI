{
  "cells": [
    {
      "cell_type": "markdown",
      "metadata": {
        "id": "NWHbXOkSKcF3"
      },
      "source": [
        "# Load Documents Using LangChain for Different Sources\n"
      ]
    },
    {
      "cell_type": "markdown",
      "metadata": {
        "id": "CASj4mThKcF3"
      },
      "source": [
        "LangChain offers convenient loaders for reading and converting files into a unified document format. This common structure ensures that documents—regardless of their original format—can be seamlessly processed in the same way. Here, we'll cover loading data from text, PDF, Word, JSON, CSV, and other formats, making it easy to process diverse documents in a consistent way for LLM applications."
      ]
    },
    {
      "cell_type": "markdown",
      "metadata": {
        "id": "AgoqI9KIKcF3"
      },
      "source": [
        "LangChain provides more document loaders for various document formats [here](https://python.langchain.com/v0.2/docs/integrations/document_loaders/).)\n"
      ]
    },
    {
      "cell_type": "markdown",
      "metadata": {
        "id": "2x67TsT-KcF3"
      },
      "source": [
        "----\n"
      ]
    },
    {
      "cell_type": "markdown",
      "metadata": {
        "id": "znkM5m4QKcF4"
      },
      "source": [
        "## Setup\n"
      ]
    },
    {
      "cell_type": "code",
      "execution_count": 2,
      "metadata": {
        "id": "Fo5LIGtrKcF4",
        "cellView": "form"
      },
      "outputs": [],
      "source": [
        "# @title Install required libraries\n",
        "%%capture\n",
        "#After executing the cell,please RESTART the kernel (or Restart the Session).\n",
        "!pip install --user \"langchain-community==0.2.1\"\n",
        "!pip install --user \"pypdf==4.2.0\"\n",
        "!pip install --user \"PyMuPDF==1.24.5\"\n",
        "!pip install --user \"unstructured==0.14.8\"\n",
        "!pip install --user \"markdown==3.6\"\n",
        "!pip install --user \"jq==1.7.0\"\n",
        "!pip install --user \"pandas==2.2.2\"\n",
        "!pip install --user \"docx2txt==0.8\"\n",
        "!pip install --user \"requests==2.32.3\"\n",
        "!pip install --user \"nltk==3.8.0\"\n",
        "!pip install arxiv\n"
      ]
    },
    {
      "cell_type": "code",
      "execution_count": 2,
      "metadata": {
        "colab": {
          "base_uri": "https://localhost:8080/"
        },
        "id": "wJOcEHj1KcF4",
        "outputId": "0a7ae136-7695-4053-ce65-571d197e8b3c",
        "cellView": "form"
      },
      "outputs": [
        {
          "output_type": "stream",
          "name": "stderr",
          "text": [
            "[nltk_data] Downloading package punkt_tab to /root/nltk_data...\n",
            "[nltk_data]   Unzipping tokenizers/punkt_tab.zip.\n",
            "[nltk_data] Downloading package averaged_perceptron_tagger_eng to\n",
            "[nltk_data]     /root/nltk_data...\n",
            "[nltk_data]   Unzipping taggers/averaged_perceptron_tagger_eng.zip.\n"
          ]
        },
        {
          "output_type": "execute_result",
          "data": {
            "text/plain": [
              "True"
            ]
          },
          "metadata": {},
          "execution_count": 2
        }
      ],
      "source": [
        "# @title Import required libraries\n",
        "\n",
        "def warn(*args, **kwargs):\n",
        "    pass\n",
        "import warnings\n",
        "warnings.warn = warn\n",
        "warnings.filterwarnings('ignore')\n",
        "\n",
        "from pprint import pprint\n",
        "import json\n",
        "from pathlib import Path\n",
        "import nltk\n",
        "from langchain_community.document_loaders import TextLoader\n",
        "from langchain_community.document_loaders import PyPDFLoader\n",
        "from langchain_community.document_loaders import PyMuPDFLoader\n",
        "from langchain_community.document_loaders import UnstructuredMarkdownLoader\n",
        "from langchain_community.document_loaders import JSONLoader\n",
        "from langchain_community.document_loaders.csv_loader import CSVLoader\n",
        "from langchain_community.document_loaders.csv_loader import UnstructuredCSVLoader\n",
        "from langchain_community.document_loaders import WebBaseLoader\n",
        "from langchain_community.document_loaders import Docx2txtLoader\n",
        "from langchain_community.document_loaders import UnstructuredFileLoader\n",
        "from langchain_community.document_loaders import ArxivLoader\n",
        "\n",
        "nltk.download('punkt_tab')\n",
        "nltk.download('averaged_perceptron_tagger_eng')"
      ]
    },
    {
      "cell_type": "markdown",
      "source": [
        "----"
      ],
      "metadata": {
        "id": "TkiasVlNMwtf"
      }
    },
    {
      "cell_type": "markdown",
      "metadata": {
        "id": "QQIhxQgzKcF4"
      },
      "source": [
        "## Load from TXT files\n"
      ]
    },
    {
      "cell_type": "markdown",
      "metadata": {
        "id": "yXJhV0HyKcF4"
      },
      "source": [
        "The `TextLoader` is a tool designed to load textual data from various sources.\n",
        "\n",
        "It is the simplest loader, reading a file as text and placing all the content into a single document.\n"
      ]
    },
    {
      "cell_type": "code",
      "execution_count": null,
      "metadata": {
        "colab": {
          "base_uri": "https://localhost:8080/"
        },
        "id": "ngZcAACIKcF4",
        "outputId": "b4c37572-e320-450a-b9f9-fd14933c22d2"
      },
      "outputs": [
        {
          "output_type": "stream",
          "name": "stdout",
          "text": [
            "--2025-09-04 15:12:17--  https://www.gutenberg.org/cache/epub/74/pg74.txt\n",
            "Resolving www.gutenberg.org (www.gutenberg.org)... 152.19.134.47, 2610:28:3090:3000:0:bad:cafe:47\n",
            "Connecting to www.gutenberg.org (www.gutenberg.org)|152.19.134.47|:443... connected.\n",
            "HTTP request sent, awaiting response... 200 OK\n",
            "Length: 434401 (424K) [text/plain]\n",
            "Saving to: ‘pg74.txt’\n",
            "\n",
            "pg74.txt            100%[===================>] 424.22K  --.-KB/s    in 0.1s    \n",
            "\n",
            "2025-09-04 15:12:17 (3.42 MB/s) - ‘pg74.txt’ saved [434401/434401]\n",
            "\n"
          ]
        }
      ],
      "source": [
        "!wget \"https://www.gutenberg.org/cache/epub/74/pg74.txt\""
      ]
    },
    {
      "cell_type": "markdown",
      "metadata": {
        "id": "mmEPU2MkKcF5"
      },
      "source": [
        "Next, we will use the `TextLoader` class to load the file.\n"
      ]
    },
    {
      "cell_type": "code",
      "source": [
        "# Download the text from Project Gutenberg\n",
        "!wget 'https://www.gutenberg.org/cache/epub/74/pg74.txt'"
      ],
      "metadata": {
        "colab": {
          "base_uri": "https://localhost:8080/"
        },
        "id": "UrifxyA6iLUk",
        "outputId": "a4d0b43c-b4ff-4283-c219-5655a8c434b1"
      },
      "execution_count": null,
      "outputs": [
        {
          "output_type": "stream",
          "name": "stdout",
          "text": [
            "--2025-09-04 16:28:25--  https://www.gutenberg.org/cache/epub/74/pg74.txt\n",
            "Resolving www.gutenberg.org (www.gutenberg.org)... 152.19.134.47, 2610:28:3090:3000:0:bad:cafe:47\n",
            "Connecting to www.gutenberg.org (www.gutenberg.org)|152.19.134.47|:443... connected.\n",
            "HTTP request sent, awaiting response... 200 OK\n",
            "Length: 434401 (424K) [text/plain]\n",
            "Saving to: ‘pg74.txt’\n",
            "\n",
            "pg74.txt            100%[===================>] 424.22K  --.-KB/s    in 0.1s    \n",
            "\n",
            "2025-09-04 16:28:26 (3.58 MB/s) - ‘pg74.txt’ saved [434401/434401]\n",
            "\n"
          ]
        }
      ]
    },
    {
      "cell_type": "code",
      "execution_count": null,
      "metadata": {
        "id": "0J-PD1tbKcF5"
      },
      "outputs": [],
      "source": [
        "loader = TextLoader(\"/content/pg74.txt\")\n",
        "data = loader.load()"
      ]
    },
    {
      "cell_type": "code",
      "execution_count": null,
      "metadata": {
        "colab": {
          "base_uri": "https://localhost:8080/"
        },
        "id": "rllxQ0PkKcF5",
        "outputId": "4b792b21-a435-49e8-aaa2-6ac076a02822"
      },
      "outputs": [
        {
          "output_type": "stream",
          "name": "stdout",
          "text": [
            "<class 'list'>\n",
            "1\n",
            "('CHAPTER I\\n'\n",
            " '\\n'\n",
            " '\\n'\n",
            " '“Tom!”\\n'\n",
            " '\\n'\n",
            " 'No answer.\\n'\n",
            " '\\n'\n",
            " '“TOM!”\\n'\n",
            " '\\n'\n",
            " 'No answer.\\n'\n",
            " '\\n'\n",
            " '“What’s gone with that boy, I wonder? You TOM!”\\n'\n",
            " '\\n'\n",
            " 'No answer.\\n'\n",
            " '\\n'\n",
            " 'The old lady pulled her spectacles down and looked over them about the\\n'\n",
            " 'room; then she put them up and looked out under them. She seldom or\\n'\n",
            " 'never looked _through_ them for so small a thing as a boy; they were\\n'\n",
            " 'her state pair, the pride of her heart, and were built for “style,” not\\n'\n",
            " 'service—she could have seen through a pair of stove-lids just as well.\\n'\n",
            " 'She looked perplexed for a moment, and then said, not fiercely, but\\n'\n",
            " 'still loud enough for the furniture to hear:\\n'\n",
            " '\\n'\n",
            " '“Well, I lay if I get hold of you I’ll—”')\n"
          ]
        }
      ],
      "source": [
        "# Inspect the loaded data\n",
        "\n",
        "print(type(data))      # Should be a list\n",
        "print(len(data))       # Usually 1 for a single text file\n",
        "\n",
        "# Print a a snippet.\n",
        "pprint(data[0].page_content[7498:8116])\n"
      ]
    },
    {
      "cell_type": "markdown",
      "metadata": {
        "id": "X6_vVJ7HKcF5"
      },
      "source": [
        "## Load from PDF files\n"
      ]
    },
    {
      "cell_type": "markdown",
      "metadata": {
        "id": "HU2jIqcsKcF5"
      },
      "source": [
        "LangChain provides several classes for loading PDFs. Here, we are using the `PyMuPDFLoader`.\n"
      ]
    },
    {
      "cell_type": "markdown",
      "metadata": {
        "id": "retQq739KcF5"
      },
      "source": [
        "`PyMuPDFLoader` is the fastest of the PDF parsing options. It provides detailed metadata about the PDF and its pages.\n"
      ]
    },
    {
      "cell_type": "code",
      "execution_count": null,
      "metadata": {
        "id": "q3HXKiw-KcGC"
      },
      "outputs": [],
      "source": [
        "pdf_url = \"https://teses.usp.br/teses/disponiveis/55/55134/tde-19032018-172227/publico/ElsonFelixMendesFilho.pdf\"\n",
        "loader = PyMuPDFLoader(pdf_url)\n",
        "data = loader.load()"
      ]
    },
    {
      "cell_type": "code",
      "execution_count": null,
      "metadata": {
        "colab": {
          "base_uri": "https://localhost:8080/"
        },
        "id": "mOVJjY3xKcGC",
        "outputId": "6b6fef3a-79a8-49cd-88b8-d3ca735577c2"
      },
      "outputs": [
        {
          "output_type": "stream",
          "name": "stdout",
          "text": [
            "page_content='PROJETO EVOLUCIONÁRIO DE \n",
            "REDES NEURA1S ARTIFICIAIS \n",
            "PARA AVALIAÇÃO DE CRÉDITO \n",
            "FINANCEIRO \n",
            "Elson Feiix Mendes Filho \n",
            "Orientador: Prof. Dr. André Carlos Ponce de \n",
            "Leon Ferreira de Carvalho \n",
            "' metadata={'source': 'https://teses.usp.br/teses/disponiveis/55/55134/tde-19032018-172227/publico/ElsonFelixMendesFilho.pdf', 'file_path': 'https://teses.usp.br/teses/disponiveis/55/55134/tde-19032018-172227/publico/ElsonFelixMendesFilho.pdf', 'page': 0, 'total_pages': 96, 'format': 'PDF 1.6', 'title': '', 'author': '', 'subject': '', 'keywords': '', 'creator': 'PaperPort 14', 'producer': 'PaperPort 14', 'creationDate': \"D:20170207100313-03'00'\", 'modDate': \"D:20170207124523-02'00'\", 'trapped': '', 'encryption': 'Standard V2 R3 128-bit RC4'}\n"
          ]
        }
      ],
      "source": [
        "print(data[0])"
      ]
    },
    {
      "cell_type": "code",
      "source": [
        "# Print a a snippet.\n",
        "page_number = 10  # 0-based index (page 6)\n",
        "page_text = data[page_number].page_content\n",
        "print(page_text[:1800])  # first 500 characters of that page"
      ],
      "metadata": {
        "colab": {
          "base_uri": "https://localhost:8080/"
        },
        "id": "V9djhz1aaffK",
        "outputId": "9e615230-6d49-47b3-e659-76ed90cae52c"
      },
      "execution_count": null,
      "outputs": [
        {
          "output_type": "stream",
          "name": "stdout",
          "text": [
            "D(\n",
            "ABSTRACT\n",
            "MENDES, E.F.F. (1997). Evolutionary Design of Artificial Neural Networks þr Credit\n",
            "Evaluation São Carlos, 1997. 85 p. Dissertação (Mestrado) - Instituto de Ciências\n",
            "Matemáticas de São Carlos, Universidade de São paulo.\n",
            "he risk of credit evaluation has been estimated empirically or through credit score systems.\n",
            "However, with the growth of the massive credit market, this activity arnacted more aúention,\n",
            "mainly due to the increase of indebt rates, which has occasioned largelosses to the donors of the\n",
            "resources.\n",
            "Artificial Neural Networks (AIIN) can be trained using avery large quantity of significant\n",
            "examples. Using this technique, the credit evaluation can be modeled through the Ãamples\n",
            "found in the historical data of the credit applicants.\n",
            "Nevertheless, the topology and the learning parameters of ANNs must be adequately set for\n",
            "an efficient performance to be achieved. Recently Genetic Algorithms (GA) have been proposed\n",
            "to overcome these problems. These algorithms are based on natural selection and gãnetic\n",
            "mechanisms, that can be used to find adequate neural a¡chitectures.\n",
            "The objectives of this work is to investigate how the ANN design can benefit from the use of\n",
            "GA to the determination of its architecture and the behavior of ANN as a tool for financial credit\n",
            "analysis.\n",
            "To evaluate the models developed two different data sets, composed by real information\n",
            "about credit applications, were used. The first of these data sets is composed úy data from credit\n",
            "card applications, whose purpose is to imitate the human evaluation. The second data set is\n",
            "composed by information about banking credit customers and their payment historical data. Its\n",
            "pu{pose is to predict the behavioral of new customers.\n",
            "Keyworks: Neural Networks, Genetic Algorithms, credit, Finance.\n",
            "\n"
          ]
        }
      ]
    },
    {
      "cell_type": "markdown",
      "metadata": {
        "id": "bphK8DhiKcGC"
      },
      "source": [
        "## Load from Markdown files\n"
      ]
    },
    {
      "cell_type": "markdown",
      "metadata": {
        "id": "5ZsLcLZCKcGC"
      },
      "source": [
        "LangChain provides the `UnstructuredMarkdownLoader` to load content from Markdown files.\n"
      ]
    },
    {
      "cell_type": "code",
      "execution_count": 32,
      "metadata": {
        "colab": {
          "base_uri": "https://localhost:8080/"
        },
        "id": "qUegsELjKcGC",
        "outputId": "da4b16d4-5cc8-41ae-883a-6a435ad5897c"
      },
      "outputs": [
        {
          "output_type": "stream",
          "name": "stdout",
          "text": [
            "--2025-09-05 10:31:14--  https://raw.githubusercontent.com/ElsonFilho/Python_ML/main/README.md\n",
            "Resolving raw.githubusercontent.com (raw.githubusercontent.com)... 185.199.108.133, 185.199.109.133, 185.199.110.133, ...\n",
            "Connecting to raw.githubusercontent.com (raw.githubusercontent.com)|185.199.108.133|:443... connected.\n",
            "HTTP request sent, awaiting response... 200 OK\n",
            "Length: 5610 (5.5K) [text/plain]\n",
            "Saving to: ‘README.md’\n",
            "\n",
            "\rREADME.md             0%[                    ]       0  --.-KB/s               \rREADME.md           100%[===================>]   5.48K  --.-KB/s    in 0s      \n",
            "\n",
            "2025-09-05 10:31:14 (34.3 MB/s) - ‘README.md’ saved [5610/5610]\n",
            "\n"
          ]
        }
      ],
      "source": [
        "!wget 'https://raw.githubusercontent.com/ElsonFilho/Python_ML/main/README.md'"
      ]
    },
    {
      "cell_type": "code",
      "execution_count": null,
      "metadata": {
        "id": "O17_uzvwKcGC"
      },
      "outputs": [],
      "source": [
        "loader = UnstructuredMarkdownLoader(\"/content/README.md\")"
      ]
    },
    {
      "cell_type": "code",
      "execution_count": null,
      "metadata": {
        "colab": {
          "base_uri": "https://localhost:8080/"
        },
        "id": "fZqP81BuKcGD",
        "outputId": "ae117f64-28d6-4c04-8e47-396527b5aedb"
      },
      "outputs": [
        {
          "output_type": "stream",
          "name": "stdout",
          "text": [
            "[Document(metadata={'source': '/content/README.md'}, page_content=\"Python_ML\\n\\nThis repository contains a collection of Python notebooks illustrating fundamental concepts and practical applications in machine learning. It is structured into five modules, each focusing on a specific area within the field.\\n\\nTable of Contents\\n\\nModule 1: Linear and Logistic Regression\\n\\nModule 2: Building Supervised Learning Models\\n\\nModule 3: Building Unsupervised Learning Models\\n\\nModule 4: Evaluating and Validating Machine Learning Models\\n\\nModule 5: Complete Project\\n\\nNotebooks\\n\\nModule 1: Linear and Logistic Regression\\n\\nThis module introduces two classical statistical methods foundational to Machine Learning: Linear and Logistic Regression.\\n\\nLearn how linear regression, pioneered in the 1800s, models linear relationships while logistic regression serves as a classifier. Through implementing these models, understand their limitations and gain insight into why modern machine-learning models are often preferred.\\n\\nNotes: Pay close attention to the mathematical formulations of these models and the interpretation of their coefficients. Understanding the assumptions underlying each model is crucial for applying them correctly.\\n\\nExample: For a practical demonstration of linear and logistic regression, please see the Linear_Logistic_Regression.ipynb notebook.\\n\\nModule 2: Building Supervised Learning Models\\n\\nIn this module, you’ll learn about implementing modern supervised machine learning models. You will start by understanding how binary classification works and discover how to construct a multiclass classifier from binary classification components. You’ll learn what decision trees are, how they learn, and how to build them. Decision trees, which are used to solve classification problems, have a natural extension called regression trees, which can handle regression problems. You’ll learn about other supervised learning models, like KNN and SVM. You’ll learn what bias and variance are in model fitting and the tradeoff between bias and variance that is inherent to all learning models in various degrees. You’ll learn strategies for mitigating this tradeoff and work with models that do a very good job accomplishing that goal.\\n\\nNotes: Experiment with different hyperparameters for each model to observe their impact on performance. Understanding the bias-variance tradeoff is key to selecting and tuning supervised learning models effectively.\\n\\nExample: Explore the implementation of various supervised learning models in the Supervised_Learning_Models.ipynb notebook.\\n\\nModule 3: Building Unsupervised Learning Models\\n\\nIn this module, you’ll dive into unsupervised learning, where algorithms uncover patterns in data without labeled examples. You’ll explore clustering strategies and real-world applications, focusing on techniques like hierarchical clustering, k-means, and advanced methods such as DBSCAN and HDBSCAN. Through practical labs, you’ll gain a deeper understanding of how to compare and implement these algorithms effectively. Additionally, you’ll delve into dimension reduction algorithms like PCA (Principal Component Analysis), t-SNE, and UMAP to reduce dataset features and simplify other modeling tasks. Using Python, you’ll implement these clustering and dimensionality reduction techniques, learning how to integrate them with feature engineering to prepare data for machine learning models.\\n\\nNotes: Consider the strengths and weaknesses of each clustering and dimensionality reduction technique. The choice of algorithm often depends on the specific characteristics of your data.\\n\\nExample: Discover how to implement unsupervised learning techniques in the Unsupervised_Learning_Models.ipynb notebook.\\n\\nModule 4: Evaluating and Validating Machine Learning Models\\n\\nThis module covers how to assess model performance on unseen data, starting with key evaluation metrics for classification and regression. You’ll also explore hyperparameter tuning to optimize models while avoiding overfitting using cross-validation. Special techniques, such as regularization in linear regression, will be introduced to handle overfitting due to outliers. Hands-on exercises in Python will guide you through model fine-tuning and cross-validation for reliable model evaluation.\\n\\nNotes: Pay close attention to the different evaluation metrics and when each is most appropriate. Cross-validation is a crucial technique for obtaining a reliable estimate of a model's generalization performance.\\n\\nExample: Learn about evaluating and validating machine learning models in the Model_Evaluation_Validation.ipynb notebook.\\n\\nModule 5: Complete Project\\n\\nIn this concluding module, you’ll review everything in a single project.\\n\\nNotes: This project will integrate the concepts and techniques learned in the previous modules. Focus on the entire machine learning pipeline, from data preprocessing to model evaluation.\\n\\nExample: Work through the complete project in the Titanic.ipynb notebook.\\n\\nNotebooks\\n\\nAll the Jupyter notebooks containing the code examples for each module are located in the notebooks/ directory.\")]\n"
          ]
        }
      ],
      "source": [
        "print(data)"
      ]
    },
    {
      "cell_type": "markdown",
      "metadata": {
        "id": "woIDnISuKcGD"
      },
      "source": [
        "## Load from JSON files\n",
        "\n"
      ]
    },
    {
      "cell_type": "markdown",
      "metadata": {
        "id": "p4AmTEkGKcGD"
      },
      "source": [
        "The JSONLoader uses a specified [jq schema](https://en.wikipedia.org/wiki/Jq_(programming_language)) to parse the JSON files. It uses the jq python package, which we've installed before.\n"
      ]
    },
    {
      "cell_type": "code",
      "execution_count": null,
      "metadata": {
        "colab": {
          "base_uri": "https://localhost:8080/"
        },
        "id": "rF6qJVNlKcGD",
        "outputId": "4baea52a-2566-43ef-dac9-d72c755dd0b2"
      },
      "outputs": [
        {
          "output_type": "stream",
          "name": "stdout",
          "text": [
            "--2025-09-04 16:41:04--  https://raw.githubusercontent.com/gitrows/data/master/iris.json\n",
            "Resolving raw.githubusercontent.com (raw.githubusercontent.com)... 185.199.108.133, 185.199.109.133, 185.199.110.133, ...\n",
            "Connecting to raw.githubusercontent.com (raw.githubusercontent.com)|185.199.108.133|:443... connected.\n",
            "HTTP request sent, awaiting response... 200 OK\n",
            "Length: 15802 (15K) [text/plain]\n",
            "Saving to: ‘iris.json.1’\n",
            "\n",
            "\riris.json.1           0%[                    ]       0  --.-KB/s               \riris.json.1         100%[===================>]  15.43K  --.-KB/s    in 0.002s  \n",
            "\n",
            "2025-09-04 16:41:04 (9.12 MB/s) - ‘iris.json.1’ saved [15802/15802]\n",
            "\n"
          ]
        }
      ],
      "source": [
        "!wget 'https://raw.githubusercontent.com/gitrows/data/master/iris.json'"
      ]
    },
    {
      "cell_type": "markdown",
      "metadata": {
        "id": "t1bRITflKcGD"
      },
      "source": [
        "First, let's use `pprint` to take a look at the JSON file and its structure.\n"
      ]
    },
    {
      "cell_type": "code",
      "execution_count": null,
      "metadata": {
        "id": "3NX4E4odKcGD"
      },
      "outputs": [],
      "source": [
        "file_path='/content/iris.json'\n",
        "data = json.loads(Path(file_path).read_text())"
      ]
    },
    {
      "cell_type": "code",
      "execution_count": null,
      "metadata": {
        "id": "oVN6g5aNKcGD"
      },
      "outputs": [],
      "source": [
        "jq_schema = '.[] | {sepal_length, sepal_width, petal_length, petal_width, species}'\n",
        "\n",
        "loader = JSONLoader(file_path=file_path, jq_schema=jq_schema, text_content=False)\n",
        "data = loader.load()"
      ]
    },
    {
      "cell_type": "code",
      "execution_count": null,
      "metadata": {
        "colab": {
          "base_uri": "https://localhost:8080/"
        },
        "id": "_XVusI6QKcGD",
        "outputId": "01079599-439b-4c9a-87dd-82424a6d66c8"
      },
      "outputs": [
        {
          "output_type": "stream",
          "name": "stdout",
          "text": [
            "{\"sepal_length\": null, \"sepal_width\": null, \"petal_length\": null, \"petal_width\": null, \"species\": \"setosa\"}\n"
          ]
        }
      ],
      "source": [
        " # print first characters\n",
        "print(str(data[0].page_content)[:200])"
      ]
    },
    {
      "cell_type": "markdown",
      "metadata": {
        "id": "I2CU8DePKcGD"
      },
      "source": [
        "## Load from CSV files\n"
      ]
    },
    {
      "cell_type": "markdown",
      "metadata": {
        "id": "LrMgGmYsKcGD"
      },
      "source": [
        "CSV files are a common format for storing tabular data. The `CSVLoader` provides a convenient way to read and process this data.\n"
      ]
    },
    {
      "cell_type": "code",
      "execution_count": null,
      "metadata": {
        "colab": {
          "base_uri": "https://localhost:8080/"
        },
        "id": "up0omukpKcGD",
        "outputId": "c375eda6-4af0-4792-c057-6fa54eada8a3"
      },
      "outputs": [
        {
          "output_type": "stream",
          "name": "stdout",
          "text": [
            "--2025-09-04 16:45:53--  https://raw.githubusercontent.com/ElsonFilho/Python_ML/refs/heads/main/data/Cust_Segmentation.csv\n",
            "Resolving raw.githubusercontent.com (raw.githubusercontent.com)... 185.199.108.133, 185.199.109.133, 185.199.110.133, ...\n",
            "Connecting to raw.githubusercontent.com (raw.githubusercontent.com)|185.199.108.133|:443... connected.\n",
            "HTTP request sent, awaiting response... 200 OK\n",
            "Length: 35017 (34K) [text/plain]\n",
            "Saving to: ‘Cust_Segmentation.csv’\n",
            "\n",
            "\rCust_Segmentation.c   0%[                    ]       0  --.-KB/s               \rCust_Segmentation.c 100%[===================>]  34.20K  --.-KB/s    in 0.01s   \n",
            "\n",
            "2025-09-04 16:45:53 (3.24 MB/s) - ‘Cust_Segmentation.csv’ saved [35017/35017]\n",
            "\n"
          ]
        }
      ],
      "source": [
        "!wget 'https://raw.githubusercontent.com/ElsonFilho/Python_ML/refs/heads/main/data/Cust_Segmentation.csv'"
      ]
    },
    {
      "cell_type": "code",
      "execution_count": null,
      "metadata": {
        "id": "1Nlt96vuKcGD"
      },
      "outputs": [],
      "source": [
        "loader = CSVLoader(file_path='/content/Cust_Segmentation.csv')\n",
        "data = loader.load()"
      ]
    },
    {
      "cell_type": "code",
      "execution_count": null,
      "metadata": {
        "colab": {
          "base_uri": "https://localhost:8080/"
        },
        "id": "mrS6uo90KcGE",
        "outputId": "10a9507e-8bfc-4250-e89b-3add959cd3c8"
      },
      "outputs": [
        {
          "output_type": "stream",
          "name": "stdout",
          "text": [
            "Customer Id: 1\n",
            "Age: 41\n",
            "Edu: 2\n",
            "Years Employed: 6\n",
            "Income: 19\n",
            "Card Debt: 0.124\n",
            "Other Debt: 1.073\n",
            "Defaulted: 0.0\n",
            "Address: NBA001\n",
            "DebtIncomeRatio: 6.3\n",
            "-----\n",
            "Customer Id: 2\n",
            "Age: 47\n",
            "Edu: 1\n",
            "Years Employed: 26\n",
            "Income: 100\n",
            "Card Debt: 4.582\n",
            "Other Debt: 8.218\n",
            "Defaulted: 0.0\n",
            "Address: NBA021\n",
            "DebtIncomeRatio: 12.8\n",
            "-----\n",
            "Customer Id: 3\n",
            "Age: 33\n",
            "Edu: 2\n",
            "Years Employed: 10\n",
            "Income: 57\n",
            "Card Debt: 6.111\n",
            "Other Debt: 5.802\n",
            "Defaulted: 1.0\n",
            "Address: NBA013\n",
            "DebtIncomeRatio: 20.9\n",
            "-----\n",
            "Customer Id: 4\n",
            "Age: 29\n",
            "Edu: 2\n",
            "Years Employed: 4\n",
            "Income: 19\n",
            "Card Debt: 0.681\n",
            "Other Debt: 0.516\n",
            "Defaulted: 0.0\n",
            "Address: NBA009\n",
            "DebtIncomeRatio: 6.3\n",
            "-----\n",
            "Customer Id: 5\n",
            "Age: 47\n",
            "Edu: 1\n",
            "Years Employed: 31\n",
            "Income: 253\n",
            "Card Debt: 9.308\n",
            "Other Debt: 8.908\n",
            "Defaulted: 0.0\n",
            "Address: NBA008\n",
            "DebtIncomeRatio: 7.2\n",
            "-----\n"
          ]
        }
      ],
      "source": [
        "for doc in data[:5]:\n",
        "    print(doc.page_content)\n",
        "    print(\"-----\")"
      ]
    },
    {
      "cell_type": "markdown",
      "metadata": {
        "id": "4gn2fN9HKcGE"
      },
      "source": [
        "When you load data from a CSV file, the loader typically creates a separate `Document` object for each row of data in the CSV.\n"
      ]
    },
    {
      "cell_type": "markdown",
      "metadata": {
        "id": "oiD8oWfoKcGE"
      },
      "source": [
        "## UnstructuredCSVLoader\n"
      ]
    },
    {
      "cell_type": "markdown",
      "metadata": {
        "id": "AHXFRnbAKcGE"
      },
      "source": [
        "In contrast to `CSVLoader`, which treats each row as an individual document with headers defining the data, `UnstructuredCSVLoader` considers the entire CSV file as a single unstructured table element. This approach is beneficial when you want to analyze the data as a complete table rather than as separate entries.\n"
      ]
    },
    {
      "cell_type": "code",
      "execution_count": null,
      "metadata": {
        "id": "GT-158WbKcGE"
      },
      "outputs": [],
      "source": [
        "loader = UnstructuredCSVLoader(\n",
        "    file_path=\"/content/Cust_Segmentation.csv\", mode=\"elements\"\n",
        ")\n",
        "data = loader.load()"
      ]
    },
    {
      "cell_type": "code",
      "execution_count": null,
      "metadata": {
        "colab": {
          "base_uri": "https://localhost:8080/",
          "height": 142
        },
        "id": "eCQtoCLJKcGE",
        "outputId": "1ec9a334-1e57-482f-ddbf-7bacf11007db"
      },
      "outputs": [
        {
          "output_type": "execute_result",
          "data": {
            "text/plain": [
              "'\\n\\n\\nCustomer Id\\nAge\\nEdu\\nYears Employed\\nIncome\\nCard Debt\\nOther Debt\\nDefaulted\\nAddress\\nDebtIncomeRatio\\n\\n\\n1\\n41\\n2\\n6\\n19\\n0.124\\n1.073\\n0.0\\nNBA001\\n6.3\\n\\n\\n2\\n47\\n1\\n26\\n100\\n4.582\\n8.218\\n0.0\\nNBA021\\n12.8\\n\\n\\n3\\n33\\n2\\n10\\n57\\n6.111\\n5.802\\n1.0\\nNBA013\\n20.9\\n\\n\\n4\\n29\\n2\\n4\\n19\\n0.681\\n0.516\\n0.0\\nNBA009\\n6.3\\n\\n\\n5\\n47\\n1\\n31\\n253\\n9.308\\n8.908\\n0.0\\nNBA008\\n7.2\\n\\n\\n6\\n40\\n1\\n23\\n81\\n0.998\\n7.831\\n\\nNBA016\\n10.9\\n\\n\\n7\\n38\\n2\\n4\\n56\\n0.442\\n0.454\\n0.0\\nNBA013\\n1.6\\n\\n\\n8\\n42\\n3\\n0\\n64\\n0.279\\n3.945\\n0.0\\nNBA009\\n6.6\\n\\n\\n9\\n26\\n1\\n5\\n18\\n0.575\\n2.215\\n\\nNBA006\\n15.5\\n\\n\\n10\\n47\\n3\\n23\\n115\\n0.653\\n3.947\\n0.0\\nNBA011\\n4.0\\n\\n\\n11\\n44\\n3\\n8\\n88\\n0.285\\n5.083\\n1.0\\nNBA010\\n6.1\\n\\n\\n12\\n34\\n2\\n9\\n40\\n0.374\\n0.266\\n\\nNBA003\\n1.6\\n\\n\\n13\\n24\\n1\\n7\\n18\\n0.526\\n0.643\\n0.0\\nNBA000\\n6.5\\n\\n\\n14\\n46\\n1\\n6\\n30\\n1.415\\n3.865\\n\\nNBA019\\n17.6\\n\\n\\n15\\n28\\n3\\n2\\n20\\n0.233\\n1.647\\n1.0\\nNBA000\\n9.4\\n\\n\\n16\\n24\\n1\\n1\\n16\\n0.185\\n1.287\\n\\nNBA005\\n9.2\\n\\n\\n17\\n29\\n1\\n1\\n17\\n0.132\\n0.293\\n0.0\\nNBA004\\n2.5\\n\\n\\n18\\n43\\n4\\n1\\n26\\n1.519\\n1.237\\n0.0\\nNBA005\\n10.6\\n\\n\\n19\\n44\\n1\\n18\\n61\\n2.806\\n3.782\\n\\nNBA000\\n10.8\\n\\n\\n20\\n36\\n1\\n16\\n32\\n0.544\\n2.944\\n\\nNBA013\\n10.9\\n\\n\\n21\\n29\\n2\\n6\\n25\\n0.585\\n0.465\\n0.0\\nNBA009\\n4.2\\n\\n\\n22\\n36\\n3\\n10\\n43\\n0.961\\n4.629\\n0.0\\nNBA004\\n13.0\\n\\n\\n23\\n28\\n3\\n6\\n47\\n5.574\\n3.732\\n1.0\\nNBA008\\n19.8\\n\\n\\n24\\n45\\n1\\n19\\n77\\n2.303\\n4.165\\n0.0\\nNBA022\\n8.4\\n\\n\\n25\\n37\\n4\\n10\\n123\\n3.022\\n18.257\\n0.0\\nNBA018\\n17.3\\n\\n\\n26\\n43\\n1\\n9\\n66\\n2.341\\n3.467\\n\\nNBA008\\n8.8\\n\\n\\n27\\n24\\n1\\n4\\n21\\n0.099\\n0.447\\n0.0\\nNBA002\\n2.6\\n\\n\\n28\\n37\\n1\\n19\\n38\\n2.591\\n2.539\\n\\nNBA007\\n13.5\\n\\n\\n29\\n38\\n2\\n13\\n59\\n0.408\\n1.008\\n0.0\\nNBA000\\n2.4\\n\\n\\n30\\n34\\n2\\n9\\n45\\n1.118\\n3.427\\n0.0\\nNBA013\\n10.1\\n\\n\\n31\\n40\\n3\\n18\\n100\\n1.485\\n1.015\\n0.0\\nNBA006\\n2.5\\n\\n\\n32\\n42\\n2\\n12\\n55\\n2.533\\n5.717\\n0.0\\nNBA009\\n15.0\\n\\n\\n33\\n23\\n2\\n0\\n42\\n1.019\\n0.619\\n1.0\\nNBA001\\n3.9\\n\\n\\n34\\n40\\n3\\n5\\n28\\n1.263\\n1.537\\n\\nNBA018\\n10.0\\n\\n\\n35\\n28\\n1\\n12\\n45\\n1.854\\n1.611\\n0.0\\nNBA007\\n7.7\\n\\n\\n36\\n33\\n2\\n5\\n37\\n1.029\\n2.079\\n\\nNBA002\\n8.4\\n\\n\\n37\\n35\\n3\\n5\\n37\\n0.581\\n1.417\\n1.0\\nNBA003\\n5.4\\n\\n\\n38\\n37\\n1\\n0\\n18\\n1.584\\n0.738\\n1.0\\nNBA018\\n12.9\\n\\n\\n39\\n22\\n1\\n1\\n18\\n0.27\\n0.522\\n0.0\\nNBA000\\n4.4\\n\\n\\n40\\n39\\n3\\n16\\n126\\n1.405\\n7.163\\n\\nNBA010\\n6.8\\n\\n\\n41\\n20\\n1\\n4\\n14\\n0.201\\n1.157\\n1.0\\nNBA000\\n9.7\\n\\n\\n42\\n48\\n3\\n17\\n113\\n3.376\\n10.184\\n0.0\\nNBA026\\n12.0\\n\\n\\n43\\n28\\n2\\n5\\n34\\n3.099\\n4.993\\n0.0\\nNBA009\\n23.8\\n\\n\\n44\\n37\\n5\\n9\\n177\\n0.888\\n9.555\\n0.0\\nNBA016\\n5.9\\n\\n\\n45\\n48\\n1\\n3\\n27\\n1.403\\n4.348\\n0.0\\nNBA011\\n21.3\\n\\n\\n46\\n45\\n3\\n9\\n84\\n1.276\\n9.728\\n\\nNBA000\\n13.1\\n\\n\\n47\\n22\\n1\\n4\\n14\\n0.225\\n2.225\\n0.0\\nNBA003\\n17.5\\n\\n\\n48\\n30\\n1\\n4\\n21\\n0.229\\n0.506\\n\\nNBA002\\n3.5\\n\\n\\n49\\n28\\n1\\n3\\n19\\n0.261\\n0.518\\n0.0\\nNBA007\\n4.1\\n\\n\\n50\\n29\\n2\\n10\\n61\\n0.798\\n2.984\\n\\nNBA003\\n6.2\\n\\n\\n51\\n47\\n1\\n22\\n81\\n1.506\\n2.949\\n0.0\\nNBA019\\n5.5\\n\\n\\n52\\n36\\n1\\n11\\n33\\n1.266\\n9.459\\n0.0\\nNBA002\\n32.5\\n\\n\\n53\\n24\\n1\\n3\\n19\\n1.358\\n3.278\\n1.0\\nNBA004\\n24.4\\n\\n\\n54\\n56\\n1\\n19\\n66\\n0.847\\n1.331\\n\\nNBA026\\n3.3\\n\\n\\n55\\n29\\n3\\n5\\n70\\n3.176\\n10.754\\n1.0\\nNBA006\\n19.9\\n\\n\\n56\\n34\\n1\\n2\\n25\\n0.573\\n2.577\\n1.0\\nNBA011\\n12.6\\n\\n\\n57\\n32\\n1\\n1\\n20\\n0.315\\n0.645\\n1.0\\nNBA000\\n4.8\\n\\n\\n58\\n27\\n3\\n2\\n26\\n0.722\\n0.838\\n0.0\\nNBA007\\n6.0\\n\\n\\n59\\n40\\n1\\n9\\n64\\n0.79\\n3.434\\n0.0\\nNBA004\\n6.6\\n\\n\\n60\\n50\\n1\\n11\\n36\\n0.835\\n0.893\\n0.0\\nNBA005\\n4.8\\n\\n\\n61\\n39\\n1\\n17\\n60\\n2.45\\n5.77\\n0.0\\nNBA020\\n13.7\\n\\n\\n62\\n34\\n1\\n18\\n34\\n2.1\\n3.136\\n0.0\\nNBA010\\n15.4\\n\\n\\n63\\n36\\n1\\n18\\n67\\n5.245\\n2.259\\n0.0\\nNBA009\\n11.2\\n\\n\\n64\\n44\\n2\\n18\\n74\\n4.522\\n5.394\\n0.0\\nNBA004\\n13.4\\n\\n\\n65\\n24\\n2\\n4\\n20\\n0.324\\n0.416\\n0.0\\nNBA004\\n3.7\\n\\n\\n66\\n31\\n1\\n8\\n44\\n1.721\\n1.799\\n0.0\\nNBA004\\n8.0\\n\\n\\n67\\n34\\n1\\n16\\n79\\n1.735\\n1.425\\n0.0\\nNBA009\\n4.0\\n\\n\\n68\\n26\\n1\\n4\\n27\\n2.472\\n0.363\\n1.0\\nNBA003\\n10.5\\n\\n\\n69\\n38\\n1\\n3\\n23\\n0.832\\n2.549\\n0.0\\nNBA019\\n14.7\\n\\n\\n70\\n24\\n1\\n3\\n14\\n0.838\\n1.416\\n1.0\\nNBA000\\n16.1\\n\\n\\n71\\n30\\n3\\n8\\n61\\n0.55\\n1.158\\n0.0\\nNBA007\\n2.8\\n\\n\\n72\\n40\\n4\\n5\\n75\\n0.885\\n0.54\\n0.0\\nNBA006\\n1.9\\n\\n\\n73\\n30\\n2\\n12\\n98\\n2.935\\n4.121\\n0.0\\nNBA009\\n7.2\\n\\n\\n74\\n25\\n2\\n5\\n42\\n3.366\\n3.144\\n\\nNBA003\\n15.5\\n\\n\\n75\\n29\\n1\\n9\\n33\\n0.694\\n0.89\\n0.0\\nNBA002\\n4.8\\n\\n\\n76\\n33\\n1\\n5\\n18\\n0.985\\n1.337\\n0.0\\nNBA010\\n12.9\\n\\n\\n77\\n43\\n1\\n8\\n45\\n0.677\\n0.808\\n0.0\\nNBA011\\n3.3\\n\\n\\n78\\n35\\n2\\n1\\n21\\n0.37\\n1.289\\n0.0\\nNBA001\\n7.9\\n\\n\\n79\\n41\\n2\\n21\\n145\\n3.237\\n14.453\\n0.0\\nNBA022\\n12.2\\n\\n\\n80\\n46\\n2\\n18\\n55\\n0.419\\n2.001\\n\\nNBA018\\n4.4\\n\\n\\n81\\n33\\n1\\n12\\n68\\n1.366\\n5.978\\n0.0\\nNBA012\\n10.8\\n\\n\\n82\\n30\\n3\\n0\\n65\\n3.9\\n15.405\\n1.0\\nNBA008\\n29.7\\n\\n\\n83\\n40\\n3\\n18\\n157\\n3.326\\n7.036\\n0.0\\nNBA014\\n6.6\\n\\n\\n84\\n38\\n1\\n1\\n42\\n0.891\\n2.931\\n\\nNBA009\\n9.1\\n\\n\\n85\\n49\\n2\\n11\\n51\\n0.543\\n7.107\\n0.0\\nNBA001\\n15.0\\n\\n\\n86\\n26\\n1\\n0\\n15\\n0.386\\n0.424\\n\\nNBA002\\n5.4\\n\\n\\n87\\n22\\n4\\n0\\n25\\n1.491\\n1.559\\n\\nNBA001\\n12.2\\n\\n\\n88\\n29\\n2\\n2\\n16\\n0.433\\n1.247\\n\\nNBA004\\n10.5\\n\\n\\n89\\n28\\n2\\n8\\n31\\n1.492\\n1.05\\n1.0\\nNBA003\\n8.2\\n\\n\\n90\\n23\\n4\\n0\\n32\\n0.818\\n5.07\\n1.0\\nNBA004\\n18.4\\n\\n\\n91\\n37\\n2\\n11\\n75\\n0.633\\n1.992\\n0.0\\nNBA004\\n3.5\\n\\n\\n92\\n35\\n2\\n5\\n33\\n0.103\\n0.821\\n0.0\\nNBA001\\n2.8\\n\\n\\n93\\n31\\n1\\n1\\n21\\n0.277\\n0.248\\n1.0\\nNBA006\\n2.5\\n\\n\\n94\\n29\\n1\\n1\\n20\\n0.569\\n3.151\\n1.0\\nNBA002\\n18.6\\n\\n\\n95\\n34\\n3\\n7\\n27\\n0.125\\n0.469\\n0.0\\nNBA000\\n2.2\\n\\n\\n96\\n47\\n2\\n7\\n49\\n0.254\\n0.187\\n\\nNBA024\\n0.9\\n\\n\\n97\\n37\\n1\\n5\\n27\\n0.419\\n2.119\\n\\nNBA011\\n9.4\\n\\n\\n98\\n38\\n1\\n10\\n34\\n0.036\\n0.372\\n0.0\\nNBA008\\n1.2\\n\\n\\n99\\n32\\n2\\n5\\n28\\n2.594\\n1.55\\n1.0\\nNBA000\\n14.8\\n\\n\\n100\\n22\\n3\\n0\\n20\\n0.219\\n0.721\\n0.0\\nNBA002\\n4.7\\n\\n\\n101\\n30\\n1\\n7\\n33\\n1.165\\n7.217\\n1.0\\nNBA002\\n25.4\\n\\n\\n102\\n38\\n4\\n13\\n126\\n7.613\\n9.649\\n\\nNBA002\\n13.7\\n\\n\\n103\\n36\\n1\\n20\\n60\\n1.056\\n2.184\\n0.0\\nNBA015\\n5.4\\n\\n\\n104\\n44\\n1\\n5\\n48\\n1.97\\n2.35\\n1.0\\nNBA003\\n9.0\\n\\n\\n105\\n27\\n2\\n4\\n22\\n1.086\\n1.818\\n1.0\\nNBA003\\n13.2\\n\\n\\n106\\n47\\n1\\n19\\n50\\n3.176\\n11.874\\n0.0\\nNBA007\\n30.1\\n\\n\\n107\\n41\\n1\\n7\\n32\\n0.072\\n0.856\\n0.0\\nNBA022\\n2.9\\n\\n\\n108\\n25\\n1\\n8\\n27\\n1.019\\n2.869\\n0.0\\nNBA004\\n14.4\\n\\n\\n109\\n33\\n2\\n10\\n54\\n0.12\\n1.5\\n\\nNBA002\\n3.0\\n\\n\\n110\\n42\\n3\\n13\\n82\\n1.315\\n1.391\\n0.0\\nNBA000\\n3.3\\n\\n\\n111\\n36\\n1\\n14\\n53\\n1.888\\n1.133\\n0.0\\nNBA017\\n5.7\\n\\n\\n112\\n25\\n4\\n0\\n32\\n2.14\\n3.492\\n0.0\\nNBA002\\n17.6\\n\\n\\n113\\n30\\n1\\n10\\n39\\n2.056\\n1.649\\n0.0\\nNBA011\\n9.5\\n\\n\\n114\\n24\\n1\\n0\\n16\\n1.009\\n1.551\\n1.0\\nNBA002\\n16.0\\n\\n\\n115\\n32\\n1\\n7\\n23\\n0.861\\n1.393\\n\\nNBA010\\n9.8\\n\\n\\n116\\n39\\n2\\n9\\n32\\n1.43\\n0.682\\n0.0\\nNBA012\\n6.6\\n\\n\\n117\\n30\\n1\\n4\\n18\\n0.227\\n1.699\\n0.0\\nNBA002\\n10.7\\n\\n\\n118\\n33\\n1\\n16\\n46\\n2.4\\n1.326\\n\\nNBA012\\n8.1\\n\\n\\n119\\n32\\n2\\n12\\n63\\n5.55\\n5.916\\n0.0\\nNBA003\\n18.2\\n\\n\\n120\\n33\\n1\\n7\\n26\\n0.543\\n1.017\\n0.0\\nNBA006\\n6.0\\n\\n\\n121\\n29\\n2\\n6\\n21\\n0.369\\n2.046\\n0.0\\nNBA004\\n11.5\\n\\n\\n122\\n28\\n2\\n5\\n37\\n1.124\\n1.947\\n0.0\\nNBA002\\n8.3\\n\\n\\n123\\n33\\n4\\n9\\n32\\n0.496\\n1.264\\n0.0\\nNBA008\\n5.5\\n\\n\\n124\\n39\\n2\\n16\\n53\\n0.694\\n1.267\\n0.0\\nNBA012\\n3.7\\n\\n\\n125\\n32\\n1\\n10\\n42\\n1.54\\n2.282\\n0.0\\nNBA011\\n9.1\\n\\n\\n126\\n46\\n1\\n9\\n72\\n0.828\\n2.772\\n\\nNBA006\\n5.0\\n\\n\\n127\\n32\\n2\\n3\\n47\\n0.429\\n0.464\\n0.0\\nNBA013\\n1.9\\n\\n\\n128\\n28\\n2\\n5\\n25\\n0.339\\n0.386\\n0.0\\nNBA006\\n2.9\\n\\n\\n129\\n26\\n1\\n2\\n21\\n1.023\\n3.135\\n0.0\\nNBA006\\n19.8\\n\\n\\n130\\n27\\n1\\n0\\n16\\n0.183\\n0.089\\n0.0\\nNBA001\\n1.7\\n\\n\\n131\\n35\\n1\\n16\\n36\\n0.179\\n1.045\\n0.0\\nNBA015\\n3.4\\n\\n\\n132\\n35\\n1\\n16\\n57\\n1.143\\n4.842\\n0.0\\nNBA010\\n10.5\\n\\n\\n133\\n31\\n2\\n6\\n25\\n2.332\\n0.543\\n0.0\\nNBA005\\n11.5\\n\\n\\n134\\n32\\n3\\n5\\n23\\n0.326\\n0.709\\n0.0\\nNBA009\\n4.5\\n\\n\\n135\\n29\\n1\\n9\\n25\\n1.07\\n2.405\\n0.0\\nNBA000\\n13.9\\n\\n\\n136\\n35\\n4\\n4\\n29\\n1.844\\n1.346\\n0.0\\nNBA016\\n11.0\\n\\n\\n137\\n48\\n2\\n21\\n86\\n0.146\\n0.886\\n\\nNBA014\\n1.2\\n\\n\\n138\\n24\\n1\\n4\\n19\\n1.185\\n0.905\\n\\nNBA000\\n11.0\\n\\n\\n139\\n44\\n1\\n12\\n31\\n0.358\\n2.649\\n0.0\\nNBA003\\n9.7\\n\\n\\n140\\n40\\n2\\n5\\n35\\n1.584\\n4.156\\n1.0\\nNBA012\\n16.4\\n\\n\\n141\\n36\\n2\\n13\\n41\\n2.918\\n3.806\\n1.0\\nNBA006\\n16.4\\n\\n\\n142\\n23\\n2\\n0\\n21\\n0.455\\n1.372\\n0.0\\nNBA004\\n8.7\\n\\n\\n143\\n26\\n2\\n8\\n40\\n0.444\\n4.276\\n0.0\\nNBA001\\n11.8\\n\\n\\n144\\n30\\n1\\n8\\n23\\n0.762\\n1.998\\n0.0\\nNBA006\\n12.0\\n\\n\\n145\\n34\\n1\\n12\\n68\\n7.817\\n9.251\\n1.0\\nNBA005\\n25.1\\n\\n\\n146\\n28\\n3\\n2\\n30\\n1.522\\n4.448\\n0.0\\nNBA005\\n19.9\\n\\n\\n147\\n37\\n1\\n18\\n58\\n2.868\\n3.106\\n\\nNBA009\\n10.3\\n\\n\\n148\\n46\\n3\\n3\\n43\\n3.042\\n2.634\\n1.0\\nNBA013\\n13.2\\n\\n\\n149\\n24\\n2\\n1\\n42\\n0.838\\n1.556\\n0.0\\nNBA002\\n5.7\\n\\n\\n150\\n25\\n2\\n6\\n26\\n0.07\\n1.1\\n0.0\\nNBA002\\n4.5\\n\\n\\n151\\n33\\n1\\n14\\n37\\n0.199\\n0.763\\n0.0\\nNBA002\\n2.6\\n\\n\\n152\\n46\\n1\\n7\\n41\\n0.585\\n9.009\\n\\nNBA006\\n23.4\\n\\n\\n153\\n38\\n3\\n4\\n31\\n1.332\\n1.551\\n1.0\\nNBA006\\n9.3\\n\\n\\n154\\n47\\n1\\n3\\n21\\n0.068\\n3.166\\n\\nNBA001\\n15.4\\n\\n\\n155\\n34\\n2\\n9\\n65\\n2.108\\n1.922\\n0.0\\nNBA009\\n6.2\\n\\n\\n156\\n35\\n1\\n16\\n37\\n4.213\\n2.151\\n\\nNBA000\\n17.2\\n\\n\\n157\\n39\\n1\\n22\\n113\\n0.987\\n1.951\\n0.0\\nNBA009\\n2.6\\n\\n\\n158\\n44\\n1\\n24\\n101\\n2.992\\n2.664\\n0.0\\nNBA010\\n5.6\\n\\n\\n159\\n28\\n2\\n1\\n24\\n1.338\\n2.766\\n1.0\\nNBA008\\n17.1\\n\\n\\n160\\n31\\n3\\n9\\n59\\n3.11\\n5.504\\n1.0\\nNBA007\\n14.6\\n\\n\\n161\\n24\\n1\\n1\\n20\\n0.325\\n0.495\\n\\nNBA000\\n4.1\\n\\n\\n162\\n36\\n3\\n13\\n39\\n2.801\\n4.687\\n0.0\\nNBA003\\n19.2\\n\\n\\n163\\n35\\n2\\n14\\n82\\n0.468\\n0.188\\n0.0\\nNBA003\\n0.8\\n\\n\\n164\\n31\\n1\\n11\\n47\\n2.864\\n2.259\\n0.0\\nNBA012\\n10.9\\n\\n\\n165\\n28\\n2\\n6\\n22\\n0.65\\n1.88\\n0.0\\nNBA009\\n11.5\\n\\n\\n166\\n36\\n4\\n8\\n32\\n0.025\\n0.487\\n0.0\\nNBA000\\n1.6\\n\\n\\n167\\n31\\n3\\n6\\n54\\n0.402\\n1.11\\n0.0\\nNBA008\\n2.8\\n\\n\\n168\\n30\\n1\\n11\\n27\\n0.074\\n0.169\\n0.0\\nNBA009\\n0.9\\n\\n\\n169\\n26\\n1\\n10\\n24\\n0.311\\n0.337\\n0.0\\nNBA006\\n2.7\\n\\n\\n170\\n48\\n4\\n3\\n45\\n0.975\\n3.435\\n0.0\\nNBA023\\n9.8\\n\\n\\n171\\n39\\n2\\n16\\n89\\n5.002\\n7.725\\n0.0\\nNBA009\\n14.3\\n\\n\\n172\\n31\\n1\\n7\\n20\\n0.111\\n2.349\\n0.0\\nNBA002\\n12.3\\n\\n\\n173\\n31\\n3\\n9\\n28\\n0.122\\n0.606\\n0.0\\nNBA002\\n2.6\\n\\n\\n174\\n27\\n3\\n3\\n45\\n0.292\\n4.658\\n1.0\\nNBA004\\n11.0\\n\\n\\n175\\n31\\n1\\n13\\n27\\n0.238\\n1.112\\n0.0\\nNBA012\\n5.0\\n\\n\\n176\\n53\\n1\\n0\\n27\\n2.754\\n5.049\\n1.0\\nNBA026\\n28.9\\n\\n\\n177\\n40\\n1\\n15\\n55\\n0.856\\n2.169\\n0.0\\nNBA014\\n5.5\\n\\n\\n178\\n26\\n1\\n7\\n22\\n0.209\\n0.913\\n0.0\\nNBA003\\n5.1\\n\\n\\n179\\n29\\n2\\n5\\n36\\n3.491\\n0.973\\n1.0\\nNBA004\\n12.4\\n\\n\\n180\\n52\\n1\\n19\\n89\\n0.397\\n3.786\\n0.0\\nNBA025\\n4.7\\n\\n\\n181\\n39\\n2\\n2\\n46\\n4.004\\n3.356\\n1.0\\nNBA012\\n16.0\\n\\n\\n182\\n33\\n2\\n13\\n40\\n0.181\\n2.699\\n0.0\\nNBA002\\n7.2\\n\\n\\n183\\n24\\n1\\n7\\n21\\n0.52\\n0.803\\n0.0\\nNBA002\\n6.3\\n\\n\\n184\\n47\\n1\\n29\\n129\\n20.561\\n12.076\\n1.0\\nNBA018\\n25.3\\n\\n\\n185\\n41\\n3\\n2\\n15\\n1.961\\n1.984\\n1.0\\nNBA000\\n26.3\\n\\n\\n186\\n26\\n2\\n6\\n45\\n6.049\\n5.651\\n0.0\\nNBA007\\n26.0\\n\\n\\n187\\n48\\n1\\n3\\n24\\n0.764\\n0.916\\n0.0\\nNBA007\\n7.0\\n\\n\\n188\\n37\\n1\\n13\\n24\\n0.602\\n1.534\\n0.0\\nNBA005\\n8.9\\n\\n\\n189\\n37\\n1\\n20\\n41\\n0.899\\n4.39\\n\\nNBA013\\n12.9\\n\\n\\n190\\n46\\n4\\n7\\n73\\n0.556\\n0.247\\n\\nNBA016\\n1.1\\n\\n\\n191\\n30\\n1\\n8\\n27\\n3.744\\n1.737\\n\\nNBA011\\n20.3\\n\\n\\n192\\n47\\n1\\n15\\n30\\n2.212\\n5.138\\n0.0\\nNBA001\\n24.5\\n\\n\\n193\\n37\\n3\\n16\\n75\\n0.022\\n0.053\\n\\nNBA008\\n0.1\\n\\n\\n194\\n37\\n2\\n0\\n31\\n0.118\\n0.161\\n1.0\\nNBA013\\n0.9\\n\\n\\n195\\n40\\n2\\n15\\n73\\n1.033\\n1.449\\n0.0\\nNBA016\\n3.4\\n\\n\\n196\\n35\\n3\\n5\\n30\\n1.526\\n1.654\\n\\nNBA013\\n10.6\\n\\n\\n197\\n21\\n2\\n0\\n16\\n0.15\\n0.938\\n0.0\\nNBA001\\n6.8\\n\\n\\n198\\n52\\n1\\n24\\n64\\n3.93\\n2.47\\n0.0\\nNBA014\\n10.0\\n\\n\\n199\\n47\\n3\\n16\\n221\\n15.792\\n23.104\\n1.0\\nNBA026\\n17.6\\n\\n\\n200\\n41\\n3\\n0\\n26\\n0.099\\n0.343\\n0.0\\nNBA021\\n1.7\\n\\n\\n201\\n47\\n1\\n27\\n113\\n2.381\\n8.015\\n0.0\\nNBA008\\n9.2\\n\\n\\n202\\n38\\n2\\n0\\n21\\n0.612\\n0.354\\n\\nNBA018\\n4.6\\n\\n\\n203\\n22\\n3\\n1\\n25\\n1.977\\n1.473\\n1.0\\nNBA003\\n13.8\\n\\n\\n204\\n39\\n1\\n8\\n21\\n0.276\\n0.564\\n0.0\\nNBA000\\n4.0\\n\\n\\n205\\n45\\n1\\n8\\n27\\n0.416\\n0.286\\n\\nNBA025\\n2.6\\n\\n\\n206\\n51\\n1\\n10\\n44\\n4.96\\n0.848\\n1.0\\nNBA001\\n13.2\\n\\n\\n207\\n33\\n2\\n10\\n26\\n0.031\\n0.775\\n0.0\\nNBA004\\n3.1\\n\\n\\n208\\n43\\n1\\n25\\n242\\n1.636\\n4.656\\n0.0\\nNBA016\\n2.6\\n\\n\\n209\\n40\\n1\\n22\\n95\\n0.633\\n2.787\\n0.0\\nNBA004\\n3.6\\n\\n\\n210\\n27\\n4\\n2\\n23\\n0.32\\n0.991\\n1.0\\nNBA008\\n5.7\\n\\n\\n211\\n31\\n1\\n11\\n25\\n0.141\\n2.134\\n0.0\\nNBA008\\n9.1\\n\\n\\n212\\n34\\n1\\n10\\n48\\n0.264\\n2.184\\n\\nNBA012\\n5.1\\n\\n\\n213\\n37\\n1\\n9\\n57\\n1.357\\n1.778\\n0.0\\nNBA008\\n5.5\\n\\n\\n214\\n44\\n4\\n18\\n78\\n0.565\\n0.215\\n\\nNBA023\\n1.0\\n\\n\\n215\\n42\\n1\\n3\\n24\\n0.667\\n1.877\\n0.0\\nNBA010\\n10.6\\n\\n\\n216\\n25\\n1\\n3\\n16\\n1.011\\n1.837\\n1.0\\nNBA002\\n17.8\\n\\n\\n217\\n39\\n2\\n7\\n68\\n1.017\\n7.823\\n1.0\\nNBA002\\n13.0\\n\\n\\n218\\n26\\n4\\n1\\n64\\n7.754\\n7.158\\n\\nNBA006\\n23.3\\n\\n\\n219\\n36\\n1\\n19\\n45\\n0.92\\n4.525\\n\\nNBA008\\n12.1\\n\\n\\n220\\n48\\n1\\n15\\n60\\n0.321\\n0.939\\n0.0\\nNBA005\\n2.1\\n\\n\\n221\\n21\\n2\\n0\\n21\\n0.488\\n2.137\\n1.0\\nNBA002\\n12.5\\n\\n\\n222\\n40\\n3\\n17\\n116\\n2.561\\n4.399\\n0.0\\nNBA011\\n6.0\\n\\n\\n223\\n31\\n2\\n9\\n30\\n0.602\\n1.138\\n0.0\\nNBA001\\n5.8\\n\\n\\n224\\n23\\n4\\n0\\n23\\n0.468\\n1.073\\n0.0\\nNBA002\\n6.7\\n\\n\\n225\\n31\\n1\\n6\\n21\\n0.729\\n1.014\\n0.0\\nNBA009\\n8.3\\n\\n\\n226\\n31\\n1\\n7\\n23\\n0.225\\n0.902\\n0.0\\nNBA010\\n4.9\\n\\n\\n227\\n50\\n3\\n18\\n102\\n5.782\\n8.6\\n0.0\\nNBA027\\n14.1\\n\\n\\n228\\n29\\n1\\n1\\n31\\n0.156\\n2.324\\n0.0\\nNBA008\\n8.0\\n\\n\\n229\\n37\\n3\\n5\\n29\\n1.405\\n5.729\\n0.0\\nNBA017\\n24.6\\n\\n\\n230\\n46\\n1\\n16\\n52\\n3.032\\n3.676\\n1.0\\nNBA018\\n12.9\\n\\n\\n231\\n39\\n1\\n9\\n35\\n0.233\\n1.517\\n0.0\\nNBA006\\n5.0\\n\\n\\n232\\n34\\n1\\n14\\n28\\n1.138\\n3.622\\n0.0\\nNBA008\\n17.0\\n\\n\\n233\\n27\\n1\\n11\\n56\\n4.637\\n4.827\\n0.0\\nNBA008\\n16.9\\n\\n\\n234\\n23\\n1\\n6\\n15\\n1.375\\n0.53\\n\\nNBA002\\n12.7\\n\\n\\n235\\n41\\n1\\n24\\n83\\n6.589\\n5.031\\n0.0\\nNBA012\\n14.0\\n\\n\\n236\\n29\\n1\\n1\\n18\\n0.03\\n0.168\\n0.0\\nNBA001\\n1.1\\n\\n\\n237\\n44\\n1\\n19\\n40\\n0.344\\n4.016\\n\\nNBA009\\n10.9\\n\\n\\n238\\n24\\n2\\n0\\n15\\n0.321\\n2.094\\n1.0\\nNBA002\\n16.1\\n\\n\\n239\\n32\\n3\\n9\\n51\\n2.686\\n9.044\\n0.0\\nNBA010\\n23.0\\n\\n\\n240\\n23\\n2\\n3\\n34\\n0.262\\n1.234\\n0.0\\nNBA004\\n4.4\\n\\n\\n241\\n31\\n1\\n4\\n28\\n0.291\\n2.873\\n0.0\\nNBA010\\n11.3\\n\\n\\n242\\n36\\n1\\n15\\n39\\n0.686\\n0.562\\n0.0\\nNBA010\\n3.2\\n\\n\\n243\\n25\\n1\\n3\\n31\\n0.881\\n1.63\\n\\nNBA005\\n8.1\\n\\n\\n244\\n26\\n1\\n10\\n32\\n0.126\\n1.378\\n0.0\\nNBA002\\n4.7\\n\\n\\n245\\n43\\n1\\n4\\n26\\n0.751\\n1.095\\n\\nNBA011\\n7.1\\n\\n\\n246\\n47\\n1\\n29\\n169\\n0.349\\n3.369\\n\\nNBA020\\n2.2\\n\\n\\n247\\n43\\n1\\n10\\n69\\n0.411\\n4.005\\n0.0\\nNBA009\\n6.4\\n\\n\\n248\\n37\\n1\\n18\\n54\\n4.593\\n1.941\\n0.0\\nNBA008\\n12.1\\n\\n\\n249\\n35\\n4\\n10\\n45\\n1.04\\n2.785\\n\\nNBA012\\n8.5\\n\\n\\n250\\n28\\n4\\n1\\n26\\n0.377\\n2.847\\n0.0\\nNBA003\\n12.4\\n\\n\\n251\\n28\\n1\\n8\\n30\\n0.613\\n1.547\\n0.0\\nNBA006\\n7.2\\n\\n\\n252\\n26\\n3\\n2\\n37\\n0.205\\n5.049\\n0.0\\nNBA001\\n14.2\\n\\n\\n253\\n39\\n1\\n10\\n31\\n0.185\\n1.303\\n0.0\\nNBA004\\n4.8\\n\\n\\n254\\n34\\n2\\n3\\n21\\n1.402\\n3.449\\n0.0\\nNBA008\\n23.1\\n\\n\\n255\\n51\\n3\\n16\\n82\\n2.605\\n1.003\\n0.0\\nNBA025\\n4.4\\n\\n\\n256\\n28\\n2\\n3\\n41\\n5.897\\n4.394\\n1.0\\nNBA004\\n25.1\\n\\n\\n257\\n39\\n1\\n20\\n39\\n0.774\\n2.424\\n0.0\\nNBA012\\n8.2\\n\\n\\n258\\n23\\n1\\n3\\n19\\n0.279\\n1.317\\n1.0\\nNBA000\\n8.4\\n\\n\\n259\\n23\\n1\\n3\\n13\\n0.046\\n0.357\\n\\nNBA004\\n3.1\\n\\n\\n260\\n21\\n1\\n4\\n26\\n1.421\\n0.893\\n0.0\\nNBA000\\n8.9\\n\\n\\n261\\n40\\n1\\n3\\n23\\n0.409\\n1.178\\n0.0\\nNBA013\\n6.9\\n\\n\\n262\\n26\\n4\\n1\\n92\\n6.506\\n5.454\\n\\nNBA005\\n13.0\\n\\n\\n263\\n32\\n2\\n12\\n54\\n3.196\\n4.58\\n0.0\\nNBA001\\n14.4\\n\\n\\n264\\n29\\n3\\n3\\n50\\n0.259\\n0.941\\n1.0\\nNBA003\\n2.4\\n\\n\\n265\\n43\\n1\\n25\\n64\\n0.951\\n9.737\\n0.0\\nNBA021\\n16.7\\n\\n\\n266\\n55\\n1\\n3\\n40\\n0.563\\n2.637\\n1.0\\nNBA011\\n8.0\\n\\n\\n267\\n30\\n1\\n12\\n40\\n1.249\\n1.551\\n\\nNBA004\\n7.0\\n\\n\\n268\\n38\\n3\\n15\\n63\\n5.091\\n3.351\\n0.0\\nNBA018\\n13.4\\n\\n\\n269\\n40\\n1\\n2\\n28\\n0.185\\n1.803\\n0.0\\nNBA003\\n7.1\\n\\n\\n270\\n43\\n1\\n12\\n38\\n0.129\\n1.239\\n0.0\\nNBA011\\n3.6\\n\\n\\n271\\n35\\n2\\n1\\n24\\n0.591\\n2.409\\n1.0\\nNBA008\\n12.5\\n\\n\\n272\\n24\\n1\\n8\\n24\\n0.382\\n0.818\\n0.0\\nNBA004\\n5.0\\n\\n\\n273\\n35\\n1\\n11\\n40\\n0.572\\n0.588\\n\\nNBA009\\n2.9\\n\\n\\n274\\n39\\n2\\n18\\n47\\n1.565\\n2.007\\n\\nNBA018\\n7.6\\n\\n\\n275\\n41\\n2\\n5\\n25\\n0.393\\n2.157\\n0.0\\nNBA005\\n10.2\\n\\n\\n276\\n28\\n1\\n2\\n17\\n0.199\\n0.226\\n1.0\\nNBA002\\n2.5\\n\\n\\n277\\n24\\n2\\n2\\n28\\n1.787\\n3.057\\n1.0\\nNBA000\\n17.3\\n\\n\\n278\\n40\\n3\\n3\\n55\\n1.751\\n7.324\\n1.0\\nNBA015\\n16.5\\n\\n\\n279\\n29\\n1\\n8\\n27\\n0.402\\n2.244\\n0.0\\nNBA006\\n9.8\\n\\n\\n280\\n26\\n2\\n4\\n28\\n0.226\\n2.434\\n0.0\\nNBA003\\n9.5\\n\\n\\n281\\n27\\n1\\n5\\n26\\n0.13\\n0.182\\n\\nNBA005\\n1.2\\n\\n\\n282\\n50\\n1\\n30\\n150\\n13.553\\n35.197\\n\\nNBA008\\n32.5\\n\\n\\n283\\n41\\n1\\n15\\n120\\n2.659\\n0.821\\n0.0\\nNBA014\\n2.9\\n\\n\\n284\\n26\\n1\\n0\\n14\\n0.256\\n1.214\\n0.0\\nNBA000\\n10.5\\n\\n\\n285\\n48\\n1\\n22\\n100\\n3.704\\n5.396\\n0.0\\nNBA015\\n9.1\\n\\n\\n286\\n35\\n2\\n1\\n24\\n0.417\\n1.455\\n\\nNBA011\\n7.8\\n\\n\\n287\\n35\\n1\\n15\\n77\\n5.501\\n2.661\\n0.0\\nNBA001\\n10.6\\n\\n\\n288\\n23\\n1\\n7\\n31\\n0.338\\n1.708\\n0.0\\nNBA002\\n6.6\\n\\n\\n289\\n39\\n2\\n20\\n101\\n0.341\\n1.073\\n0.0\\nNBA017\\n1.4\\n\\n\\n290\\n38\\n1\\n21\\n58\\n4.584\\n4.986\\n0.0\\nNBA016\\n16.5\\n\\n\\n291\\n30\\n1\\n4\\n33\\n0.5\\n0.886\\n0.0\\nNBA000\\n4.2\\n\\n\\n292\\n44\\n2\\n8\\n43\\n0.555\\n1.595\\n\\nNBA018\\n5.0\\n\\n\\n293\\n33\\n1\\n0\\n23\\n0.077\\n0.13\\n0.0\\nNBA012\\n0.9\\n\\n\\n294\\n34\\n1\\n15\\n39\\n4.373\\n5.26\\n1.0\\nNBA002\\n24.7\\n\\n\\n295\\n27\\n2\\n6\\n34\\n0.238\\n1.258\\n0.0\\nNBA001\\n4.4\\n\\n\\n296\\n30\\n1\\n1\\n22\\n1.139\\n1.171\\n0.0\\nNBA010\\n10.5\\n\\n\\n297\\n27\\n2\\n1\\n20\\n0.377\\n1.683\\n1.0\\nNBA000\\n10.3\\n\\n\\n298\\n29\\n1\\n9\\n30\\n0.155\\n2.305\\n0.0\\nNBA008\\n8.2\\n\\n\\n299\\n25\\n4\\n1\\n34\\n0.133\\n2.757\\n1.0\\nNBA001\\n8.5\\n\\n\\n300\\n41\\n1\\n23\\n91\\n0.573\\n11.894\\n0.0\\nNBA002\\n13.7\\n\\n\\n301\\n42\\n2\\n11\\n73\\n2.869\\n2.095\\n0.0\\nNBA005\\n6.8\\n\\n\\n302\\n38\\n3\\n12\\n64\\n0.895\\n2.817\\n0.0\\nNBA018\\n5.8\\n\\n\\n303\\n23\\n1\\n5\\n17\\n0.302\\n1.041\\n0.0\\nNBA002\\n7.9\\n\\n\\n304\\n33\\n1\\n2\\n24\\n1.041\\n1.263\\n0.0\\nNBA010\\n9.6\\n\\n\\n305\\n31\\n1\\n2\\n22\\n1.739\\n1.869\\n1.0\\nNBA002\\n16.4\\n\\n\\n306\\n37\\n2\\n6\\n62\\n1.186\\n4.084\\n0.0\\nNBA013\\n8.5\\n\\n\\n307\\n40\\n1\\n10\\n45\\n2.013\\n6.447\\n0.0\\nNBA015\\n18.8\\n\\n\\n308\\n31\\n1\\n3\\n16\\n3.065\\n2.103\\n\\nNBA005\\n32.3\\n\\n\\n309\\n35\\n2\\n3\\n40\\n1.803\\n5.077\\n1.0\\nNBA011\\n17.2\\n\\n\\n310\\n38\\n1\\n6\\n41\\n0.266\\n3.383\\n0.0\\nNBA000\\n8.9\\n\\n\\n311\\n30\\n2\\n8\\n56\\n0.333\\n3.251\\n0.0\\nNBA004\\n6.4\\n\\n\\n312\\n30\\n1\\n1\\n17\\n0.746\\n1.124\\n0.0\\nNBA008\\n11.0\\n\\n\\n313\\n44\\n1\\n2\\n22\\n1.092\\n1.02\\n\\nNBA015\\n9.6\\n\\n\\n314\\n29\\n2\\n3\\n15\\n0.147\\n0.243\\n0.0\\nNBA008\\n2.6\\n\\n\\n315\\n39\\n1\\n19\\n45\\n0.916\\n0.749\\n0.0\\nNBA016\\n3.7\\n\\n\\n316\\n26\\n1\\n0\\n17\\n0.142\\n0.708\\n\\nNBA005\\n5.0\\n\\n\\n317\\n36\\n1\\n5\\n27\\n0.724\\n1.166\\n\\nNBA002\\n7.0\\n\\n\\n318\\n31\\n2\\n0\\n27\\n1.089\\n2.367\\n1.0\\nNBA004\\n12.8\\n\\n\\n319\\n38\\n2\\n12\\n40\\n0.898\\n1.142\\n\\nNBA014\\n5.1\\n\\n\\n320\\n38\\n1\\n0\\n23\\n0.898\\n0.965\\n1.0\\nNBA008\\n8.1\\n\\n\\n321\\n41\\n3\\n13\\n91\\n2.316\\n20.616\\n1.0\\nNBA013\\n25.2\\n\\n\\n322\\n41\\n2\\n2\\n30\\n0.113\\n1.897\\n0.0\\nNBA022\\n6.7\\n\\n\\n323\\n45\\n3\\n5\\n94\\n3.612\\n6.258\\n1.0\\nNBA017\\n10.5\\n\\n\\n324\\n24\\n1\\n4\\n23\\n0.242\\n0.885\\n\\nNBA001\\n4.9\\n\\n\\n325\\n22\\n1\\n4\\n16\\n0.084\\n0.108\\n0.0\\nNBA001\\n1.2\\n\\n\\n326\\n34\\n1\\n13\\n56\\n0.864\\n2.552\\n0.0\\nNBA008\\n6.1\\n\\n\\n327\\n25\\n1\\n0\\n18\\n0.514\\n2.888\\n1.0\\nNBA002\\n18.9\\n\\n\\n328\\n29\\n2\\n6\\n18\\n0.45\\n0.468\\n1.0\\nNBA007\\n5.1\\n\\n\\n329\\n35\\n2\\n13\\n105\\n1.418\\n0.577\\n0.0\\nNBA003\\n1.9\\n\\n\\n330\\n39\\n1\\n19\\n48\\n1.93\\n4.358\\n0.0\\nNBA005\\n13.1\\n\\n\\n331\\n34\\n1\\n17\\n59\\n1.808\\n2.912\\n0.0\\nNBA003\\n8.0\\n\\n\\n332\\n44\\n2\\n21\\n113\\n3.192\\n11.724\\n0.0\\nNBA014\\n13.2\\n\\n\\n333\\n23\\n2\\n0\\n21\\n0.776\\n1.618\\n1.0\\nNBA002\\n11.4\\n\\n\\n334\\n46\\n1\\n6\\n31\\n1.986\\n1.796\\n0.0\\nNBA019\\n12.2\\n\\n\\n335\\n41\\n4\\n9\\n47\\n0.437\\n1.913\\n0.0\\nNBA013\\n5.0\\n\\n\\n336\\n52\\n1\\n9\\n24\\n0.802\\n3.806\\n1.0\\nNBA011\\n19.2\\n\\n\\n337\\n23\\n1\\n1\\n17\\n0.012\\n0.26\\n0.0\\nNBA000\\n1.6\\n\\n\\n338\\n48\\n1\\n28\\n70\\n4.334\\n4.066\\n0.0\\nNBA025\\n12.0\\n\\n\\n339\\n35\\n1\\n10\\n24\\n1.084\\n4.028\\n\\nNBA003\\n21.3\\n\\n\\n340\\n53\\n2\\n16\\n44\\n1.333\\n1.131\\n0.0\\nNBA031\\n5.6\\n\\n\\n341\\n39\\n3\\n11\\n39\\n2.561\\n2.47\\n0.0\\nNBA017\\n12.9\\n\\n\\n342\\n37\\n1\\n20\\n56\\n0.543\\n0.521\\n0.0\\nNBA002\\n1.9\\n\\n\\n343\\n34\\n1\\n12\\n32\\n0.239\\n0.625\\n\\nNBA015\\n2.7\\n\\n\\n344\\n49\\n2\\n2\\n20\\n0.379\\n3.001\\n1.0\\nNBA013\\n16.9\\n\\n\\n345\\n39\\n1\\n23\\n75\\n3.133\\n11.042\\n0.0\\nNBA001\\n18.9\\n\\n\\n346\\n42\\n2\\n7\\n41\\n0.941\\n0.945\\n0.0\\nNBA023\\n4.6\\n\\n\\n347\\n28\\n2\\n1\\n16\\n0.574\\n1.778\\n0.0\\nNBA004\\n14.7\\n\\n\\n348\\n27\\n3\\n5\\n75\\n2.207\\n2.518\\n0.0\\nNBA001\\n6.3\\n\\n\\n349\\n24\\n1\\n2\\n21\\n0.025\\n0.101\\n0.0\\nNBA001\\n0.6\\n\\n\\n350\\n34\\n1\\n5\\n33\\n0.778\\n1.631\\n0.0\\nNBA003\\n7.3\\n\\n\\n351\\n47\\n1\\n31\\n136\\n14.231\\n17.185\\n1.0\\nNBA009\\n23.1\\n\\n\\n352\\n26\\n4\\n1\\n27\\n0.312\\n0.471\\n0.0\\nNBA007\\n2.9\\n\\n\\n353\\n35\\n1\\n17\\n42\\n0.093\\n1.167\\n0.0\\nNBA004\\n3.0\\n\\n\\n354\\n31\\n1\\n6\\n33\\n0.146\\n1.24\\n0.0\\nNBA012\\n4.2\\n\\n\\n355\\n29\\n1\\n13\\n27\\n0.069\\n0.552\\n0.0\\nNBA007\\n2.3\\n\\n\\n356\\n44\\n1\\n9\\n33\\n0.546\\n1.17\\n0.0\\nNBA020\\n5.2\\n\\n\\n357\\n40\\n2\\n13\\n102\\n6.227\\n13.051\\n1.0\\nNBA011\\n18.9\\n\\n\\n358\\n36\\n4\\n1\\n30\\n0.324\\n3.126\\n0.0\\nNBA017\\n11.5\\n\\n\\n359\\n32\\n3\\n6\\n22\\n0.385\\n1.089\\n\\nNBA012\\n6.7\\n\\n\\n360\\n21\\n1\\n1\\n18\\n0.159\\n2.955\\n0.0\\nNBA001\\n17.3\\n\\n\\n361\\n42\\n4\\n15\\n186\\n2.404\\n4.292\\n0.0\\nNBA008\\n3.6\\n\\n\\n362\\n37\\n2\\n4\\n20\\n0.174\\n4.166\\n1.0\\nNBA011\\n21.7\\n\\n\\n363\\n24\\n1\\n6\\n21\\n0.108\\n0.984\\n0.0\\nNBA002\\n5.2\\n\\n\\n364\\n24\\n4\\n0\\n29\\n0.59\\n1.324\\n1.0\\nNBA003\\n6.6\\n\\n\\n365\\n46\\n3\\n4\\n73\\n2.223\\n1.719\\n0.0\\nNBA017\\n5.4\\n\\n\\n366\\n28\\n1\\n2\\n16\\n0.871\\n1.561\\n0.0\\nNBA009\\n15.2\\n\\n\\n367\\n41\\n1\\n16\\n68\\n0.448\\n3.224\\n0.0\\nNBA017\\n5.4\\n\\n\\n368\\n46\\n5\\n15\\n126\\n0.477\\n3.429\\n0.0\\nNBA000\\n3.1\\n\\n\\n369\\n51\\n2\\n22\\n120\\n4.14\\n4.98\\n0.0\\nNBA023\\n7.6\\n\\n\\n370\\n36\\n1\\n17\\n54\\n0.727\\n1.649\\n0.0\\nNBA006\\n4.4\\n\\n\\n371\\n25\\n1\\n1\\n20\\n0.472\\n0.868\\n1.0\\nNBA000\\n6.7\\n\\n\\n372\\n27\\n2\\n3\\n33\\n1.633\\n2.723\\n0.0\\nNBA005\\n13.2\\n\\n\\n373\\n43\\n1\\n23\\n72\\n1.182\\n4.29\\n0.0\\nNBA019\\n7.6\\n\\n\\n374\\n53\\n1\\n6\\n27\\n0.594\\n1.134\\n1.0\\nNBA007\\n6.4\\n\\n\\n375\\n32\\n1\\n4\\n16\\n0.894\\n3.666\\n1.0\\nNBA003\\n28.5\\n\\n\\n376\\n36\\n1\\n0\\n25\\n2.778\\n2.147\\n0.0\\nNBA013\\n19.7\\n\\n\\n377\\n29\\n2\\n9\\n30\\n3.646\\n2.864\\n\\nNBA008\\n21.7\\n\\n\\n378\\n35\\n1\\n18\\n42\\n0.205\\n2.903\\n0.0\\nNBA002\\n7.4\\n\\n\\n379\\n32\\n2\\n0\\n18\\n0.296\\n0.748\\n1.0\\nNBA006\\n5.8\\n\\n\\n380\\n25\\n2\\n1\\n14\\n0.233\\n1.153\\n\\nNBA003\\n9.9\\n\\n\\n381\\n42\\n1\\n2\\n30\\n1.472\\n1.438\\n0.0\\nNBA016\\n9.7\\n\\n\\n382\\n25\\n1\\n9\\n20\\n0.105\\n0.595\\n0.0\\nNBA002\\n3.5\\n\\n\\n383\\n20\\n3\\n0\\n17\\n0.044\\n0.347\\n0.0\\nNBA001\\n2.3\\n\\n\\n384\\n50\\n1\\n4\\n23\\n0.141\\n2.734\\n0.0\\nNBA004\\n12.5\\n\\n\\n385\\n46\\n2\\n22\\n144\\n3.325\\n12.659\\n0.0\\nNBA017\\n11.1\\n\\n\\n386\\n33\\n1\\n15\\n32\\n0.491\\n1.941\\n0.0\\nNBA003\\n7.6\\n\\n\\n387\\n43\\n1\\n19\\n79\\n0.782\\n5.143\\n0.0\\nNBA011\\n7.5\\n\\n\\n388\\n30\\n2\\n4\\n21\\n0.492\\n3.351\\n0.0\\nNBA004\\n18.3\\n\\n\\n389\\n34\\n1\\n3\\n36\\n0.624\\n1.068\\n0.0\\nNBA014\\n4.7\\n\\n\\n390\\n37\\n1\\n3\\n25\\n0.276\\n0.649\\n0.0\\nNBA003\\n3.7\\n\\n\\n391\\n38\\n1\\n4\\n19\\n1.245\\n1.339\\n0.0\\nNBA009\\n13.6\\n\\n\\n392\\n32\\n2\\n11\\n57\\n5.44\\n8.126\\n1.0\\nNBA004\\n23.8\\n\\n\\n393\\n39\\n1\\n15\\n39\\n0.14\\n0.562\\n0.0\\nNBA016\\n1.8\\n\\n\\n394\\n31\\n1\\n7\\n41\\n2.996\\n9.591\\n1.0\\nNBA011\\n30.7\\n\\n\\n395\\n25\\n1\\n5\\n22\\n0.403\\n1.995\\n0.0\\nNBA005\\n10.9\\n\\n\\n396\\n31\\n2\\n12\\n44\\n1.867\\n2.357\\n\\nNBA008\\n9.6\\n\\n\\n397\\n29\\n2\\n0\\n23\\n1.242\\n0.598\\n\\nNBA007\\n8.0\\n\\n\\n398\\n45\\n2\\n21\\n132\\n2.558\\n1.402\\n0.0\\nNBA026\\n3.0\\n\\n\\n399\\n39\\n1\\n4\\n38\\n1.178\\n1.292\\n0.0\\nNBA009\\n6.5\\n\\n\\n400\\n34\\n1\\n4\\n23\\n0.617\\n0.671\\n\\nNBA006\\n5.6\\n\\n\\n401\\n24\\n2\\n3\\n24\\n2.173\\n2.411\\n0.0\\nNBA001\\n19.1\\n\\n\\n402\\n30\\n1\\n10\\n19\\n0.336\\n0.5\\n0.0\\nNBA002\\n4.4\\n\\n\\n403\\n30\\n1\\n0\\n19\\n0.624\\n2.53\\n1.0\\nNBA008\\n16.6\\n\\n\\n404\\n27\\n1\\n0\\n18\\n0.583\\n1.721\\n0.0\\nNBA007\\n12.8\\n\\n\\n405\\n31\\n1\\n5\\n25\\n1.177\\n2.348\\n0.0\\nNBA003\\n14.1\\n\\n\\n406\\n47\\n3\\n9\\n52\\n2.54\\n7.912\\n1.0\\nNBA001\\n20.1\\n\\n\\n407\\n47\\n2\\n4\\n33\\n1.195\\n1.148\\n1.0\\nNBA009\\n7.1\\n\\n\\n408\\n45\\n2\\n15\\n51\\n1.551\\n7.68\\n0.0\\nNBA014\\n18.1\\n\\n\\n409\\n31\\n4\\n7\\n97\\n1.827\\n3.993\\n\\nNBA012\\n6.0\\n\\n\\n410\\n45\\n1\\n7\\n29\\n0.739\\n1.03\\n\\nNBA017\\n6.1\\n\\n\\n411\\n29\\n1\\n12\\n40\\n1.632\\n1.048\\n0.0\\nNBA002\\n6.7\\n\\n\\n412\\n36\\n2\\n12\\n60\\n1.721\\n3.019\\n0.0\\nNBA013\\n7.9\\n\\n\\n413\\n29\\n2\\n10\\n44\\n3.703\\n4.261\\n0.0\\nNBA008\\n18.1\\n\\n\\n414\\n39\\n1\\n2\\n22\\n1.916\\n3.166\\n1.0\\nNBA015\\n23.1\\n\\n\\n415\\n22\\n2\\n0\\n35\\n0.781\\n2.369\\n1.0\\nNBA001\\n9.0\\n\\n\\n416\\n46\\n1\\n14\\n35\\n1.349\\n2.221\\n0.0\\nNBA025\\n10.2\\n\\n\\n417\\n38\\n1\\n21\\n65\\n2.533\\n8.387\\n\\nNBA017\\n16.8\\n\\n\\n418\\n37\\n1\\n1\\n24\\n1.801\\n1.823\\n1.0\\nNBA003\\n15.1\\n\\n\\n419\\n42\\n1\\n12\\n51\\n2.412\\n8.502\\n0.0\\nNBA011\\n21.4\\n\\n\\n420\\n36\\n1\\n4\\n25\\n0.144\\n0.856\\n\\nNBA017\\n4.0\\n\\n\\n421\\n34\\n1\\n18\\n53\\n0.84\\n4.725\\n0.0\\nNBA010\\n10.5\\n\\n\\n422\\n38\\n3\\n12\\n63\\n5.715\\n4.365\\n1.0\\nNBA014\\n16.0\\n\\n\\n423\\n27\\n1\\n11\\n21\\n0.915\\n1.479\\n\\nNBA001\\n11.4\\n\\n\\n424\\n35\\n2\\n9\\n30\\n0.65\\n1.63\\n0.0\\nNBA016\\n7.6\\n\\n\\n425\\n48\\n1\\n10\\n70\\n10.679\\n9.061\\n\\nNBA000\\n28.2\\n\\n\\n426\\n45\\n2\\n18\\n35\\n0.548\\n5.542\\n0.0\\nNBA019\\n17.4\\n\\n\\n427\\n43\\n1\\n4\\n29\\n0.053\\n1.281\\n0.0\\nNBA002\\n4.6\\n\\n\\n428\\n54\\n1\\n9\\n28\\n1.558\\n2.586\\n1.0\\nNBA002\\n14.8\\n\\n\\n429\\n35\\n3\\n7\\n38\\n1.383\\n4.355\\n0.0\\nNBA005\\n15.1\\n\\n\\n430\\n28\\n1\\n4\\n19\\n0.287\\n0.492\\n0.0\\nNBA007\\n4.1\\n\\n\\n431\\n39\\n1\\n16\\n52\\n4.16\\n6.24\\n0.0\\nNBA004\\n20.0\\n\\n\\n432\\n43\\n1\\n8\\n32\\n1.234\\n4.846\\n\\nNBA000\\n19.0\\n\\n\\n433\\n32\\n2\\n2\\n15\\n0.119\\n1.246\\n1.0\\nNBA011\\n9.1\\n\\n\\n434\\n22\\n3\\n0\\n18\\n0.478\\n0.908\\n0.0\\nNBA001\\n7.7\\n\\n\\n435\\n41\\n3\\n18\\n71\\n6.566\\n4.581\\n1.0\\nNBA006\\n15.7\\n\\n\\n436\\n34\\n2\\n4\\n25\\n0.57\\n0.88\\n0.0\\nNBA010\\n5.8\\n\\n\\n437\\n34\\n2\\n9\\n27\\n0.295\\n0.164\\n0.0\\nNBA007\\n1.7\\n\\n\\n438\\n31\\n1\\n1\\n24\\n0.217\\n0.863\\n0.0\\nNBA001\\n4.5\\n\\n\\n439\\n55\\n1\\n19\\n78\\n4.405\\n7.763\\n0.0\\nNBA002\\n15.6\\n\\n\\n440\\n40\\n1\\n21\\n46\\n0.967\\n1.885\\n0.0\\nNBA021\\n6.2\\n\\n\\n441\\n41\\n1\\n13\\n44\\n0.071\\n0.677\\n0.0\\nNBA010\\n1.7\\n\\n\\n442\\n43\\n2\\n10\\n37\\n0.676\\n2.469\\n0.0\\nNBA024\\n8.5\\n\\n\\n443\\n36\\n1\\n6\\n26\\n0.03\\n2.128\\n0.0\\nNBA009\\n8.3\\n\\n\\n444\\n51\\n2\\n31\\n249\\n4.273\\n15.149\\n0.0\\nNBA014\\n7.8\\n\\n\\n445\\n40\\n1\\n17\\n55\\n2.126\\n4.144\\n\\nNBA005\\n11.4\\n\\n\\n446\\n27\\n3\\n5\\n42\\n2.708\\n5.65\\n1.0\\nNBA004\\n19.9\\n\\n\\n447\\n36\\n2\\n11\\n49\\n0.273\\n0.364\\n0.0\\nNBA008\\n1.3\\n\\n\\n448\\n38\\n1\\n5\\n54\\n1.5\\n4.224\\n0.0\\nNBA005\\n10.6\\n\\n\\n449\\n47\\n1\\n17\\n43\\n0.588\\n1.82\\n0.0\\nNBA021\\n5.6\\n\\n\\n450\\n33\\n1\\n13\\n42\\n0.228\\n1.284\\n0.0\\nNBA013\\n3.6\\n\\n\\n451\\n41\\n3\\n12\\n86\\n4.991\\n17.799\\n1.0\\nNBA011\\n26.5\\n\\n\\n452\\n33\\n1\\n9\\n29\\n1.349\\n2.653\\n1.0\\nNBA004\\n13.8\\n\\n\\n453\\n21\\n3\\n0\\n26\\n1.53\\n0.472\\n0.0\\nNBA001\\n7.7\\n\\n\\n454\\n34\\n1\\n0\\n21\\n0.187\\n1.325\\n0.0\\nNBA001\\n7.2\\n\\n\\n455\\n51\\n2\\n27\\n166\\n0.821\\n18.269\\n0.0\\nNBA021\\n11.5\\n\\n\\n456\\n36\\n2\\n0\\n30\\n0.329\\n2.581\\n0.0\\nNBA017\\n9.7\\n\\n\\n457\\n23\\n2\\n0\\n17\\n2.044\\n2.665\\n1.0\\nNBA001\\n27.7\\n\\n\\n458\\n34\\n1\\n4\\n28\\n1.058\\n1.574\\n\\nNBA003\\n9.4\\n\\n\\n459\\n29\\n1\\n7\\n22\\n0.551\\n1.583\\n0.0\\nNBA009\\n9.7\\n\\n\\n460\\n46\\n3\\n9\\n60\\n1.607\\n7.574\\n0.0\\nNBA010\\n15.3\\n\\n\\n461\\n45\\n3\\n2\\n39\\n0.459\\n1.452\\n0.0\\nNBA005\\n4.9\\n\\n\\n462\\n41\\n3\\n17\\n176\\n11.359\\n5.009\\n1.0\\nNBA012\\n9.3\\n\\n\\n463\\n28\\n1\\n4\\n16\\n1.085\\n2.723\\n0.0\\nNBA001\\n23.8\\n\\n\\n464\\n37\\n1\\n6\\n29\\n1.716\\n3.011\\n0.0\\nNBA009\\n16.3\\n\\n\\n465\\n25\\n1\\n8\\n35\\n0.077\\n0.938\\n0.0\\nNBA001\\n2.9\\n\\n\\n466\\n48\\n3\\n0\\n19\\n0.85\\n1.202\\n0.0\\nNBA027\\n10.8\\n\\n\\n467\\n37\\n3\\n12\\n83\\n0.32\\n3.083\\n0.0\\nNBA008\\n4.1\\n\\n\\n468\\n32\\n1\\n3\\n23\\n0.053\\n1.373\\n0.0\\nNBA010\\n6.2\\n\\n\\n469\\n31\\n1\\n15\\n60\\n0.804\\n2.076\\n0.0\\nNBA002\\n4.8\\n\\n\\n470\\n48\\n4\\n14\\n59\\n4.936\\n4.799\\n1.0\\nNBA010\\n16.5\\n\\n\\n471\\n45\\n1\\n22\\n91\\n1.256\\n9.391\\n0.0\\nNBA024\\n11.7\\n\\n\\n472\\n41\\n2\\n6\\n36\\n1.486\\n3.518\\n\\nNBA007\\n13.9\\n\\n\\n473\\n39\\n1\\n19\\n46\\n2.516\\n1.67\\n0.0\\nNBA008\\n9.1\\n\\n\\n474\\n41\\n1\\n19\\n96\\n2.254\\n5.234\\n0.0\\nNBA001\\n7.8\\n\\n\\n475\\n50\\n2\\n15\\n60\\n0.468\\n0.192\\n0.0\\nNBA031\\n1.1\\n\\n\\n476\\n22\\n3\\n0\\n23\\n0.373\\n1.559\\n1.0\\nNBA000\\n8.4\\n\\n\\n477\\n43\\n2\\n6\\n54\\n0.622\\n4.562\\n0.0\\nNBA024\\n9.6\\n\\n\\n478\\n33\\n1\\n8\\n27\\n0.777\\n0.789\\n0.0\\nNBA007\\n5.8\\n\\n\\n479\\n29\\n1\\n11\\n32\\n0.927\\n0.993\\n0.0\\nNBA007\\n6.0\\n\\n\\n480\\n24\\n1\\n3\\n21\\n2.682\\n3.387\\n1.0\\nNBA003\\n28.9\\n\\n\\n481\\n27\\n1\\n6\\n52\\n1.902\\n5.274\\n\\nNBA002\\n13.8\\n\\n\\n482\\n37\\n4\\n1\\n33\\n2.694\\n2.619\\n1.0\\nNBA014\\n16.1\\n\\n\\n483\\n34\\n2\\n8\\n78\\n2.157\\n2.055\\n0.0\\nNBA006\\n5.4\\n\\n\\n484\\n22\\n1\\n1\\n17\\n0.806\\n2.356\\n0.0\\nNBA003\\n18.6\\n\\n\\n485\\n41\\n1\\n4\\n25\\n1.06\\n1.464\\n0.0\\nNBA019\\n10.1\\n\\n\\n486\\n32\\n2\\n7\\n32\\n0.433\\n0.943\\n0.0\\nNBA010\\n4.3\\n\\n\\n487\\n35\\n1\\n15\\n40\\n1.214\\n6.186\\n0.0\\nNBA011\\n18.5\\n\\n\\n488\\n41\\n1\\n24\\n100\\n5.06\\n6.44\\n0.0\\nNBA015\\n11.5\\n\\n\\n489\\n21\\n2\\n1\\n16\\n0.242\\n2.638\\n1.0\\nNBA002\\n18.0\\n\\n\\n490\\n23\\n1\\n2\\n25\\n0.124\\n1.001\\n1.0\\nNBA001\\n4.5\\n\\n\\n491\\n25\\n1\\n6\\n22\\n2.262\\n2.182\\n0.0\\nNBA006\\n20.2\\n\\n\\n492\\n40\\n1\\n12\\n89\\n2.772\\n12.714\\n0.0\\nNBA006\\n17.4\\n\\n\\n493\\n38\\n1\\n11\\n35\\n1.266\\n1.534\\n0.0\\nNBA013\\n8.0\\n\\n\\n494\\n49\\n2\\n14\\n63\\n0.936\\n9.018\\n\\nNBA026\\n15.8\\n\\n\\n495\\n40\\n1\\n13\\n28\\n0.965\\n0.687\\n0.0\\nNBA002\\n5.9\\n\\n\\n496\\n29\\n2\\n1\\n25\\n0.569\\n2.031\\n0.0\\nNBA007\\n10.4\\n\\n\\n497\\n25\\n1\\n3\\n18\\n0.352\\n2.582\\n1.0\\nNBA002\\n16.3\\n\\n\\n498\\n33\\n1\\n14\\n72\\n15.017\\n14.719\\n1.0\\nNBA008\\n41.3\\n\\n\\n499\\n37\\n2\\n11\\n47\\n1.597\\n2.915\\n\\nNBA011\\n9.6\\n\\n\\n500\\n24\\n1\\n1\\n18\\n0.239\\n0.823\\n1.0\\nNBA000\\n5.9\\n\\n\\n501\\n29\\n2\\n4\\n37\\n1.16\\n1.282\\n1.0\\nNBA003\\n6.6\\n\\n\\n502\\n28\\n2\\n0\\n29\\n2.148\\n1.709\\n1.0\\nNBA007\\n13.3\\n\\n\\n503\\n37\\n2\\n15\\n108\\n5.251\\n7.493\\n\\nNBA011\\n11.8\\n\\n\\n504\\n47\\n2\\n27\\n107\\n1.638\\n4.889\\n\\nNBA007\\n6.1\\n\\n\\n505\\n31\\n2\\n2\\n26\\n0.283\\n1.485\\n1.0\\nNBA001\\n6.8\\n\\n\\n506\\n28\\n3\\n5\\n44\\n0.773\\n3.055\\n0.0\\nNBA009\\n8.7\\n\\n\\n507\\n39\\n2\\n15\\n32\\n0.422\\n1.146\\n0.0\\nNBA019\\n4.9\\n\\n\\n508\\n33\\n2\\n2\\n35\\n2.124\\n5.891\\n1.0\\nNBA014\\n22.9\\n\\n\\n509\\n41\\n2\\n19\\n68\\n1.507\\n2.437\\n0.0\\nNBA002\\n5.8\\n\\n\\n510\\n29\\n2\\n1\\n29\\n2.33\\n3.818\\n1.0\\nNBA007\\n21.2\\n\\n\\n511\\n31\\n1\\n2\\n22\\n1.092\\n1.702\\n1.0\\nNBA004\\n12.7\\n\\n\\n512\\n28\\n4\\n0\\n38\\n0.636\\n3.316\\n0.0\\nNBA005\\n10.4\\n\\n\\n513\\n35\\n1\\n0\\n34\\n1.37\\n2.404\\n1.0\\nNBA005\\n11.1\\n\\n\\n514\\n54\\n1\\n25\\n120\\n14.596\\n17.204\\n1.0\\nNBA012\\n26.5\\n\\n\\n515\\n39\\n1\\n19\\n53\\n0.19\\n1.771\\n\\nNBA016\\n3.7\\n\\n\\n516\\n46\\n1\\n9\\n31\\n1.617\\n2.661\\n0.0\\nNBA023\\n13.8\\n\\n\\n517\\n23\\n2\\n3\\n22\\n1.274\\n1.234\\n1.0\\nNBA003\\n11.4\\n\\n\\n518\\n28\\n2\\n6\\n38\\n0.774\\n1.962\\n0.0\\nNBA007\\n7.2\\n\\n\\n519\\n24\\n1\\n3\\n15\\n0.073\\n1.622\\n1.0\\nNBA005\\n11.3\\n\\n\\n520\\n41\\n2\\n7\\n63\\n4.638\\n5.064\\n0.0\\nNBA017\\n15.4\\n\\n\\n521\\n43\\n2\\n9\\n60\\n4.039\\n8.201\\n1.0\\nNBA005\\n20.4\\n\\n\\n522\\n27\\n3\\n3\\n35\\n1.601\\n3.054\\n0.0\\nNBA004\\n13.3\\n\\n\\n523\\n33\\n4\\n4\\n22\\n0.566\\n0.644\\n\\nNBA012\\n5.5\\n\\n\\n524\\n28\\n1\\n2\\n18\\n1.939\\n0.725\\n1.0\\nNBA000\\n14.8\\n\\n\\n525\\n48\\n1\\n13\\n38\\n0.722\\n3.382\\n\\nNBA011\\n10.8\\n\\n\\n526\\n35\\n3\\n1\\n20\\n0.853\\n0.727\\n0.0\\nNBA004\\n7.9\\n\\n\\n527\\n31\\n1\\n11\\n28\\n0.345\\n0.999\\n1.0\\nNBA006\\n4.8\\n\\n\\n528\\n42\\n2\\n14\\n48\\n1.201\\n2.927\\n1.0\\nNBA001\\n8.6\\n\\n\\n529\\n29\\n1\\n1\\n18\\n1.981\\n2.627\\n1.0\\nNBA003\\n25.6\\n\\n\\n530\\n36\\n1\\n4\\n17\\n0.521\\n2.42\\n0.0\\nNBA015\\n17.3\\n\\n\\n531\\n29\\n1\\n4\\n24\\n0.867\\n1.005\\n\\nNBA000\\n7.8\\n\\n\\n532\\n31\\n1\\n12\\n31\\n2.057\\n5.29\\n0.0\\nNBA004\\n23.7\\n\\n\\n533\\n43\\n4\\n18\\n446\\n16.031\\n12.959\\n1.0\\nNBA014\\n6.5\\n\\n\\n534\\n41\\n2\\n13\\n93\\n9.542\\n4.129\\n\\nNBA001\\n14.7\\n\\n\\n535\\n31\\n1\\n9\\n28\\n0.048\\n0.624\\n0.0\\nNBA010\\n2.4\\n\\n\\n536\\n31\\n1\\n6\\n45\\n0.585\\n2.7\\n\\nNBA001\\n7.3\\n\\n\\n537\\n28\\n2\\n2\\n23\\n0.187\\n1.285\\n1.0\\nNBA003\\n6.4\\n\\n\\n538\\n35\\n1\\n7\\n29\\n0.264\\n1.157\\n0.0\\nNBA014\\n4.9\\n\\n\\n539\\n38\\n1\\n5\\n21\\n0.45\\n1.44\\n0.0\\nNBA013\\n9.0\\n\\n\\n540\\n40\\n1\\n14\\n43\\n2.793\\n3.657\\n1.0\\nNBA021\\n15.0\\n\\n\\n541\\n39\\n1\\n20\\n116\\n2.24\\n2.516\\n\\nNBA008\\n4.1\\n\\n\\n542\\n38\\n2\\n8\\n38\\n0.029\\n0.199\\n0.0\\nNBA016\\n0.6\\n\\n\\n543\\n27\\n3\\n4\\n40\\n0.284\\n0.956\\n1.0\\nNBA001\\n3.1\\n\\n\\n544\\n49\\n1\\n11\\n39\\n2.458\\n1.481\\n0.0\\nNBA005\\n10.1\\n\\n\\n545\\n38\\n1\\n18\\n45\\n0.535\\n2.615\\n0.0\\nNBA007\\n7.0\\n\\n\\n546\\n43\\n1\\n16\\n89\\n0.159\\n0.197\\n0.0\\nNBA007\\n0.4\\n\\n\\n547\\n36\\n2\\n9\\n49\\n0.818\\n3.396\\n1.0\\nNBA006\\n8.6\\n\\n\\n548\\n37\\n1\\n4\\n23\\n0.87\\n1.982\\n0.0\\nNBA000\\n12.4\\n\\n\\n549\\n46\\n3\\n22\\n99\\n0.827\\n1.45\\n0.0\\nNBA004\\n2.3\\n\\n\\n550\\n22\\n2\\n0\\n20\\n0.207\\n0.913\\n0.0\\nNBA003\\n5.6\\n\\n\\n551\\n47\\n1\\n13\\n51\\n3.739\\n8.399\\n0.0\\nNBA025\\n23.8\\n\\n\\n552\\n47\\n3\\n16\\n266\\n2.192\\n3.128\\n\\nNBA007\\n2.0\\n\\n\\n553\\n30\\n4\\n2\\n25\\n1.77\\n0.73\\n0.0\\nNBA008\\n10.0\\n\\n\\n554\\n51\\n2\\n19\\n159\\n1.068\\n3.384\\n0.0\\nNBA025\\n2.8\\n\\n\\n555\\n28\\n1\\n10\\n42\\n1.047\\n2.565\\n\\nNBA001\\n8.6\\n\\n\\n556\\n50\\n1\\n6\\n21\\n1.317\\n1.392\\n\\nNBA027\\n12.9\\n\\n\\n557\\n43\\n1\\n24\\n254\\n7.002\\n12.556\\n\\nNBA022\\n7.7\\n\\n\\n558\\n46\\n2\\n9\\n15\\n0.015\\n0.63\\n0.0\\nNBA026\\n4.3\\n\\n\\n559\\n29\\n1\\n7\\n20\\n1.006\\n2.954\\n1.0\\nNBA005\\n19.8\\n\\n\\n560\\n26\\n1\\n1\\n21\\n0.608\\n0.421\\n0.0\\nNBA000\\n4.9\\n\\n\\n561\\n45\\n1\\n14\\n46\\n1.262\\n1.084\\n\\nNBA026\\n5.1\\n\\n\\n562\\n39\\n1\\n22\\n52\\n1.155\\n0.509\\n0.0\\nNBA003\\n3.2\\n\\n\\n563\\n30\\n2\\n10\\n22\\n1.41\\n2.132\\n0.0\\nNBA004\\n16.1\\n\\n\\n564\\n41\\n3\\n7\\n56\\n0.374\\n7.746\\n1.0\\nNBA006\\n14.5\\n\\n\\n565\\n25\\n2\\n4\\n27\\n0.549\\n0.801\\n1.0\\nNBA005\\n5.0\\n\\n\\n566\\n34\\n1\\n16\\n48\\n1.474\\n2.174\\n0.0\\nNBA009\\n7.6\\n\\n\\n567\\n44\\n3\\n7\\n78\\n3.153\\n5.037\\n\\nNBA016\\n10.5\\n\\n\\n568\\n25\\n1\\n4\\n23\\n0.252\\n0.944\\n0.0\\nNBA000\\n5.2\\n\\n\\n569\\n39\\n1\\n20\\n67\\n3.834\\n16.668\\n0.0\\nNBA009\\n30.6\\n\\n\\n570\\n26\\n1\\n4\\n20\\n0.319\\n0.761\\n0.0\\nNBA003\\n5.4\\n\\n\\n571\\n31\\n1\\n8\\n41\\n0.134\\n5.032\\n0.0\\nNBA003\\n12.6\\n\\n\\n572\\n40\\n3\\n5\\n220\\n8.166\\n27.034\\n1.0\\nNBA003\\n16.0\\n\\n\\n573\\n42\\n1\\n6\\n31\\n1.025\\n2.571\\n0.0\\nNBA009\\n11.6\\n\\n\\n574\\n23\\n1\\n1\\n21\\n1.21\\n0.554\\n1.0\\nNBA000\\n8.4\\n\\n\\n575\\n34\\n1\\n9\\n48\\n0.42\\n4.044\\n0.0\\nNBA008\\n9.3\\n\\n\\n576\\n28\\n4\\n0\\n29\\n1.425\\n5.593\\n0.0\\nNBA007\\n24.2\\n\\n\\n577\\n29\\n1\\n6\\n21\\n1.11\\n2.691\\n0.0\\nNBA007\\n18.1\\n\\n\\n578\\n29\\n2\\n3\\n26\\n0.538\\n1.048\\n1.0\\nNBA006\\n6.1\\n\\n\\n579\\n24\\n2\\n2\\n26\\n0.888\\n1.634\\n1.0\\nNBA003\\n9.7\\n\\n\\n580\\n53\\n1\\n9\\n50\\n2.016\\n3.584\\n1.0\\nNBA018\\n11.2\\n\\n\\n581\\n39\\n1\\n19\\n60\\n9.593\\n6.667\\n1.0\\nNBA015\\n27.1\\n\\n\\n582\\n28\\n4\\n2\\n41\\n0.459\\n0.566\\n1.0\\nNBA004\\n2.5\\n\\n\\n583\\n38\\n1\\n16\\n37\\n0.083\\n3.099\\n\\nNBA008\\n8.6\\n\\n\\n584\\n39\\n1\\n12\\n46\\n0.561\\n1.739\\n0.0\\nNBA010\\n5.0\\n\\n\\n585\\n38\\n1\\n18\\n44\\n0.606\\n1.374\\n0.0\\nNBA019\\n4.5\\n\\n\\n586\\n34\\n4\\n6\\n27\\n1.982\\n7.549\\n1.0\\nNBA003\\n35.3\\n\\n\\n587\\n31\\n1\\n11\\n45\\n2.739\\n4.911\\n0.0\\nNBA012\\n17.0\\n\\n\\n588\\n40\\n1\\n2\\n32\\n0.854\\n0.33\\n0.0\\nNBA004\\n3.7\\n\\n\\n589\\n32\\n1\\n8\\n26\\n0.326\\n0.74\\n0.0\\nNBA006\\n4.1\\n\\n\\n590\\n35\\n2\\n12\\n64\\n1.45\\n8.15\\n\\nNBA012\\n15.0\\n\\n\\n591\\n29\\n2\\n3\\n32\\n1.071\\n1.809\\n\\nNBA009\\n9.0\\n\\n\\n592\\n44\\n2\\n12\\n86\\n1.476\\n9.704\\n0.0\\nNBA005\\n13.0\\n\\n\\n593\\n48\\n2\\n9\\n44\\n2.134\\n0.462\\n\\nNBA022\\n5.9\\n\\n\\n594\\n41\\n2\\n6\\n36\\n4.514\\n2.506\\n1.0\\nNBA000\\n19.5\\n\\n\\n595\\n28\\n1\\n0\\n28\\n2.284\\n7.04\\n1.0\\nNBA002\\n33.3\\n\\n\\n596\\n29\\n1\\n3\\n23\\n1.104\\n1.035\\n\\nNBA010\\n9.3\\n\\n\\n597\\n24\\n1\\n1\\n16\\n0.878\\n0.274\\n\\nNBA004\\n7.2\\n\\n\\n598\\n25\\n1\\n9\\n18\\n0.066\\n0.15\\n0.0\\nNBA004\\n1.2\\n\\n\\n599\\n43\\n2\\n16\\n83\\n0.259\\n3.144\\n0.0\\nNBA010\\n4.1\\n\\n\\n600\\n45\\n1\\n12\\n37\\n1.343\\n2.172\\n0.0\\nNBA019\\n9.5\\n\\n\\n601\\n35\\n1\\n13\\n35\\n0.432\\n1.143\\n0.0\\nNBA015\\n4.5\\n\\n\\n602\\n34\\n1\\n13\\n51\\n1.875\\n3.021\\n0.0\\nNBA011\\n9.6\\n\\n\\n603\\n29\\n1\\n2\\n14\\n0.587\\n1.429\\n1.0\\nNBA000\\n14.4\\n\\n\\n604\\n32\\n2\\n11\\n75\\n7.759\\n9.716\\n1.0\\nNBA006\\n23.3\\n\\n\\n605\\n27\\n3\\n6\\n26\\n0.93\\n1.774\\n0.0\\nNBA004\\n10.4\\n\\n\\n606\\n39\\n1\\n16\\n57\\n1.559\\n9.499\\n0.0\\nNBA020\\n19.4\\n\\n\\n607\\n37\\n4\\n2\\n29\\n2.782\\n1.684\\n\\nNBA001\\n15.4\\n\\n\\n608\\n31\\n4\\n1\\n29\\n1.065\\n2.154\\n0.0\\nNBA006\\n11.1\\n\\n\\n609\\n28\\n1\\n4\\n28\\n0.437\\n3.539\\n1.0\\nNBA002\\n14.2\\n\\n\\n610\\n27\\n2\\n8\\n38\\n0.364\\n2.258\\n0.0\\nNBA004\\n6.9\\n\\n\\n611\\n31\\n1\\n8\\n27\\n0.674\\n0.784\\n\\nNBA004\\n5.4\\n\\n\\n612\\n31\\n1\\n9\\n26\\n0.31\\n0.86\\n0.0\\nNBA005\\n4.5\\n\\n\\n613\\n32\\n1\\n0\\n20\\n0.263\\n0.337\\n1.0\\nNBA004\\n3.0\\n\\n\\n614\\n29\\n2\\n9\\n36\\n0.127\\n0.377\\n0.0\\nNBA003\\n1.4\\n\\n\\n615\\n31\\n2\\n9\\n53\\n1.195\\n5.96\\n0.0\\nNBA008\\n13.5\\n\\n\\n616\\n32\\n2\\n5\\n43\\n1.806\\n4.644\\n1.0\\nNBA005\\n15.0\\n\\n\\n617\\n39\\n1\\n6\\n42\\n2.541\\n5.817\\n1.0\\nNBA019\\n19.9\\n\\n\\n618\\n27\\n2\\n7\\n30\\n0.448\\n0.752\\n1.0\\nNBA008\\n4.0\\n\\n\\n619\\n29\\n1\\n13\\n42\\n1.458\\n1.65\\n1.0\\nNBA001\\n7.4\\n\\n\\n620\\n31\\n1\\n11\\n34\\n0.298\\n2.014\\n0.0\\nNBA006\\n6.8\\n\\n\\n621\\n41\\n2\\n22\\n75\\n9.877\\n7.823\\n0.0\\nNBA017\\n23.6\\n\\n\\n622\\n30\\n1\\n1\\n27\\n1.275\\n2.046\\n\\nNBA001\\n12.3\\n\\n\\n623\\n35\\n2\\n0\\n22\\n1.97\\n1.33\\n1.0\\nNBA016\\n15.0\\n\\n\\n624\\n38\\n2\\n2\\n22\\n1.209\\n3.785\\n1.0\\nNBA016\\n22.7\\n\\n\\n625\\n29\\n1\\n1\\n17\\n0.157\\n0.982\\n0.0\\nNBA009\\n6.7\\n\\n\\n626\\n37\\n1\\n7\\n32\\n2.697\\n3.575\\n0.0\\nNBA003\\n19.6\\n\\n\\n627\\n26\\n1\\n8\\n25\\n0.21\\n0.965\\n0.0\\nNBA004\\n4.7\\n\\n\\n628\\n27\\n1\\n0\\n16\\n0.13\\n0.046\\n0.0\\nNBA005\\n1.1\\n\\n\\n629\\n42\\n2\\n18\\n66\\n1.641\\n4.695\\n0.0\\nNBA023\\n9.6\\n\\n\\n630\\n45\\n3\\n8\\n140\\n4.184\\n15.276\\n\\nNBA001\\n13.9\\n\\n\\n631\\n51\\n4\\n15\\n26\\n2.012\\n1.524\\n\\nNBA030\\n13.6\\n\\n\\n632\\n36\\n1\\n10\\n28\\n0.815\\n2.321\\n1.0\\nNBA000\\n11.2\\n\\n\\n633\\n48\\n1\\n17\\n66\\n1.468\\n0.644\\n0.0\\nNBA022\\n3.2\\n\\n\\n634\\n45\\n1\\n10\\n52\\n0.932\\n1.876\\n0.0\\nNBA014\\n5.4\\n\\n\\n635\\n47\\n1\\n16\\n110\\n5.821\\n8.039\\n\\nNBA019\\n12.6\\n\\n\\n636\\n26\\n1\\n6\\n22\\n0.721\\n1.545\\n0.0\\nNBA000\\n10.3\\n\\n\\n637\\n35\\n1\\n12\\n30\\n1.899\\n2.721\\n\\nNBA003\\n15.4\\n\\n\\n638\\n50\\n3\\n10\\n80\\n2.479\\n7.281\\n0.0\\nNBA020\\n12.2\\n\\n\\n639\\n30\\n1\\n11\\n33\\n0.682\\n2.09\\n0.0\\nNBA001\\n8.4\\n\\n\\n640\\n49\\n2\\n22\\n79\\n0.288\\n5.479\\n0.0\\nNBA004\\n7.3\\n\\n\\n641\\n36\\n1\\n1\\n16\\n0.433\\n1.055\\n0.0\\nNBA004\\n9.3\\n\\n\\n642\\n24\\n2\\n3\\n19\\n0.359\\n0.458\\n0.0\\nNBA000\\n4.3\\n\\n\\n643\\n42\\n5\\n6\\n190\\n3.157\\n11.663\\n0.0\\nNBA023\\n7.8\\n\\n\\n644\\n28\\n2\\n0\\n30\\n0.121\\n1.319\\n1.0\\nNBA003\\n4.8\\n\\n\\n645\\n52\\n2\\n12\\n76\\n0.995\\n4.857\\n0.0\\nNBA016\\n7.7\\n\\n\\n646\\n39\\n2\\n9\\n56\\n4.765\\n5.707\\n0.0\\nNBA016\\n18.7\\n\\n\\n647\\n40\\n2\\n15\\n138\\n1.222\\n4.436\\n\\nNBA019\\n4.1\\n\\n\\n648\\n29\\n2\\n0\\n22\\n1.039\\n1.799\\n1.0\\nNBA008\\n12.9\\n\\n\\n649\\n40\\n1\\n8\\n28\\n0.534\\n0.474\\n0.0\\nNBA017\\n3.6\\n\\n\\n650\\n27\\n1\\n10\\n34\\n0.851\\n1.359\\n0.0\\nNBA006\\n6.5\\n\\n\\n651\\n24\\n3\\n2\\n16\\n0.27\\n0.754\\n1.0\\nNBA005\\n6.4\\n\\n\\n652\\n26\\n2\\n5\\n28\\n1.024\\n1.16\\n0.0\\nNBA007\\n7.8\\n\\n\\n653\\n40\\n3\\n16\\n116\\n1.614\\n12.422\\n0.0\\nNBA006\\n12.1\\n\\n\\n654\\n50\\n2\\n16\\n71\\n1.663\\n6.218\\n0.0\\nNBA014\\n11.1\\n\\n\\n655\\n30\\n1\\n0\\n20\\n0.622\\n0.458\\n\\nNBA002\\n5.4\\n\\n\\n656\\n26\\n2\\n6\\n30\\n0.144\\n0.156\\n0.0\\nNBA006\\n1.0\\n\\n\\n657\\n35\\n1\\n10\\n28\\n0.11\\n0.254\\n\\nNBA008\\n1.3\\n\\n\\n658\\n37\\n3\\n16\\n50\\n7.32\\n10.98\\n1.0\\nNBA014\\n36.6\\n\\n\\n659\\n52\\n5\\n9\\n70\\n1.329\\n5.251\\n1.0\\nNBA000\\n9.4\\n\\n\\n660\\n24\\n1\\n5\\n46\\n0.53\\n1.218\\n\\nNBA001\\n3.8\\n\\n\\n661\\n28\\n1\\n3\\n26\\n0.432\\n2.168\\n0.0\\nNBA006\\n10.0\\n\\n\\n662\\n29\\n2\\n6\\n57\\n0.453\\n0.801\\n0.0\\nNBA007\\n2.2\\n\\n\\n663\\n35\\n1\\n11\\n77\\n1.1\\n2.519\\n\\nNBA012\\n4.7\\n\\n\\n664\\n54\\n1\\n18\\n114\\n3.295\\n6.395\\n0.0\\nNBA034\\n8.5\\n\\n\\n665\\n32\\n1\\n10\\n32\\n1.168\\n2.448\\n0.0\\nNBA013\\n11.3\\n\\n\\n666\\n32\\n1\\n11\\n53\\n0.089\\n1.66\\n0.0\\nNBA002\\n3.3\\n\\n\\n667\\n36\\n1\\n14\\n81\\n1.785\\n4.047\\n0.0\\nNBA011\\n7.2\\n\\n\\n668\\n31\\n1\\n12\\n24\\n0.442\\n1.142\\n0.0\\nNBA009\\n6.6\\n\\n\\n669\\n28\\n1\\n11\\n24\\n0.107\\n0.469\\n0.0\\nNBA006\\n2.4\\n\\n\\n670\\n34\\n1\\n10\\n33\\n2.502\\n0.897\\n1.0\\nNBA001\\n10.3\\n\\n\\n671\\n53\\n4\\n7\\n61\\n1.875\\n2.944\\n0.0\\nNBA011\\n7.9\\n\\n\\n672\\n50\\n1\\n8\\n47\\n0.399\\n2.844\\n0.0\\nNBA027\\n6.9\\n\\n\\n673\\n52\\n4\\n13\\n234\\n7.387\\n10.631\\n0.0\\nNBA017\\n7.7\\n\\n\\n674\\n30\\n2\\n4\\n15\\n0.35\\n0.625\\n0.0\\nNBA008\\n6.5\\n\\n\\n675\\n26\\n2\\n0\\n28\\n1.271\\n1.333\\n0.0\\nNBA007\\n9.3\\n\\n\\n676\\n42\\n2\\n21\\n121\\n1.365\\n2.386\\n0.0\\nNBA011\\n3.1\\n\\n\\n677\\n27\\n1\\n6\\n43\\n0.883\\n1.224\\n0.0\\nNBA006\\n4.9\\n\\n\\n678\\n41\\n1\\n14\\n52\\n0.926\\n2.87\\n0.0\\nNBA008\\n7.3\\n\\n\\n679\\n27\\n1\\n10\\n31\\n1.362\\n4.001\\n0.0\\nNBA006\\n17.3\\n\\n\\n680\\n32\\n1\\n12\\n33\\n0.795\\n2.901\\n\\nNBA010\\n11.2\\n\\n\\n681\\n37\\n1\\n12\\n44\\n2.995\\n3.473\\n0.0\\nNBA014\\n14.7\\n\\n\\n682\\n29\\n1\\n3\\n17\\n0.47\\n1.06\\n0.0\\nNBA001\\n9.0\\n\\n\\n683\\n27\\n1\\n9\\n45\\n2.852\\n5.158\\n1.0\\nNBA006\\n17.8\\n\\n\\n684\\n50\\n3\\n25\\n94\\n1.734\\n3.248\\n\\nNBA007\\n5.3\\n\\n\\n685\\n21\\n3\\n0\\n24\\n0.833\\n1.015\\n0.0\\nNBA002\\n7.7\\n\\n\\n686\\n41\\n4\\n14\\n44\\n0.353\\n0.395\\n0.0\\nNBA003\\n1.7\\n\\n\\n687\\n23\\n2\\n1\\n18\\n0.885\\n2.481\\n1.0\\nNBA003\\n18.7\\n\\n\\n688\\n45\\n2\\n9\\n69\\n0.707\\n3.916\\n0.0\\nNBA026\\n6.7\\n\\n\\n689\\n45\\n2\\n2\\n29\\n0.443\\n1.123\\n0.0\\nNBA019\\n5.4\\n\\n\\n690\\n33\\n1\\n6\\n21\\n0.567\\n1.008\\n0.0\\nNBA014\\n7.5\\n\\n\\n691\\n21\\n1\\n1\\n16\\n0.141\\n0.867\\n0.0\\nNBA001\\n6.3\\n\\n\\n692\\n40\\n1\\n6\\n36\\n0.391\\n0.365\\n1.0\\nNBA009\\n2.1\\n\\n\\n693\\n40\\n2\\n3\\n28\\n0.553\\n2.107\\n0.0\\nNBA002\\n9.5\\n\\n\\n694\\n56\\n1\\n11\\n59\\n4.673\\n4.177\\n0.0\\nNBA020\\n15.0\\n\\n\\n695\\n26\\n1\\n2\\n22\\n0.237\\n1.171\\n\\nNBA005\\n6.4\\n\\n\\n696\\n29\\n1\\n6\\n46\\n1.17\\n1.314\\n0.0\\nNBA004\\n5.4\\n\\n\\n697\\n29\\n2\\n6\\n65\\n1.985\\n9.975\\n0.0\\nNBA010\\n18.4\\n\\n\\n698\\n39\\n1\\n13\\n27\\n0.966\\n1.194\\n0.0\\nNBA009\\n8.0\\n\\n\\n699\\n27\\n2\\n1\\n23\\n0.285\\n2.567\\n0.0\\nNBA000\\n12.4\\n\\n\\n700\\n25\\n1\\n1\\n15\\n0.371\\n1.339\\n1.0\\nNBA006\\n11.4\\n\\n\\n701\\n36\\n5\\n5\\n20\\n0.729\\n0.891\\n0.0\\nNBA012\\n8.1\\n\\n\\n702\\n35\\n1\\n7\\n39\\n1.702\\n4.577\\n1.0\\nNBA005\\n16.1\\n\\n\\n703\\n25\\n2\\n4\\n33\\n0.553\\n1.163\\n0.0\\nNBA006\\n5.2\\n\\n\\n704\\n21\\n2\\n2\\n20\\n0.291\\n0.609\\n1.0\\nNBA000\\n4.5\\n\\n\\n705\\n23\\n1\\n2\\n16\\n0.805\\n0.731\\n1.0\\nNBA002\\n9.6\\n\\n\\n706\\n32\\n1\\n14\\n73\\n3.752\\n2.672\\n0.0\\nNBA007\\n8.8\\n\\n\\n707\\n34\\n1\\n0\\n20\\n2.049\\n1.371\\n0.0\\nNBA010\\n17.1\\n\\n\\n708\\n38\\n1\\n5\\n20\\n0.091\\n0.208\\n\\nNBA004\\n1.5\\n\\n\\n709\\n39\\n1\\n22\\n73\\n3.727\\n6.712\\n0.0\\nNBA009\\n14.3\\n\\n\\n710\\n46\\n1\\n1\\n21\\n1.377\\n1.731\\n1.0\\nNBA015\\n14.8\\n\\n\\n711\\n35\\n2\\n10\\n98\\n4.875\\n8.159\\n0.0\\nNBA016\\n13.3\\n\\n\\n712\\n33\\n4\\n9\\n28\\n0.377\\n0.827\\n0.0\\nNBA010\\n4.3\\n\\n\\n713\\n30\\n2\\n12\\n68\\n2.857\\n10.811\\n0.0\\nNBA009\\n20.1\\n\\n\\n714\\n54\\n3\\n21\\n118\\n9.6\\n7.392\\n0.0\\nNBA020\\n14.4\\n\\n\\n715\\n42\\n2\\n5\\n41\\n0.355\\n1.039\\n0.0\\nNBA003\\n3.4\\n\\n\\n716\\n28\\n1\\n9\\n22\\n5.283\\n0.811\\n1.0\\nNBA000\\n27.7\\n\\n\\n717\\n35\\n1\\n9\\n34\\n0.398\\n1.302\\n0.0\\nNBA001\\n5.0\\n\\n\\n718\\n41\\n3\\n16\\n135\\n1.277\\n4.663\\n0.0\\nNBA022\\n4.4\\n\\n\\n719\\n41\\n1\\n16\\n49\\n0.431\\n0.353\\n0.0\\nNBA022\\n1.6\\n\\n\\n720\\n53\\n4\\n5\\n78\\n6.936\\n6.558\\n1.0\\nNBA029\\n17.3\\n\\n\\n721\\n28\\n1\\n4\\n26\\n1.295\\n2.215\\n0.0\\nNBA007\\n13.5\\n\\n\\n722\\n35\\n1\\n5\\n32\\n0.175\\n3.985\\n0.0\\nNBA005\\n13.0\\n\\n\\n723\\n42\\n1\\n7\\n25\\n1.629\\n0.921\\n0.0\\nNBA012\\n10.2\\n\\n\\n724\\n33\\n1\\n11\\n35\\n0.506\\n5.059\\n\\nNBA006\\n15.9\\n\\n\\n725\\n27\\n3\\n0\\n50\\n1.044\\n6.306\\n\\nNBA004\\n14.7\\n\\n\\n726\\n48\\n2\\n30\\n148\\n3.975\\n6.681\\n0.0\\nNBA014\\n7.2\\n\\n\\n727\\n33\\n1\\n2\\n44\\n0.525\\n0.839\\n0.0\\nNBA014\\n3.1\\n\\n\\n728\\n37\\n1\\n6\\n31\\n1.701\\n1.926\\n1.0\\nNBA010\\n11.7\\n\\n\\n729\\n31\\n1\\n5\\n23\\n0.046\\n0.414\\n\\nNBA007\\n2.0\\n\\n\\n730\\n35\\n3\\n10\\n39\\n1.602\\n2.454\\n0.0\\nNBA015\\n10.4\\n\\n\\n731\\n48\\n2\\n6\\n66\\n2.316\\n5.67\\n0.0\\nNBA001\\n12.1\\n\\n\\n732\\n34\\n1\\n16\\n75\\n3.955\\n3.845\\n0.0\\nNBA003\\n10.4\\n\\n\\n733\\n23\\n2\\n2\\n48\\n0.511\\n3.089\\n\\nNBA002\\n7.5\\n\\n\\n734\\n41\\n2\\n8\\n43\\n0.086\\n0.215\\n0.0\\nNBA021\\n0.7\\n\\n\\n735\\n52\\n1\\n33\\n139\\n2.288\\n5.496\\n\\nNBA023\\n5.6\\n\\n\\n736\\n39\\n1\\n6\\n61\\n0.563\\n2.914\\n0.0\\nNBA009\\n5.7\\n\\n\\n737\\n46\\n1\\n1\\n20\\n0.809\\n1.991\\n0.0\\nNBA012\\n14.0\\n\\n\\n738\\n33\\n2\\n4\\n55\\n2.16\\n1.69\\n0.0\\nNBA009\\n7.0\\n\\n\\n739\\n34\\n3\\n2\\n39\\n1.143\\n4.005\\n0.0\\nNBA014\\n13.2\\n\\n\\n740\\n34\\n3\\n12\\n47\\n1.301\\n1.848\\n0.0\\nNBA008\\n6.7\\n\\n\\n741\\n40\\n1\\n9\\n33\\n4.881\\n0.729\\n\\nNBA009\\n17.0\\n\\n\\n742\\n45\\n3\\n16\\n80\\n0.912\\n1.488\\n0.0\\nNBA021\\n3.0\\n\\n\\n743\\n25\\n1\\n1\\n19\\n0.19\\n1.121\\n0.0\\nNBA001\\n6.9\\n\\n\\n744\\n31\\n2\\n6\\n32\\n3.341\\n4.051\\n1.0\\nNBA006\\n23.1\\n\\n\\n745\\n34\\n4\\n7\\n40\\n0.95\\n1.61\\n0.0\\nNBA015\\n6.4\\n\\n\\n746\\n45\\n1\\n23\\n50\\n0.559\\n1.541\\n0.0\\nNBA005\\n4.2\\n\\n\\n747\\n44\\n2\\n17\\n129\\n0.551\\n2.674\\n0.0\\nNBA000\\n2.5\\n\\n\\n748\\n35\\n1\\n13\\n42\\n0.769\\n6.623\\n\\nNBA004\\n17.6\\n\\n\\n749\\n22\\n2\\n0\\n14\\n0.242\\n2.152\\n\\nNBA000\\n17.1\\n\\n\\n750\\n26\\n3\\n3\\n40\\n1.896\\n2.424\\n\\nNBA001\\n10.8\\n\\n\\n751\\n38\\n1\\n6\\n18\\n0.131\\n2.209\\n0.0\\nNBA017\\n13.0\\n\\n\\n752\\n27\\n1\\n7\\n26\\n0.641\\n1.725\\n0.0\\nNBA004\\n9.1\\n\\n\\n753\\n29\\n1\\n11\\n36\\n0.709\\n1.487\\n0.0\\nNBA005\\n6.1\\n\\n\\n754\\n29\\n2\\n5\\n28\\n2.126\\n3.11\\n0.0\\nNBA007\\n18.7\\n\\n\\n755\\n22\\n1\\n4\\n24\\n1.636\\n2.108\\n1.0\\nNBA002\\n15.6\\n\\n\\n756\\n47\\n1\\n4\\n26\\n0.122\\n2.582\\n0.0\\nNBA002\\n10.4\\n\\n\\n757\\n27\\n2\\n5\\n25\\n0.706\\n0.995\\n0.0\\nNBA006\\n6.8\\n\\n\\n758\\n24\\n1\\n2\\n18\\n0.528\\n0.552\\n0.0\\nNBA005\\n6.0\\n\\n\\n759\\n52\\n1\\n17\\n73\\n1.054\\n5.297\\n\\nNBA004\\n8.7\\n\\n\\n760\\n26\\n1\\n3\\n29\\n2.527\\n4.926\\n1.0\\nNBA005\\n25.7\\n\\n\\n761\\n40\\n1\\n22\\n100\\n5.402\\n9.198\\n0.0\\nNBA001\\n14.6\\n\\n\\n762\\n33\\n2\\n12\\n58\\n3.084\\n7.588\\n0.0\\nNBA008\\n18.4\\n\\n\\n763\\n30\\n1\\n0\\n17\\n0.304\\n1.736\\n0.0\\nNBA011\\n12.0\\n\\n\\n764\\n39\\n2\\n16\\n69\\n1.061\\n0.595\\n0.0\\nNBA013\\n2.4\\n\\n\\n765\\n24\\n2\\n0\\n16\\n0.025\\n1.143\\n0.0\\nNBA005\\n7.3\\n\\n\\n766\\n27\\n4\\n0\\n70\\n1.618\\n3.982\\n1.0\\nNBA006\\n8.0\\n\\n\\n767\\n38\\n2\\n7\\n64\\n0.651\\n1.269\\n0.0\\nNBA004\\n3.0\\n\\n\\n768\\n36\\n1\\n9\\n40\\n1.976\\n1.944\\n0.0\\nNBA001\\n9.8\\n\\n\\n769\\n39\\n1\\n4\\n33\\n0.397\\n1.913\\n0.0\\nNBA015\\n7.0\\n\\n\\n770\\n43\\n1\\n13\\n76\\n2.151\\n2.485\\n1.0\\nNBA023\\n6.1\\n\\n\\n771\\n24\\n1\\n8\\n17\\n0.569\\n0.383\\n1.0\\nNBA000\\n5.6\\n\\n\\n772\\n21\\n1\\n5\\n25\\n0.367\\n1.883\\n0.0\\nNBA001\\n9.0\\n\\n\\n773\\n26\\n2\\n2\\n24\\n1.577\\n1.687\\n1.0\\nNBA006\\n13.6\\n\\n\\n774\\n43\\n1\\n11\\n37\\n0.18\\n0.301\\n0.0\\nNBA017\\n1.3\\n\\n\\n775\\n36\\n3\\n11\\n44\\n0.446\\n6.022\\n0.0\\nNBA012\\n14.7\\n\\n\\n776\\n43\\n1\\n15\\n62\\n0.694\\n5.134\\n\\nNBA021\\n9.4\\n\\n\\n777\\n35\\n2\\n11\\n62\\n9.703\\n10.385\\n\\nNBA001\\n32.4\\n\\n\\n778\\n34\\n2\\n10\\n33\\n0.574\\n2.561\\n0.0\\nNBA002\\n9.5\\n\\n\\n779\\n47\\n2\\n17\\n41\\n0.456\\n3.439\\n0.0\\nNBA023\\n9.5\\n\\n\\n780\\n48\\n1\\n0\\n30\\n2.663\\n4.027\\n0.0\\nNBA023\\n22.3\\n\\n\\n781\\n29\\n2\\n9\\n46\\n0.241\\n0.495\\n0.0\\nNBA000\\n1.6\\n\\n\\n782\\n36\\n1\\n7\\n43\\n1.04\\n1.626\\n0.0\\nNBA002\\n6.2\\n\\n\\n783\\n35\\n1\\n10\\n39\\n0.218\\n2.005\\n0.0\\nNBA016\\n5.7\\n\\n\\n784\\n39\\n1\\n13\\n38\\n1.897\\n1.485\\n0.0\\nNBA001\\n8.9\\n\\n\\n785\\n41\\n1\\n21\\n76\\n6.949\\n8.631\\n0.0\\nNBA002\\n20.5\\n\\n\\n786\\n29\\n3\\n1\\n30\\n0.279\\n1.071\\n0.0\\nNBA010\\n4.5\\n\\n\\n787\\n39\\n2\\n18\\n44\\n0.368\\n0.556\\n0.0\\nNBA009\\n2.1\\n\\n\\n788\\n33\\n1\\n12\\n32\\n2.105\\n1.511\\n0.0\\nNBA011\\n11.3\\n\\n\\n789\\n33\\n2\\n8\\n27\\n1.646\\n1.0\\n\\nNBA013\\n9.8\\n\\n\\n790\\n39\\n1\\n0\\n39\\n1.066\\n2.015\\n0.0\\nNBA008\\n7.9\\n\\n\\n791\\n40\\n2\\n8\\n57\\n0.878\\n2.314\\n0.0\\nNBA019\\n5.6\\n\\n\\n792\\n53\\n1\\n33\\n324\\n7.053\\n15.627\\n\\nNBA025\\n7.0\\n\\n\\n793\\n34\\n1\\n15\\n67\\n3.741\\n5.103\\n0.0\\nNBA000\\n13.2\\n\\n\\n794\\n29\\n3\\n7\\n84\\n6.912\\n4.512\\n1.0\\nNBA002\\n13.6\\n\\n\\n795\\n30\\n1\\n0\\n17\\n0.447\\n0.182\\n1.0\\nNBA011\\n3.7\\n\\n\\n796\\n38\\n3\\n3\\n25\\n0.312\\n0.613\\n0.0\\nNBA018\\n3.7\\n\\n\\n797\\n25\\n4\\n0\\n24\\n1.597\\n1.307\\n1.0\\nNBA006\\n12.1\\n\\n\\n798\\n26\\n2\\n6\\n35\\n0.086\\n0.579\\n0.0\\nNBA000\\n1.9\\n\\n\\n799\\n25\\n2\\n5\\n35\\n1.969\\n3.806\\n\\nNBA005\\n16.5\\n\\n\\n800\\n29\\n1\\n8\\n24\\n0.47\\n1.138\\n0.0\\nNBA010\\n6.7\\n\\n\\n801\\n28\\n1\\n5\\n22\\n0.14\\n0.476\\n0.0\\nNBA009\\n2.8\\n\\n\\n802\\n48\\n1\\n30\\n101\\n1.875\\n4.589\\n0.0\\nNBA008\\n6.4\\n\\n\\n803\\n26\\n1\\n0\\n14\\n0.302\\n0.748\\n1.0\\nNBA000\\n7.5\\n\\n\\n804\\n36\\n1\\n4\\n23\\n1.327\\n2.422\\n0.0\\nNBA010\\n16.3\\n\\n\\n805\\n30\\n1\\n12\\n38\\n0.171\\n3.059\\n0.0\\nNBA010\\n8.5\\n\\n\\n806\\n41\\n1\\n1\\n19\\n0.242\\n0.594\\n0.0\\nNBA016\\n4.4\\n\\n\\n807\\n34\\n3\\n13\\n52\\n1.497\\n3.287\\n0.0\\nNBA007\\n9.2\\n\\n\\n808\\n25\\n3\\n3\\n54\\n1.163\\n2.833\\n\\nNBA002\\n7.4\\n\\n\\n809\\n45\\n1\\n17\\n62\\n2.437\\n6.863\\n0.0\\nNBA000\\n15.0\\n\\n\\n810\\n22\\n1\\n4\\n19\\n1.887\\n2.502\\n1.0\\nNBA003\\n23.1\\n\\n\\n811\\n32\\n1\\n13\\n25\\n0.596\\n1.279\\n\\nNBA011\\n7.5\\n\\n\\n812\\n21\\n2\\n1\\n17\\n0.555\\n1.23\\n\\nNBA000\\n10.5\\n\\n\\n813\\n34\\n1\\n6\\n20\\n0.042\\n0.198\\n0.0\\nNBA001\\n1.2\\n\\n\\n814\\n31\\n1\\n10\\n49\\n3.237\\n1.565\\n1.0\\nNBA012\\n9.8\\n\\n\\n815\\n33\\n1\\n7\\n22\\n0.631\\n0.777\\n0.0\\nNBA000\\n6.4\\n\\n\\n816\\n40\\n2\\n2\\n36\\n0.278\\n1.09\\n0.0\\nNBA001\\n3.8\\n\\n\\n817\\n36\\n2\\n6\\n27\\n0.262\\n0.98\\n1.0\\nNBA015\\n4.6\\n\\n\\n818\\n30\\n2\\n2\\n26\\n0.249\\n0.739\\n\\nNBA002\\n3.8\\n\\n\\n819\\n35\\n2\\n0\\n35\\n2.383\\n1.957\\n\\nNBA006\\n12.4\\n\\n\\n820\\n36\\n1\\n7\\n40\\n1.695\\n2.265\\n0.0\\nNBA017\\n9.9\\n\\n\\n821\\n37\\n1\\n4\\n24\\n0.419\\n2.989\\n\\nNBA010\\n14.2\\n\\n\\n822\\n32\\n1\\n16\\n38\\n0.694\\n7.286\\n0.0\\nNBA010\\n21.0\\n\\n\\n823\\n45\\n1\\n3\\n20\\n0.105\\n0.315\\n0.0\\nNBA015\\n2.1\\n\\n\\n824\\n27\\n4\\n0\\n25\\n1.419\\n1.756\\n1.0\\nNBA000\\n12.7\\n\\n\\n825\\n41\\n2\\n4\\n26\\n1.473\\n3.519\\n1.0\\nNBA014\\n19.2\\n\\n\\n826\\n32\\n2\\n12\\n116\\n4.027\\n2.585\\n\\nNBA011\\n5.7\\n\\n\\n827\\n48\\n1\\n13\\n50\\n6.114\\n9.286\\n1.0\\nNBA020\\n30.8\\n\\n\\n828\\n50\\n1\\n1\\n26\\n1.852\\n1.866\\n0.0\\nNBA026\\n14.3\\n\\n\\n829\\n45\\n3\\n0\\n22\\n0.03\\n0.894\\n0.0\\nNBA019\\n4.2\\n\\n\\n830\\n33\\n2\\n2\\n37\\n0.834\\n0.831\\n0.0\\nNBA009\\n4.5\\n\\n\\n831\\n33\\n1\\n13\\n52\\n2.714\\n8.362\\n1.0\\nNBA003\\n21.3\\n\\n\\n832\\n27\\n2\\n8\\n18\\n0.401\\n1.741\\n0.0\\nNBA007\\n11.9\\n\\n\\n833\\n36\\n2\\n7\\n43\\n2.649\\n3.973\\n0.0\\nNBA016\\n15.4\\n\\n\\n834\\n30\\n4\\n7\\n30\\n0.264\\n4.446\\n0.0\\nNBA010\\n15.7\\n\\n\\n835\\n28\\n2\\n3\\n36\\n0.384\\n2.712\\n0.0\\nNBA001\\n8.6\\n\\n\\n836\\n21\\n3\\n0\\n41\\n2.367\\n5.628\\n\\nNBA001\\n19.5\\n\\n\\n837\\n23\\n2\\n3\\n24\\n0.552\\n0.96\\n0.0\\nNBA004\\n6.3\\n\\n\\n838\\n23\\n1\\n7\\n22\\n0.849\\n2.319\\n0.0\\nNBA003\\n14.4\\n\\n\\n839\\n26\\n1\\n10\\n25\\n1.306\\n0.469\\n0.0\\nNBA001\\n7.1\\n\\n\\n840\\n31\\n1\\n8\\n22\\n0.37\\n1.104\\n0.0\\nNBA001\\n6.7\\n\\n\\n841\\n38\\n3\\n13\\n25\\n0.343\\n1.082\\n0.0\\nNBA018\\n5.7\\n\\n\\n842\\n29\\n3\\n7\\n63\\n0.572\\n2.893\\n0.0\\nNBA001\\n5.5\\n\\n\\n843\\n32\\n1\\n14\\n36\\n0.273\\n0.591\\n0.0\\nNBA000\\n2.4\\n\\n\\n844\\n32\\n2\\n8\\n45\\n0.982\\n0.683\\n0.0\\nNBA002\\n3.7\\n\\n\\n845\\n41\\n1\\n7\\n43\\n0.694\\n1.198\\n0.0\\nNBA011\\n4.4\\n\\n\\n846\\n27\\n1\\n5\\n26\\n0.548\\n1.22\\n\\nNBA007\\n6.8\\n\\n\\n847\\n28\\n2\\n7\\n34\\n0.359\\n2.021\\n0.0\\nNBA002\\n7.0\\n\\n\\n848\\n25\\n4\\n0\\n18\\n2.802\\n3.21\\n1.0\\nNBA001\\n33.4\\n\\n\\n849\\n32\\n1\\n12\\n28\\n0.116\\n0.696\\n0.0\\nNBA012\\n2.9\\n\\n\\n850\\n52\\n1\\n16\\n64\\n1.866\\n3.638\\n0.0\\nNBA025\\n8.6\\n\\n\\n'"
            ],
            "application/vnd.google.colaboratory.intrinsic+json": {
              "type": "string"
            }
          },
          "metadata": {},
          "execution_count": 125
        }
      ],
      "source": [
        "data[0].page_content"
      ]
    },
    {
      "cell_type": "code",
      "execution_count": null,
      "metadata": {
        "colab": {
          "base_uri": "https://localhost:8080/"
        },
        "id": "xgx2BJtiKcGE",
        "outputId": "d6325930-e144-48ac-8ff5-5b9011e4a855"
      },
      "outputs": [
        {
          "output_type": "stream",
          "name": "stdout",
          "text": [
            "<table border=\"1\" class=\"dataframe\">\n",
            "  <tbody>\n",
            "    <tr>\n",
            "      <td>Customer Id</td>\n",
            "      <td>Age</td>\n",
            "      <td>Edu</td>\n",
            "      <td>Years Employed</td>\n",
            "      <td>Income</td>\n",
            "      <td>Card Debt</td>\n",
            "      <td>Other Debt</td>\n",
            "      <td>Defaulted</td>\n",
            "      <td>Address</td>\n",
            "      <td>DebtIncomeRatio</td>\n",
            "    </tr>\n",
            "    <tr>\n",
            "      <td>1</td>\n",
            "      <td>41</td>\n",
            "      <td>2</td>\n",
            "      <td>6</td>\n",
            "      <td>19</td>\n",
            "      <td>0.124</td>\n",
            "      <td>1.073</td>\n",
            "      <td>0.0</td>\n",
            "      <td>NBA001</td>\n",
            "      <td>6.3</td>\n",
            "    </tr>\n",
            "    \n"
          ]
        }
      ],
      "source": [
        "# Print the first characters as HTML\n",
        "\n",
        "print(data[0].metadata[\"text_as_html\"][:525])"
      ]
    },
    {
      "cell_type": "markdown",
      "metadata": {
        "id": "9e34B6mKKcGE"
      },
      "source": [
        "## Load from URL/Website files\n"
      ]
    },
    {
      "cell_type": "markdown",
      "metadata": {
        "id": "vo2s03TzKcGE"
      },
      "source": [
        " LangChain's `WebBaseLoader` is designed to extract all text from HTML webpages and convert it into a document format suitable for further processing.\n"
      ]
    },
    {
      "cell_type": "code",
      "execution_count": null,
      "metadata": {
        "id": "CmlRq1D-KcGE"
      },
      "outputs": [],
      "source": [
        "loader = WebBaseLoader(\"https://www.linkedin.com/pulse/introduction-retrieval-augmented-generation-rag-elson-mendes-filho-unzve/\")"
      ]
    },
    {
      "cell_type": "code",
      "execution_count": null,
      "metadata": {
        "id": "Jy6y8E6gKcGE"
      },
      "outputs": [],
      "source": [
        "data = loader.load()"
      ]
    },
    {
      "cell_type": "code",
      "execution_count": null,
      "metadata": {
        "colab": {
          "base_uri": "https://localhost:8080/"
        },
        "id": "2THt-J_NKcGE",
        "outputId": "02277dbc-12ca-45e8-e777-2aacb0143c1d"
      },
      "outputs": [
        {
          "output_type": "execute_result",
          "data": {
            "text/plain": [
              "[Document(metadata={'source': 'https://www.linkedin.com/pulse/introduction-retrieval-augmented-generation-rag-elson-mendes-filho-unzve/', 'title': 'An Introduction to Retrieval-Augmented Generation (RAG)', 'description': 'Generative AI, with Large Language Models (LLMs) at its forefront, has significantly transformed the field of Artificial Intelligence. Despite their impressive capabilities in generating human-like text and answering diverse queries, LLMs inherently face limitations.', 'language': 'en'}, page_content='\\n\\n\\n\\n\\n\\n \\n\\n\\n\\n\\n\\n\\n\\n\\n\\n\\n\\n\\n\\n\\n\\nAn Introduction to Retrieval-Augmented Generation (RAG)\\n\\n\\n\\n\\n\\n\\n\\n\\n\\n\\n\\n\\n\\n\\n\\n\\n\\n\\n\\n \\n\\n\\n\\n\\n\\n\\n\\n\\n\\n\\n              Agree & Join LinkedIn\\n            \\n\\n      By clicking Continue to join or sign in, you agree to LinkedIn’s User Agreement, Privacy Policy, and Cookie Policy.\\n    \\n\\n\\n\\n\\n\\n\\n\\n\\n\\n\\n\\n\\n\\n\\n\\n\\n\\n\\n\\n\\n\\n \\n\\n\\n\\n\\n\\n\\n\\n\\n                  Sign in to view more content\\n                \\n\\n                    Create your free account or sign in to continue your search\\n                  \\n \\n\\n\\n\\n \\n \\n\\n\\n\\n              Sign in\\n          \\n\\n\\n\\n \\n\\n\\n\\n\\n\\n\\n\\n                Welcome back\\n                          \\n\\n\\n\\n\\n\\n\\n\\n\\n\\n\\n \\n\\n\\n\\n\\n\\n          Email or phone\\n        \\n\\n\\n\\n\\n\\n\\n\\n\\n\\n          Password\\n        \\n\\n\\nShow\\n\\n\\n\\n\\n\\n \\n\\nForgot password?\\n\\n\\n\\n          Sign in\\n        \\n\\n\\n\\n              or\\n            \\n\\n\\n\\n\\n\\n      By clicking Continue to join or sign in, you agree to LinkedIn’s User Agreement, Privacy Policy, and Cookie Policy.\\n    \\n\\n \\n\\n\\n\\n                New to LinkedIn? Join now\\n\\n\\n\\n \\n\\n\\n\\n \\n\\n\\n                          or\\n                        \\n\\n\\n\\n                    New to LinkedIn? Join now\\n\\n\\n      By clicking Continue to join or sign in, you agree to LinkedIn’s User Agreement, Privacy Policy, and Cookie Policy.\\n    \\n\\n\\n \\n\\n\\n\\n \\n\\n\\n\\n\\n\\n\\n\\n\\n\\n\\n\\n      Skip to main content\\n    \\n\\n\\n\\nLinkedIn\\n\\n\\n\\n\\n\\n\\n\\n\\n\\n\\n        Top Content\\n      \\n\\n\\n\\n\\n\\n\\n\\n        People\\n      \\n\\n\\n\\n\\n\\n\\n\\n        Learning\\n      \\n\\n\\n\\n\\n\\n\\n\\n        Jobs\\n      \\n\\n\\n\\n\\n\\n\\n\\n        Games\\n      \\n\\n\\n\\n\\n\\n          Sign in\\n      \\n\\n      Join now\\n        \\n\\n\\n\\n\\n\\n\\n\\n \\n\\n\\n\\n\\n\\n\\n \\n\\n\\n\\n\\n\\n\\n \\n\\n\\n\\n\\n \\n\\n\\nAn Introduction to Retrieval-Augmented Generation (RAG)\\n\\n\\n\\n\\n\\n\\n\\n\\n\\n\\n\\n                      Report this article\\n                    \\n    \\n\\n\\n\\n\\n \\n\\n\\n\\n\\n\\n              \\n          \\n        Elson Mendes Filho\\n      \\n      \\n          \\n\\n\\n\\n \\n            \\n        Elson Mendes Filho\\n      \\n          \\n\\n              \\n            Data Science  | AI/ML | Innovation | Business Development | Consulting\\n                \\n            \\n\\n\\n                \\n          Published Mar 25, 2025\\n              \\n              \\n \\n\\n\\n              + Follow\\n            \\n\\n\\n\\n\\n\\n\\n\\n\\n\\nGenerative AI, with Large Language Models (LLMs) at its forefront, has significantly transformed the field of Artificial Intelligence. Despite their impressive capabilities in generating human-like text and answering diverse queries, LLMs inherently face limitations. Their knowledge is bound by their training data, leading to a fixed knowledge cutoff date and the potential for \"hallucinations\" – the generation of incorrect information, especially when dealing with complex or specific topics. Also, LLMs often struggle with limited context windows, a lack of in-depth or highly specific knowledge, and can be computationally expensive and slow for certain tasks. I found it fascinating to see how Retrieval-Augmented Generation (RAG) can address these inherent limitations of LLMs.\\n\\n\\n\\n\\n\\nBy strategically integrating the generative power of LLMs with the ability to retrieve information from external sources, RAG offers a compelling path to have a more accurate, contextually rich, and reliable AI, a mechanism I found particularly insightful.\\n\\n\\n\\n\\n\\nRAG works by first retrieving relevant documents or pieces of information from a knowledge base or database and then using this information to augment the input to the LLM. This allows the LLM to generate accurate responses by grounding them in factual and up-to-date information.\\n\\n\\n\\n\\n\\nThe primary function of RAG is to equip LLMs with the ability to:\\n\\n\\n\\n\\n\\n\\n\\nOvercome knowledge limitations: By retrieving relevant information from external sources, to access a wider range of knowledge than what they were trained on.\\nReduce hallucinations: By grounding the generation process in factual information.\\nImprove accuracy and relevance: By providing LLMs with additional context, RAG can help to improve the accuracy and relevance of their responses.\\nEnhance customization: RAG can be used to customize LLMs for specific domains or applications by providing them with access to domain-specific knowledge bases.\\n\\n\\n\\n\\n\\n\\n\\nConsequently, RAG is gaining significant importance across a diverse range of applications.\\n\\n\\n\\n\\n\\n\\n\\n\\n\\n\\nHow RAG Works\\n\\n\\n\\n\\nRAG operates in a three-step process:\\n\\n\\n\\n\\n\\n\\n\\nRetrieval: Given a query, the model retrieves relevant documents or pieces of information from a predefined corpus or database.\\nAugmentation: The retrieved documents are used to augment the input to the generative model, providing it with additional context.\\nGeneration: The model uses both the original query and the retrieved information to generate a response, ensuring that the output is contextually rich and factually grounded.\\n\\n\\n\\n\\n\\n\\n\\n\\n\\n\\n\\n\\n\\n\\n \\n\\n\\n\\n\\n\\n\\n\\n\\n\\nMain Benefits\\n\\n\\n\\n\\nRAG brings several benefits in generating accurate and relevant responses. By pulling information from real data sources, it improves factual accuracy and ensures that answers are based on reliable and current information. It also enhances contextual relevance, making responses more precise and useful. Another key benefit is flexibility, enabling AI solutions to be customized to specific business domains and tasks.\\n\\n\\n\\n\\n\\n\\n\\n\\nApplications\\n\\n\\n\\n\\nRAG has a wide range of applications, including:\\n\\n\\n\\n\\n\\nCustomer Support & Chatbots - RAG helps AI chatbots and virtual assistants by retrieving real-time and accurate information about products and services. This reduces misinformation, enhances user experience, and ensures responses are always up to date.\\n\\n\\n\\n\\n\\nHealthcare & Medical Research - Doctors and researchers benefit from RAG by retrieving and summarizing medical studies, clinical guidelines, and patient data. This helps them make decisions based on the latest evidence.\\n\\n\\n\\n\\n\\nLegal & Compliance Assistance - Law firms and compliance teams use RAG to pull relevant case laws, regulations, and legal precedents, ensuring AI-generated legal insights are accurate and reliable.\\n\\n\\n\\nRecommended by LinkedIn\\n\\n\\n\\n\\nThe Evolution of AI: How Large Language Models Are…\\n\\n\\n                    Aexonic\\n                   \\n\\n                  \\n\\n    \\n    \\n    \\n    \\n    \\n    \\n    \\n    \\n    \\n    \\n    \\n    \\n    \\n    \\n    \\n    \\n\\n    \\n    \\n    \\n    \\n    \\n    \\n    \\n    \\n    \\n    \\n    \\n    \\n    \\n    \\n\\n      8 months ago\\n  \\n                \\n\\n\\n\\n\\n\\n\\n\\nArtificial General Intelligence (AGI): The Quest for…\\n\\n\\n                    Prof. Ahmed Banafa\\n                   \\n\\n                  \\n\\n    \\n    \\n    \\n    \\n    \\n    \\n    \\n    \\n    \\n    \\n    \\n    \\n    \\n    \\n    \\n    \\n\\n    \\n    \\n    \\n    \\n    \\n    \\n    \\n    \\n    \\n    \\n    \\n    \\n    \\n    \\n\\n      1 year ago\\n  \\n                \\n\\n\\n\\n\\n\\n\\n\\nAI Prompt Engineering and ReACT Framework\\n\\n\\n                    Rany ElHousieny, PhDᴬᴮᴰ\\n                   \\n\\n                  \\n\\n    \\n    \\n    \\n    \\n    \\n    \\n    \\n    \\n    \\n    \\n    \\n    \\n    \\n    \\n    \\n    \\n\\n    \\n    \\n    \\n    \\n    \\n    \\n    \\n    \\n    \\n    \\n    \\n    \\n    \\n    \\n\\n      1 year ago\\n  \\n                \\n\\n\\n\\n\\n\\n\\n\\n\\n\\nCode Assistance & Technical Documentation - Developers use RAG-powered assistants to generate code suggestions, troubleshoot errors, and retrieve relevant documentation, improving productivity and accuracy.\\n\\n\\n\\n\\n\\nEducation & E-Learning - RAG enhances personalized learning by generating educational content, answering student queries with current academic resources, and adapting explanations based on context.\\n\\n\\n\\n\\n\\n\\n\\n\\n\\n\\nImplementing RAG\\n\\n\\n\\n\\nTo implement RAG, you\\'ll need to combine a retrieval model, which fetches relevant documents, with a generative model that creates responses based on the retrieved data.\\n\\n\\n\\n\\n\\nThe first step is to select the right models for your needs. For the retrieval component, various tools are available, such as FAISS (for local indexing), Elasticsearch (for broader search capabilities), or Google Cloud Vertex AI Vector Search (for scalable, managed vector search). These tools help fetch relevant documents from your knowledge base. For the generative part, models like GPT-4, LLaMA, DeepSeek R1, T5, or Google Cloud Gemini can be employed The choice of generative model often depends on factors like cost and desired output quality.\\n\\n\\n\\n\\n\\nNext, you’ll need to build your knowledge base. Storing your documents, such as data records, PDFs, reports, and articles, in a structured format that allows for efficient retrieval. This includes breaking down documents into smaller chunks and potentially adding metadata. You can then convert these documents into vector embeddings using tools like OpenAI’s text-embedding-ada-002, Hugging Face’s sentence-transformers, or Google Cloud’s Generative AI Studio. Choosing an embedding model that understands the meaning of your data is key for effective retrieval.\\n\\n\\n\\n\\n\\nWhen a user submits a query, the retriever convert it into an embedding and retrieve the most semantically similar documents using vector search tools such as FAISS, or Google Cloud’s Vertex AI Vector Search.\\n\\n\\n\\n\\n\\nAfter retrieving the relevant information, you feed it into the generative model. You can format the input by combining the retrieved text with the prompt query, like this: \"Based on this information, answer the question: [retrieved text] \\\\n Question: [user query]\". If needed, you can fine-tune the generative model on your specific data to further improve the accuracy and relevance of its responses within your domain.\\n\\n\\n\\n\\n\\n\\n\\n\\n\\n\\n\\n\\n \\n\\n\\n\\n\\nFinally, you will deploy and optimize your RAG system. To improve the accuracy of the initial retrieval, you can use rerankers, such as Cohere Rerank or BGE Rerank, to further refine the order of retrieved documents. Deploy the system as an API using frameworks like FastAPI, LangChain, Google Cloud Vertex AI Endpoints, or LlamaIndex, which simplify the process of building and serving LLM-powered applications. Regularly update your knowledge base with the latest information to ensure the responses remain current. Additionally, consider optimizing your prompts and retrieval strategies for better performance and accuracy.\\n\\n\\n\\n\\n\\n\\n\\n\\n\\n\\nConclusion\\n\\n\\n\\n\\nRetrieval-Augmented Generation (RAG) brings relevant advancements to empower Large Language Models (LLMs). By combining information retrieval with text generation, this approach effectively overcomes key limitations of LLMs, resulting in more accurate, contextually relevant, and up-to-date AI applications. With a growing number of powerful tools and frameworks available across different platforms, AI professionals can now implement and deploy RAG solutions for a wide range of use cases, unlocking new possibilities for intelligent automation and enhanced user experiences.\\n\\n\\n\\n\\n\\nAnother approach, Context-Augmented Generation (CAG), is gaining attention for its ability to enhance AI responses by enriching context without relying on real-time retrieval. Unlike RAG, which dynamically pulls external data, CAG leverages pre-processed contextual information, making it especially useful when real-time access is limited, data remains relatively stable, or the knowledge base is smaller and more focused. Stay tuned for our next article, where we’ll explore how CAG builds upon RAG to further refine AI-generated content.\\n\\n\\n\\n\\n\\n\\nAbout me\\n\\n\\n\\n\\nI am a Senior Data Scientist with global experience in AI, analytics, and business transformation. Passionate about using AI to tackle complex challenges, I have led projects for major enterprises across Latin America and Europe. Currently, I’m implementing Retrieval-Augmented Generation (RAG) and Context-Augmented Generation (CAG) to overcome key limitations of LLMs, making them more contextually relevant for specific use cases.\\n\\n\\n\\n\\n\\nI’m always open to discussions, collaborations, and exchanging insights — let’s connect!\\n\\n\\n \\n\\n \\n\\n\\n\\n \\n\\n\\n\\n \\n\\n\\n\\n\\n \\n\\n\\nLike\\n\\n\\n\\n\\n\\n\\n\\n\\n\\n                  Comment\\n                \\n\\n\\n\\n\\n\\n\\n\\n\\n\\n\\nCopy\\n\\n\\n\\n\\n\\nLinkedIn\\n\\n\\n\\n\\n\\nFacebook\\n\\n\\n\\n\\n\\nTwitter\\n\\n\\n\\n\\n\\n\\n\\n              Share\\n            \\n\\n\\n\\n\\n\\n\\n\\n\\n\\n\\n\\n                    13\\n              \\n\\n\\n \\n\\n \\n\\n\\n\\n \\n\\n\\n\\n\\n\\n\\n \\n\\n\\n        To view or add a comment, sign in\\n\\n\\n\\n\\n              More articles by Elson Mendes Filho\\n            \\n\\n\\n\\n\\n\\n\\n\\n              \\n          \\n        An Introduction to Multi AI Agent Systems\\n      \\n      \\n          \\n\\n\\n\\n \\n\\n\\nMar 4, 2025\\n\\n\\n\\n            \\n        An Introduction to Multi AI Agent Systems\\n      \\n          \\n\\n\\n                  \\n          Artificial Intelligence is evolving rapidly, and one of its most exciting advancements is Multi AI Agent Systems. These…\\n      \\n                \\n\\n\\n\\n\\n\\n\\n\\n\\n\\n                    19\\n              \\n\\n\\n \\n\\n \\n\\n\\n\\n\\n\\n        \\n                5 Comments\\n            \\n      \\n \\n\\n\\n\\n\\n\\n\\n\\n\\n\\n\\n\\n\\n\\n\\nSign in\\nStay updated on your professional world\\n\\n\\n          Sign in\\n        \\n\\n\\n      By clicking Continue to join or sign in, you agree to LinkedIn’s User Agreement, Privacy Policy, and Cookie Policy.\\n    \\n\\n \\n\\n\\n        New to LinkedIn? Join now\\n\\n\\n\\n\\n\\n\\n\\n\\n              Others also viewed\\n            \\n\\n\\n\\n\\n\\n\\n\\n\\n\\n\\n\\n \\n\\n\\n            \\n        Bridging the Knowledge Gap: How RAG and CAG Are Revolutionizing AI Systems\\n      \\n \\n\\n\\n\\n\\n\\n            Sarvex Jatasra\\n          \\n\\n            \\n\\n    \\n    \\n    \\n    \\n    \\n    \\n    \\n    \\n    \\n    \\n    \\n    \\n    \\n    \\n    \\n    \\n\\n    \\n    \\n    \\n    \\n    \\n    \\n    \\n    \\n    \\n    \\n    \\n    \\n    \\n    \\n\\n      5mo\\n  \\n          \\n\\n \\n\\n\\n\\n\\n\\n\\n\\n\\n\\n \\n\\n\\n            \\n        Navigating Large Language Model Reliability For Leaders\\n      \\n \\n\\n\\n\\n\\n\\n            Hank Azarian\\n          \\n\\n            \\n\\n    \\n    \\n    \\n    \\n    \\n    \\n    \\n    \\n    \\n    \\n    \\n    \\n    \\n    \\n    \\n    \\n\\n    \\n    \\n    \\n    \\n    \\n    \\n    \\n    \\n    \\n    \\n    \\n    \\n    \\n    \\n\\n      3mo\\n  \\n          \\n\\n \\n\\n\\n\\n\\n\\n\\n\\n\\n\\n \\n\\n\\n            \\n        How LoRA Streamlines AI Fine-Tuning\\n      \\n \\n\\n\\n\\n\\n\\n            Rudina Seseri\\n          \\n\\n            \\n\\n    \\n    \\n    \\n    \\n    \\n    \\n    \\n    \\n    \\n    \\n    \\n    \\n    \\n    \\n    \\n    \\n\\n    \\n    \\n    \\n    \\n    \\n    \\n    \\n    \\n    \\n    \\n    \\n    \\n    \\n    \\n\\n      9mo\\n  \\n          \\n\\n \\n\\n\\n\\n\\n\\n\\n\\n\\n\\n \\n\\n\\n            \\n        AI Hallucinations: When AI Starts Creating False Realities\\n      \\n \\n\\n\\n\\n\\n\\n            Shailendra Singh\\n          \\n\\n            \\n\\n    \\n    \\n    \\n    \\n    \\n    \\n    \\n    \\n    \\n    \\n    \\n    \\n    \\n    \\n    \\n    \\n\\n    \\n    \\n    \\n    \\n    \\n    \\n    \\n    \\n    \\n    \\n    \\n    \\n    \\n    \\n\\n      5mo\\n  \\n          \\n\\n \\n\\n\\n\\n\\n\\n\\n\\n\\n\\n \\n\\n\\n            \\n        GPT-5 and the Tangled Path Towards Artificial General Intelligence\\n      \\n \\n\\n\\n\\n\\n\\n            Ravi Bhogaraju\\n          \\n\\n            \\n\\n    \\n    \\n    \\n    \\n    \\n    \\n    \\n    \\n    \\n    \\n    \\n    \\n    \\n    \\n    \\n    \\n\\n    \\n    \\n    \\n    \\n    \\n    \\n    \\n    \\n    \\n    \\n    \\n    \\n    \\n    \\n\\n      4mo\\n  \\n          \\n\\n \\n\\n\\n\\n\\n\\n\\n\\n\\n\\n \\n\\n\\n            \\n        Quick read: Generative AI & Large Language Models (LLM) #4\\n      \\n \\n\\n\\n\\n\\n\\n            Ilan Sinai\\n          \\n\\n            \\n\\n    \\n    \\n    \\n    \\n    \\n    \\n    \\n    \\n    \\n    \\n    \\n    \\n    \\n    \\n    \\n    \\n\\n    \\n    \\n    \\n    \\n    \\n    \\n    \\n    \\n    \\n    \\n    \\n    \\n    \\n    \\n\\n      8mo\\n  \\n          \\n\\n \\n\\n\\n\\n\\n\\n\\n\\n\\n\\n \\n\\n\\n            \\n        Unlocking the Power of Retrieval-Augmented Generation (RAG)\\n      \\n \\n\\n\\n\\n\\n\\n            Atul Y.\\n          \\n\\n            \\n\\n    \\n    \\n    \\n    \\n    \\n    \\n    \\n    \\n    \\n    \\n    \\n    \\n    \\n    \\n    \\n    \\n\\n    \\n    \\n    \\n    \\n    \\n    \\n    \\n    \\n    \\n    \\n    \\n    \\n    \\n    \\n\\n      1y\\n  \\n          \\n\\n \\n\\n\\n\\n\\n\\n\\n\\n\\n\\n \\n\\n\\n            \\n        AI vs. EI\\n      \\n \\n\\n\\n\\n\\n\\n            Georges Selvais\\n          \\n\\n            \\n\\n    \\n    \\n    \\n    \\n    \\n    \\n    \\n    \\n    \\n    \\n    \\n    \\n    \\n    \\n    \\n    \\n\\n    \\n    \\n    \\n    \\n    \\n    \\n    \\n    \\n    \\n    \\n    \\n    \\n    \\n    \\n\\n      1y\\n  \\n          \\n\\n \\n\\n\\n\\n\\n\\n\\n\\n\\n\\n \\n\\n\\n            \\n        Introducing The Context and Outputs Library (COOL) Framework For AI Agents:\\n      \\n \\n\\n\\n\\n\\n\\n            Franck Boullier\\n          \\n\\n            \\n\\n    \\n    \\n    \\n    \\n    \\n    \\n    \\n    \\n    \\n    \\n    \\n    \\n    \\n    \\n    \\n    \\n\\n    \\n    \\n    \\n    \\n    \\n    \\n    \\n    \\n    \\n    \\n    \\n    \\n    \\n    \\n\\n      1y\\n  \\n          \\n\\n \\n\\n\\n\\n\\n\\n\\n\\n\\n\\n \\n\\n\\n            \\n        From Buzzwords to Business Value: How LLMs, RAG, and SML Are Transforming Problem-Solving with AI\\n      \\n \\n\\n\\n\\n\\n\\n            Aditya Agrawal\\n          \\n\\n            \\n\\n    \\n    \\n    \\n    \\n    \\n    \\n    \\n    \\n    \\n    \\n    \\n    \\n    \\n    \\n    \\n    \\n\\n    \\n    \\n    \\n    \\n    \\n    \\n    \\n    \\n    \\n    \\n    \\n    \\n    \\n    \\n\\n      10mo\\n  \\n          \\n\\n \\n\\n\\n\\n\\n\\n                Show more\\n              \\n\\n\\n                Show less\\n              \\n\\n\\n\\n\\n\\n\\n\\n              Explore topics\\n            \\n\\n\\n\\n\\n\\n                Sales\\n              \\n\\n\\n\\n                Marketing\\n              \\n\\n\\n\\n                IT Services\\n              \\n\\n\\n\\n                Business Administration\\n              \\n\\n\\n\\n                HR Management\\n              \\n\\n\\n\\n                Engineering\\n              \\n\\n\\n\\n                Soft Skills\\n              \\n\\n\\n\\n              See All\\n            \\n\\n\\n\\n\\n\\n\\n\\n\\n\\n\\n\\n\\nLinkedIn\\n\\n© 2025\\n\\n\\n\\n          \\n          About\\n        \\n        \\n\\n\\n\\n          \\n          Accessibility\\n        \\n        \\n\\n\\n\\n          \\n          User Agreement\\n        \\n        \\n\\n\\n\\n          \\n          Privacy Policy\\n        \\n        \\n\\n\\n\\n          \\n            Your California Privacy Choices\\n          \\n        \\n\\n\\n\\n          \\n          Cookie Policy\\n        \\n        \\n\\n\\n\\n          \\n          Copyright Policy\\n        \\n        \\n\\n\\n\\n          \\n          Brand Policy\\n        \\n        \\n\\n\\n\\n          \\n            Guest Controls\\n          \\n        \\n\\n\\n\\n          \\n          Community Guidelines\\n        \\n        \\n\\n\\n\\n\\n\\n\\n\\n\\n\\n                العربية (Arabic)\\n            \\n\\n\\n\\n\\n                বাংলা (Bangla)\\n            \\n\\n\\n\\n\\n                Čeština (Czech)\\n            \\n\\n\\n\\n\\n                Dansk (Danish)\\n            \\n\\n\\n\\n\\n                Deutsch (German)\\n            \\n\\n\\n\\n\\n                Ελληνικά (Greek)\\n            \\n\\n\\n\\n\\nEnglish (English)\\n\\n\\n\\n\\n\\n                Español (Spanish)\\n            \\n\\n\\n\\n\\n                فارسی (Persian)\\n            \\n\\n\\n\\n\\n                Suomi (Finnish)\\n            \\n\\n\\n\\n\\n                Français (French)\\n            \\n\\n\\n\\n\\n                हिंदी (Hindi)\\n            \\n\\n\\n\\n\\n                Magyar (Hungarian)\\n            \\n\\n\\n\\n\\n                Bahasa Indonesia (Indonesian)\\n            \\n\\n\\n\\n\\n                Italiano (Italian)\\n            \\n\\n\\n\\n\\n                עברית (Hebrew)\\n            \\n\\n\\n\\n\\n                日本語 (Japanese)\\n            \\n\\n\\n\\n\\n                한국어 (Korean)\\n            \\n\\n\\n\\n\\n                मराठी (Marathi)\\n            \\n\\n\\n\\n\\n                Bahasa Malaysia (Malay)\\n            \\n\\n\\n\\n\\n                Nederlands (Dutch)\\n            \\n\\n\\n\\n\\n                Norsk (Norwegian)\\n            \\n\\n\\n\\n\\n                ਪੰਜਾਬੀ (Punjabi)\\n            \\n\\n\\n\\n\\n                Polski (Polish)\\n            \\n\\n\\n\\n\\n                Português (Portuguese)\\n            \\n\\n\\n\\n\\n                Română (Romanian)\\n            \\n\\n\\n\\n\\n                Русский (Russian)\\n            \\n\\n\\n\\n\\n                Svenska (Swedish)\\n            \\n\\n\\n\\n\\n                తెలుగు (Telugu)\\n            \\n\\n\\n\\n\\n                ภาษาไทย (Thai)\\n            \\n\\n\\n\\n\\n                Tagalog (Tagalog)\\n            \\n\\n\\n\\n\\n                Türkçe (Turkish)\\n            \\n\\n\\n\\n\\n                Українська (Ukrainian)\\n            \\n\\n\\n\\n\\n                Tiếng Việt (Vietnamese)\\n            \\n\\n\\n\\n\\n                简体中文 (Chinese (Simplified))\\n            \\n\\n\\n\\n\\n                正體中文 (Chinese (Traditional))\\n            \\n\\n\\n\\n\\n\\n            Language\\n          \\n\\n\\n\\n\\n\\n \\n\\n\\n\\n\\n\\n\\n\\n\\n\\n\\n\\n\\n\\n\\n\\n\\n')]"
            ]
          },
          "metadata": {},
          "execution_count": 144
        }
      ],
      "source": [
        "data"
      ]
    },
    {
      "cell_type": "markdown",
      "metadata": {
        "id": "GmTORR4aKcGE"
      },
      "source": [
        "## Load from multiple web pages\n"
      ]
    },
    {
      "cell_type": "markdown",
      "metadata": {
        "id": "yoUK49V0KcGE"
      },
      "source": [
        "You can load multiple webpages simultaneously by passing a list of URLs to the loader. This will return a list of documents corresponding to the order of the URLs provided.\n"
      ]
    },
    {
      "cell_type": "code",
      "execution_count": 14,
      "metadata": {
        "id": "MJAf2NRfKcGF"
      },
      "outputs": [],
      "source": [
        "loader = WebBaseLoader([\"https://www.theverge.com/ai-artificial-intelligence/771356/deepseek-new-ai-model-2025\",\n",
        "                        \"https://www.theverge.com/2024/4/18/24133808/meta-ai-assistant-llama-3-chatgpt-openai-rival\",\n",
        "                        \"https://en.wikipedia.org/wiki/Artificial_intelligence\"])\n",
        "\n",
        "data = loader.load()"
      ]
    },
    {
      "cell_type": "code",
      "source": [
        "# Preview each document with metadata and first characters\n",
        "for i, doc in enumerate(data):\n",
        "    words = len(doc.page_content.split())\n",
        "    print(f\"Doc {i+1} ({words} words) | Metada: {doc.metadata}\")\n",
        "    snippet = doc.page_content[:100]\n",
        "    print(f\"Snippet: {snippet}...\\n\")"
      ],
      "metadata": {
        "colab": {
          "base_uri": "https://localhost:8080/"
        },
        "id": "SKdJ_NcWUVEn",
        "outputId": "c02582a3-1443-4151-a0ab-3477221dcbc4"
      },
      "execution_count": 17,
      "outputs": [
        {
          "output_type": "stream",
          "name": "stdout",
          "text": [
            "Doc 1 (595 words) | Metada: {'source': 'https://www.theverge.com/ai-artificial-intelligence/771356/deepseek-new-ai-model-2025', 'title': 'DeepSeek is planning to drop its next AI model by the end of 2025, beefing up agent features. | The Verge', 'description': 'Founder Liang Wenfeng is pushing developers to unveil the new system in the final quarter of the year, Bloomberg reports. The model, a successor to the industry-shaking R1, is expected to be able to do more complex, multistep tasks without constant monitoring from users.&nbsp;Right now, AI agents are still slow, glitchy, and far from ideal, but incremental improvements continue to drive the hype.\\n[Link: China’s DeepSeek Preps AI Agent for End-2025 to Rival OpenAI | https://www.bloomberg.com/news/articles/2025-09-04/deepseek-targets-ai-agent-release-by-end-of-year-to-rival-openai | Bloomberg]', 'language': 'en-US'}\n",
            "Snippet: DeepSeek is planning to drop its next AI model by the end of 2025, beefing up agent features. | The ...\n",
            "\n",
            "Doc 2 (1961 words) | Metada: {'source': 'https://www.theverge.com/2024/4/18/24133808/meta-ai-assistant-llama-3-chatgpt-openai-rival', 'title': 'Meta releases new AI assistant powered by Llama 3 model | The Verge', 'description': 'Meta released Llama 3 and is expanding access to the Meta AI bot. Meta CEO Mark Zuckerberg says the company has built “the most intelligent AI assistant” available for free.', 'language': 'en-US'}\n",
            "Snippet: Meta releases new AI assistant powered by Llama 3 model | The VergeSkip to main contentThe homepageT...\n",
            "\n",
            "Doc 3 (32648 words) | Metada: {'source': 'https://en.wikipedia.org/wiki/Artificial_intelligence', 'title': 'Artificial intelligence - Wikipedia', 'language': 'en'}\n",
            "Snippet: \n",
            "\n",
            "\n",
            "\n",
            "Artificial intelligence - Wikipedia\n",
            "\n",
            "\n",
            "\n",
            "\n",
            "\n",
            "\n",
            "\n",
            "\n",
            "\n",
            "\n",
            "\n",
            "\n",
            "\n",
            "\n",
            "\n",
            "\n",
            "\n",
            "\n",
            "\n",
            "\n",
            "\n",
            "\n",
            "\n",
            "\n",
            "\n",
            "\n",
            "Jump to content\n",
            "\n",
            "\n",
            "\n",
            "\n",
            "\n",
            "\n",
            "\n",
            "Main menu\n",
            "\n",
            "...\n",
            "\n"
          ]
        }
      ]
    },
    {
      "cell_type": "markdown",
      "metadata": {
        "id": "tfGn-OXTKcGF"
      },
      "source": [
        "## Load from WORD files\n"
      ]
    },
    {
      "cell_type": "markdown",
      "metadata": {
        "id": "Gv-gSlQRKcGF"
      },
      "source": [
        "`Docx2txtLoader` is utilized to convert Word documents into a document format suitable for further processing.\n"
      ]
    },
    {
      "cell_type": "code",
      "execution_count": 5,
      "metadata": {
        "colab": {
          "base_uri": "https://localhost:8080/"
        },
        "id": "tBDxS1IbKcGF",
        "outputId": "6eaa3278-431d-4752-d6e8-bd7bb8ca1551"
      },
      "outputs": [
        {
          "output_type": "stream",
          "name": "stdout",
          "text": [
            "--2025-09-05 10:02:07--  https://calibre-ebook.com/downloads/demos/demo.docx\n",
            "Resolving calibre-ebook.com (calibre-ebook.com)... 166.78.105.155, 2001:4801:7817:72:be76:4eff:fe10:f43a\n",
            "Connecting to calibre-ebook.com (calibre-ebook.com)|166.78.105.155|:443... connected.\n",
            "HTTP request sent, awaiting response... 200 OK\n",
            "Length: 1311881 (1.3M) [application/vnd.openxmlformats-officedocument.wordprocessingml.document]\n",
            "Saving to: ‘demo.docx’\n",
            "\n",
            "demo.docx           100%[===================>]   1.25M  2.15MB/s    in 0.6s    \n",
            "\n",
            "2025-09-05 10:02:08 (2.15 MB/s) - ‘demo.docx’ saved [1311881/1311881]\n",
            "\n"
          ]
        }
      ],
      "source": [
        "!wget \"https://calibre-ebook.com/downloads/demos/demo.docx\""
      ]
    },
    {
      "cell_type": "code",
      "execution_count": 20,
      "metadata": {
        "id": "RO0qLkkuKcGF"
      },
      "outputs": [],
      "source": [
        "loader = Docx2txtLoader(\"/content/demo.docx\")\n",
        "data = loader.load()"
      ]
    },
    {
      "cell_type": "code",
      "execution_count": 26,
      "metadata": {
        "colab": {
          "base_uri": "https://localhost:8080/"
        },
        "id": "dS3Zco-mKcGF",
        "outputId": "e6d01df8-a4f3-4ada-fd96-dd18833e1fc1"
      },
      "outputs": [
        {
          "output_type": "stream",
          "name": "stdout",
          "text": [
            "Source: /content/demo.docx\n",
            "Length: 9271 characters | 1553 words\n",
            "Snippet: Demonstration of DOCX support in calibre\n",
            "\n",
            "This document demonstrates the ability of the calibre DOCX Input plugin to convert the various typographic features in a Microsoft Word (2007 and newer) document.  ...\n"
          ]
        }
      ],
      "source": [
        "text = data[0].page_content\n",
        "\n",
        "# Get lengths\n",
        "char_count = len(text)\n",
        "word_count = len(text.split())\n",
        "\n",
        "# Create a short snippet\n",
        "snippet = text[:205]\n",
        "\n",
        "print(\"Source:\", data[0].metadata.get('source'))\n",
        "print(f\"Length: {char_count} characters | {word_count} words\")\n",
        "print(\"Snippet:\", snippet, \"...\")"
      ]
    },
    {
      "cell_type": "markdown",
      "metadata": {
        "id": "edf5lB1RKcGF"
      },
      "source": [
        "## Load from Unstructured Files\n"
      ]
    },
    {
      "cell_type": "markdown",
      "metadata": {
        "id": "G4fa4sUVKcGF"
      },
      "source": [
        "Sometimes, we need to load content from various text sources and formats without writing a separate loader for each one. Additionally, when a new file format emerges, we want to save time by not having to write a new loader for it. `UnstructuredFileLoader` addresses this need by supporting the loading of multiple file types. Currently, `UnstructuredFileLoader` can handle text files, PowerPoints, HTML, PDFs, images, and more.\n"
      ]
    },
    {
      "cell_type": "markdown",
      "metadata": {
        "id": "4L6PuY9PKcGF"
      },
      "source": [
        "For example, we can load `.txt` file.\n"
      ]
    },
    {
      "cell_type": "code",
      "source": [
        "!wget \"https://www.gutenberg.org/files/1065/1065-0.txt\""
      ],
      "metadata": {
        "colab": {
          "base_uri": "https://localhost:8080/"
        },
        "id": "irviwlVGwFcm",
        "outputId": "71f4e033-2edd-485d-dbc3-758a9dc859ad"
      },
      "execution_count": 27,
      "outputs": [
        {
          "output_type": "stream",
          "name": "stdout",
          "text": [
            "--2025-09-05 10:27:56--  https://www.gutenberg.org/files/1065/1065-0.txt\n",
            "Resolving www.gutenberg.org (www.gutenberg.org)... 152.19.134.47, 2610:28:3090:3000:0:bad:cafe:47\n",
            "Connecting to www.gutenberg.org (www.gutenberg.org)|152.19.134.47|:443... connected.\n",
            "HTTP request sent, awaiting response... 200 OK\n",
            "Length: 7582 (7.4K) [text/plain]\n",
            "Saving to: ‘1065-0.txt’\n",
            "\n",
            "\r1065-0.txt            0%[                    ]       0  --.-KB/s               \r1065-0.txt          100%[===================>]   7.40K  --.-KB/s    in 0s      \n",
            "\n",
            "2025-09-05 10:27:57 (1.36 GB/s) - ‘1065-0.txt’ saved [7582/7582]\n",
            "\n"
          ]
        }
      ]
    },
    {
      "cell_type": "code",
      "execution_count": 33,
      "metadata": {
        "id": "tnA1dxT_KcGF"
      },
      "outputs": [],
      "source": [
        "loader = UnstructuredFileLoader(\"/content/1065-0.txt\")\n",
        "data = loader.load()"
      ]
    },
    {
      "cell_type": "code",
      "source": [
        "text = data[0].page_content\n",
        "\n",
        "# Get lengths\n",
        "char_count = len(text)\n",
        "word_count = len(text.split())\n",
        "\n",
        "# Create a short snippet\n",
        "snippet = text[:201]\n",
        "\n",
        "print(\"Source:\", data[0].metadata.get('source'))\n",
        "print(f\"Length: {char_count} characters | {word_count} words\")\n",
        "print(\"Snippet:\", snippet, \"...\")"
      ],
      "metadata": {
        "colab": {
          "base_uri": "https://localhost:8080/"
        },
        "id": "1z0ly6UmbET6",
        "outputId": "30e412a7-fef7-4e79-b412-d638a05456b7"
      },
      "execution_count": 31,
      "outputs": [
        {
          "output_type": "stream",
          "name": "stdout",
          "text": [
            "Source: /content/1065-0.txt\n",
            "Length: 6370 characters | 1093 words\n",
            "Snippet: *** START OF THE PROJECT GUTENBERG EBOOK 1065 ***\n",
            "\n",
            "The Raven\n",
            "\n",
            "by\n",
            "\n",
            "Edgar Allan Poe\n",
            "\n",
            "Once upon a midnight dreary, while I pondered, weak and weary, Over many a quaint and curious volume of forgotten lore ...\n"
          ]
        }
      ]
    },
    {
      "cell_type": "markdown",
      "metadata": {
        "id": "EQi6nqNTKcGF"
      },
      "source": [
        "We also can load `.md` file.\n"
      ]
    },
    {
      "cell_type": "code",
      "execution_count": 34,
      "metadata": {
        "id": "7eO45cPkKcGF"
      },
      "outputs": [],
      "source": [
        "loader = UnstructuredFileLoader(\"/content/README.md\")\n",
        "data = loader.load()"
      ]
    },
    {
      "cell_type": "code",
      "source": [
        "text = data[0].page_content\n",
        "\n",
        "# Get lengths\n",
        "char_count = len(text)\n",
        "word_count = len(text.split())\n",
        "\n",
        "# Create a short snippet\n",
        "snippet = text[:201]\n",
        "\n",
        "print(\"Source:\", data[0].metadata.get('source'))\n",
        "print(f\"Length: {char_count} characters | {word_count} words\")\n",
        "print(\"Snippet:\", snippet, \"...\")"
      ],
      "metadata": {
        "colab": {
          "base_uri": "https://localhost:8080/"
        },
        "id": "FC7jV2zQb1LU",
        "outputId": "12fa037f-0dc9-4e64-8800-b4648aeff32a"
      },
      "execution_count": 35,
      "outputs": [
        {
          "output_type": "stream",
          "name": "stdout",
          "text": [
            "Source: /content/README.md\n",
            "Length: 5043 characters | 677 words\n",
            "Snippet: Python_ML\n",
            "\n",
            "This repository contains a collection of Python notebooks illustrating fundamental concepts and practical applications in machine learning. It is structured into five modules, each focusing  ...\n"
          ]
        }
      ]
    },
    {
      "cell_type": "markdown",
      "metadata": {
        "id": "eN-E7OECKcGF"
      },
      "source": [
        "#### Multiple files with different formats\n"
      ]
    },
    {
      "cell_type": "markdown",
      "metadata": {
        "id": "bg3hjS_CKcGF"
      },
      "source": [
        "We can even load a list of files with different formats.\n"
      ]
    },
    {
      "cell_type": "code",
      "execution_count": 39,
      "metadata": {
        "id": "t2dmasZsKcGF"
      },
      "outputs": [],
      "source": [
        "files = [\"/content/README.md\", \"/content/1065-0.txt\"]"
      ]
    },
    {
      "cell_type": "code",
      "execution_count": 40,
      "metadata": {
        "id": "jJxXa8SWKcGF"
      },
      "outputs": [],
      "source": [
        "loader = UnstructuredFileLoader(files)\n",
        "data = loader.load()"
      ]
    },
    {
      "cell_type": "code",
      "execution_count": 46,
      "metadata": {
        "id": "jfO4nFSkKcGF",
        "outputId": "34a72599-e82c-4e21-ef1b-bbd8dc196bee",
        "colab": {
          "base_uri": "https://localhost:8080/"
        }
      },
      "outputs": [
        {
          "output_type": "stream",
          "name": "stdout",
          "text": [
            "Source: ['/content/README.md', '/content/1065-0.txt']\n",
            "Length: 11415 characters | 1770 words\n",
            "Snippet: Python_ML\n",
            "\n",
            "This repository contains a collection of Python notebooks illustrating fundamental concepts and practical applications in machine learning. ...\n"
          ]
        }
      ],
      "source": [
        "# Preview the document with metadata and first characters\n",
        "# UnstructuredFileLoader returns just one Document (the default).\n",
        "text = data[0].page_content\n",
        "char_count = len(text)\n",
        "word_count = len(text.split())\n",
        "snippet = text[:150]\n",
        "\n",
        "print(\"Source:\", data[0].metadata.get('source'))\n",
        "print(f\"Length: {char_count} characters | {word_count} words\")\n",
        "print(\"Snippet:\", snippet, \"...\")"
      ]
    },
    {
      "cell_type": "markdown",
      "metadata": {
        "id": "g3O-xPwGKcGF"
      },
      "source": [
        "## Arxiv papers\n"
      ]
    },
    {
      "cell_type": "markdown",
      "metadata": {
        "id": "cOVR2C3MKcGG"
      },
      "source": [
        "Sometimes we have paper that we want to load from Arxiv, can you load a paper using `ArxivLoader`.\n"
      ]
    },
    {
      "cell_type": "code",
      "execution_count": 50,
      "metadata": {
        "id": "ZAemsr8eKcGG"
      },
      "outputs": [],
      "source": [
        "docs = ArxivLoader(query=\"2509.04139\", load_max_docs=2).load()"
      ]
    },
    {
      "cell_type": "code",
      "source": [
        "for i, doc in enumerate(docs):\n",
        "    text = doc.page_content\n",
        "    char_count = len(text)\n",
        "    word_count = len(text.split())\n",
        "    summary = doc.metadata.get('Summary', '')[:500]\n",
        "\n",
        "    print(f\"Doc {i+1} | Title: {doc.metadata.get('Title')}\")\n",
        "    print(f\"Authors: {doc.metadata.get('Authors')}\")\n",
        "    print(f\"Published: {doc.metadata.get('Published')}\")\n",
        "    print(f\"Length: {char_count} characters | {word_count} words\")\n",
        "    print(f\"Summary (500 chars): {summary}...\")"
      ],
      "metadata": {
        "colab": {
          "base_uri": "https://localhost:8080/"
        },
        "id": "5ru33pIliOM7",
        "outputId": "89a5fe91-4780-4d3a-cc07-64634613c839"
      },
      "execution_count": 56,
      "outputs": [
        {
          "output_type": "stream",
          "name": "stdout",
          "text": [
            "Doc 1 | Title: Enhancing Technical Documents Retrieval for RAG\n",
            "Authors: Songjiang Lai, Tsun-Hin Cheung, Ka-Chun Fung, Kaiwen Xue, Kwan-Ho Lin, Yan-Ming Choi, Vincent Ng, Kin-Man Lam\n",
            "Published: 2025-09-04\n",
            "Length: 27404 characters | 3658 words\n",
            "Summary (500 chars): In this paper, we introduce Technical-Embeddings, a novel framework designed\n",
            "to optimize semantic retrieval in technical documentation, with applications in\n",
            "both hardware and software development. Our approach addresses the challenges\n",
            "of understanding and retrieving complex technical content by leveraging the\n",
            "capabilities of Large Language Models (LLMs). First, we enhance user queries by\n",
            "generating expanded representations that better capture user intent and improve\n",
            "dataset diversity, thereby en...\n"
          ]
        }
      ]
    }
  ],
  "metadata": {
    "kernelspec": {
      "display_name": "Python 3 (ipykernel)",
      "language": "python",
      "name": "python3"
    },
    "language_info": {
      "codemirror_mode": {
        "name": "ipython",
        "version": 3
      },
      "file_extension": ".py",
      "mimetype": "text/x-python",
      "name": "python",
      "nbconvert_exporter": "python",
      "pygments_lexer": "ipython3",
      "version": "3.12.8"
    },
    "prev_pub_hash": "8ccd87848ab9e79d16c766e68c2292b6bf1eff17098bb52f22c15a7b9da59990",
    "colab": {
      "provenance": [],
      "collapsed_sections": [
        "QQIhxQgzKcF4",
        "X6_vVJ7HKcF5",
        "bphK8DhiKcGC",
        "woIDnISuKcGD",
        "I2CU8DePKcGD",
        "oiD8oWfoKcGE",
        "9e34B6mKKcGE",
        "GmTORR4aKcGE",
        "tfGn-OXTKcGF",
        "edf5lB1RKcGF"
      ]
    }
  },
  "nbformat": 4,
  "nbformat_minor": 0
}